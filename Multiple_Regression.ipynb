{
  "nbformat": 4,
  "nbformat_minor": 0,
  "metadata": {
    "colab": {
      "name": "Multiple Regression.ipynb",
      "provenance": [],
      "collapsed_sections": [],
      "authorship_tag": "ABX9TyOMWJcEli4UHeRVece62YUh",
      "include_colab_link": true
    },
    "kernelspec": {
      "name": "python3",
      "display_name": "Python 3"
    },
    "language_info": {
      "name": "python"
    }
  },
  "cells": [
    {
      "cell_type": "markdown",
      "metadata": {
        "id": "view-in-github",
        "colab_type": "text"
      },
      "source": [
        "<a href=\"https://colab.research.google.com/github/milu234/Project_Perseverance/blob/main/Multiple_Regression.ipynb\" target=\"_parent\"><img src=\"https://colab.research.google.com/assets/colab-badge.svg\" alt=\"Open In Colab\"/></a>"
      ]
    },
    {
      "cell_type": "markdown",
      "metadata": {
        "id": "rqjtOMLfIlHd"
      },
      "source": [
        "# **Multiple Regression**"
      ]
    },
    {
      "cell_type": "markdown",
      "metadata": {
        "id": "5uZeBkdYIsDT"
      },
      "source": [
        "Simple linear Regression\n",
        "\n",
        "Multiple Linear Regression"
      ]
    },
    {
      "cell_type": "code",
      "metadata": {
        "id": "iS44J0tIISW5"
      },
      "source": [
        "import numpy as np\n",
        "import pandas as pd\n",
        "import matplotlib.pyplot as plt\n",
        "%matplotlib inline\n",
        "import seaborn as sns\n",
        "import sklearn"
      ],
      "execution_count": 63,
      "outputs": []
    },
    {
      "cell_type": "code",
      "metadata": {
        "id": "JVFEYq86JL0p"
      },
      "source": [
        "from sklearn.datasets import load_boston"
      ],
      "execution_count": 64,
      "outputs": []
    },
    {
      "cell_type": "code",
      "metadata": {
        "id": "yAYgDIAdZPzu"
      },
      "source": [
        "boston_data = load_boston()"
      ],
      "execution_count": 65,
      "outputs": []
    },
    {
      "cell_type": "code",
      "metadata": {
        "id": "mgJdOoUsZTRn"
      },
      "source": [
        "df = pd.DataFrame(boston_data.data, columns=boston_data.feature_names)"
      ],
      "execution_count": 66,
      "outputs": []
    },
    {
      "cell_type": "code",
      "metadata": {
        "colab": {
          "base_uri": "https://localhost:8080/",
          "height": 195
        },
        "id": "49Fl7ynfZ0PO",
        "outputId": "1e94fa7e-b91e-4506-b7ce-f2454366e084"
      },
      "source": [
        "df.head()"
      ],
      "execution_count": 67,
      "outputs": [
        {
          "output_type": "execute_result",
          "data": {
            "text/html": [
              "<div>\n",
              "<style scoped>\n",
              "    .dataframe tbody tr th:only-of-type {\n",
              "        vertical-align: middle;\n",
              "    }\n",
              "\n",
              "    .dataframe tbody tr th {\n",
              "        vertical-align: top;\n",
              "    }\n",
              "\n",
              "    .dataframe thead th {\n",
              "        text-align: right;\n",
              "    }\n",
              "</style>\n",
              "<table border=\"1\" class=\"dataframe\">\n",
              "  <thead>\n",
              "    <tr style=\"text-align: right;\">\n",
              "      <th></th>\n",
              "      <th>CRIM</th>\n",
              "      <th>ZN</th>\n",
              "      <th>INDUS</th>\n",
              "      <th>CHAS</th>\n",
              "      <th>NOX</th>\n",
              "      <th>RM</th>\n",
              "      <th>AGE</th>\n",
              "      <th>DIS</th>\n",
              "      <th>RAD</th>\n",
              "      <th>TAX</th>\n",
              "      <th>PTRATIO</th>\n",
              "      <th>B</th>\n",
              "      <th>LSTAT</th>\n",
              "    </tr>\n",
              "  </thead>\n",
              "  <tbody>\n",
              "    <tr>\n",
              "      <th>0</th>\n",
              "      <td>0.00632</td>\n",
              "      <td>18.0</td>\n",
              "      <td>2.31</td>\n",
              "      <td>0.0</td>\n",
              "      <td>0.538</td>\n",
              "      <td>6.575</td>\n",
              "      <td>65.2</td>\n",
              "      <td>4.0900</td>\n",
              "      <td>1.0</td>\n",
              "      <td>296.0</td>\n",
              "      <td>15.3</td>\n",
              "      <td>396.90</td>\n",
              "      <td>4.98</td>\n",
              "    </tr>\n",
              "    <tr>\n",
              "      <th>1</th>\n",
              "      <td>0.02731</td>\n",
              "      <td>0.0</td>\n",
              "      <td>7.07</td>\n",
              "      <td>0.0</td>\n",
              "      <td>0.469</td>\n",
              "      <td>6.421</td>\n",
              "      <td>78.9</td>\n",
              "      <td>4.9671</td>\n",
              "      <td>2.0</td>\n",
              "      <td>242.0</td>\n",
              "      <td>17.8</td>\n",
              "      <td>396.90</td>\n",
              "      <td>9.14</td>\n",
              "    </tr>\n",
              "    <tr>\n",
              "      <th>2</th>\n",
              "      <td>0.02729</td>\n",
              "      <td>0.0</td>\n",
              "      <td>7.07</td>\n",
              "      <td>0.0</td>\n",
              "      <td>0.469</td>\n",
              "      <td>7.185</td>\n",
              "      <td>61.1</td>\n",
              "      <td>4.9671</td>\n",
              "      <td>2.0</td>\n",
              "      <td>242.0</td>\n",
              "      <td>17.8</td>\n",
              "      <td>392.83</td>\n",
              "      <td>4.03</td>\n",
              "    </tr>\n",
              "    <tr>\n",
              "      <th>3</th>\n",
              "      <td>0.03237</td>\n",
              "      <td>0.0</td>\n",
              "      <td>2.18</td>\n",
              "      <td>0.0</td>\n",
              "      <td>0.458</td>\n",
              "      <td>6.998</td>\n",
              "      <td>45.8</td>\n",
              "      <td>6.0622</td>\n",
              "      <td>3.0</td>\n",
              "      <td>222.0</td>\n",
              "      <td>18.7</td>\n",
              "      <td>394.63</td>\n",
              "      <td>2.94</td>\n",
              "    </tr>\n",
              "    <tr>\n",
              "      <th>4</th>\n",
              "      <td>0.06905</td>\n",
              "      <td>0.0</td>\n",
              "      <td>2.18</td>\n",
              "      <td>0.0</td>\n",
              "      <td>0.458</td>\n",
              "      <td>7.147</td>\n",
              "      <td>54.2</td>\n",
              "      <td>6.0622</td>\n",
              "      <td>3.0</td>\n",
              "      <td>222.0</td>\n",
              "      <td>18.7</td>\n",
              "      <td>396.90</td>\n",
              "      <td>5.33</td>\n",
              "    </tr>\n",
              "  </tbody>\n",
              "</table>\n",
              "</div>"
            ],
            "text/plain": [
              "      CRIM    ZN  INDUS  CHAS    NOX  ...  RAD    TAX  PTRATIO       B  LSTAT\n",
              "0  0.00632  18.0   2.31   0.0  0.538  ...  1.0  296.0     15.3  396.90   4.98\n",
              "1  0.02731   0.0   7.07   0.0  0.469  ...  2.0  242.0     17.8  396.90   9.14\n",
              "2  0.02729   0.0   7.07   0.0  0.469  ...  2.0  242.0     17.8  392.83   4.03\n",
              "3  0.03237   0.0   2.18   0.0  0.458  ...  3.0  222.0     18.7  394.63   2.94\n",
              "4  0.06905   0.0   2.18   0.0  0.458  ...  3.0  222.0     18.7  396.90   5.33\n",
              "\n",
              "[5 rows x 13 columns]"
            ]
          },
          "metadata": {
            "tags": []
          },
          "execution_count": 67
        }
      ]
    },
    {
      "cell_type": "code",
      "metadata": {
        "colab": {
          "base_uri": "https://localhost:8080/"
        },
        "id": "tEpmGM6cZ4Xf",
        "outputId": "2854bf42-9861-434a-ccb2-de23399764f8"
      },
      "source": [
        "df.shape"
      ],
      "execution_count": 68,
      "outputs": [
        {
          "output_type": "execute_result",
          "data": {
            "text/plain": [
              "(506, 13)"
            ]
          },
          "metadata": {
            "tags": []
          },
          "execution_count": 68
        }
      ]
    },
    {
      "cell_type": "code",
      "metadata": {
        "id": "r2QssPcIZ6qd"
      },
      "source": [
        "X = df"
      ],
      "execution_count": 69,
      "outputs": []
    },
    {
      "cell_type": "code",
      "metadata": {
        "id": "x8jl50QRZ9Kj"
      },
      "source": [
        "y = boston_data.target"
      ],
      "execution_count": 70,
      "outputs": []
    },
    {
      "cell_type": "code",
      "metadata": {
        "colab": {
          "base_uri": "https://localhost:8080/"
        },
        "id": "UU2fC0NRaAIu",
        "outputId": "cdc219e1-00fb-4931-9f6c-d9a6a64d1042"
      },
      "source": [
        "y"
      ],
      "execution_count": 71,
      "outputs": [
        {
          "output_type": "execute_result",
          "data": {
            "text/plain": [
              "array([24. , 21.6, 34.7, 33.4, 36.2, 28.7, 22.9, 27.1, 16.5, 18.9, 15. ,\n",
              "       18.9, 21.7, 20.4, 18.2, 19.9, 23.1, 17.5, 20.2, 18.2, 13.6, 19.6,\n",
              "       15.2, 14.5, 15.6, 13.9, 16.6, 14.8, 18.4, 21. , 12.7, 14.5, 13.2,\n",
              "       13.1, 13.5, 18.9, 20. , 21. , 24.7, 30.8, 34.9, 26.6, 25.3, 24.7,\n",
              "       21.2, 19.3, 20. , 16.6, 14.4, 19.4, 19.7, 20.5, 25. , 23.4, 18.9,\n",
              "       35.4, 24.7, 31.6, 23.3, 19.6, 18.7, 16. , 22.2, 25. , 33. , 23.5,\n",
              "       19.4, 22. , 17.4, 20.9, 24.2, 21.7, 22.8, 23.4, 24.1, 21.4, 20. ,\n",
              "       20.8, 21.2, 20.3, 28. , 23.9, 24.8, 22.9, 23.9, 26.6, 22.5, 22.2,\n",
              "       23.6, 28.7, 22.6, 22. , 22.9, 25. , 20.6, 28.4, 21.4, 38.7, 43.8,\n",
              "       33.2, 27.5, 26.5, 18.6, 19.3, 20.1, 19.5, 19.5, 20.4, 19.8, 19.4,\n",
              "       21.7, 22.8, 18.8, 18.7, 18.5, 18.3, 21.2, 19.2, 20.4, 19.3, 22. ,\n",
              "       20.3, 20.5, 17.3, 18.8, 21.4, 15.7, 16.2, 18. , 14.3, 19.2, 19.6,\n",
              "       23. , 18.4, 15.6, 18.1, 17.4, 17.1, 13.3, 17.8, 14. , 14.4, 13.4,\n",
              "       15.6, 11.8, 13.8, 15.6, 14.6, 17.8, 15.4, 21.5, 19.6, 15.3, 19.4,\n",
              "       17. , 15.6, 13.1, 41.3, 24.3, 23.3, 27. , 50. , 50. , 50. , 22.7,\n",
              "       25. , 50. , 23.8, 23.8, 22.3, 17.4, 19.1, 23.1, 23.6, 22.6, 29.4,\n",
              "       23.2, 24.6, 29.9, 37.2, 39.8, 36.2, 37.9, 32.5, 26.4, 29.6, 50. ,\n",
              "       32. , 29.8, 34.9, 37. , 30.5, 36.4, 31.1, 29.1, 50. , 33.3, 30.3,\n",
              "       34.6, 34.9, 32.9, 24.1, 42.3, 48.5, 50. , 22.6, 24.4, 22.5, 24.4,\n",
              "       20. , 21.7, 19.3, 22.4, 28.1, 23.7, 25. , 23.3, 28.7, 21.5, 23. ,\n",
              "       26.7, 21.7, 27.5, 30.1, 44.8, 50. , 37.6, 31.6, 46.7, 31.5, 24.3,\n",
              "       31.7, 41.7, 48.3, 29. , 24. , 25.1, 31.5, 23.7, 23.3, 22. , 20.1,\n",
              "       22.2, 23.7, 17.6, 18.5, 24.3, 20.5, 24.5, 26.2, 24.4, 24.8, 29.6,\n",
              "       42.8, 21.9, 20.9, 44. , 50. , 36. , 30.1, 33.8, 43.1, 48.8, 31. ,\n",
              "       36.5, 22.8, 30.7, 50. , 43.5, 20.7, 21.1, 25.2, 24.4, 35.2, 32.4,\n",
              "       32. , 33.2, 33.1, 29.1, 35.1, 45.4, 35.4, 46. , 50. , 32.2, 22. ,\n",
              "       20.1, 23.2, 22.3, 24.8, 28.5, 37.3, 27.9, 23.9, 21.7, 28.6, 27.1,\n",
              "       20.3, 22.5, 29. , 24.8, 22. , 26.4, 33.1, 36.1, 28.4, 33.4, 28.2,\n",
              "       22.8, 20.3, 16.1, 22.1, 19.4, 21.6, 23.8, 16.2, 17.8, 19.8, 23.1,\n",
              "       21. , 23.8, 23.1, 20.4, 18.5, 25. , 24.6, 23. , 22.2, 19.3, 22.6,\n",
              "       19.8, 17.1, 19.4, 22.2, 20.7, 21.1, 19.5, 18.5, 20.6, 19. , 18.7,\n",
              "       32.7, 16.5, 23.9, 31.2, 17.5, 17.2, 23.1, 24.5, 26.6, 22.9, 24.1,\n",
              "       18.6, 30.1, 18.2, 20.6, 17.8, 21.7, 22.7, 22.6, 25. , 19.9, 20.8,\n",
              "       16.8, 21.9, 27.5, 21.9, 23.1, 50. , 50. , 50. , 50. , 50. , 13.8,\n",
              "       13.8, 15. , 13.9, 13.3, 13.1, 10.2, 10.4, 10.9, 11.3, 12.3,  8.8,\n",
              "        7.2, 10.5,  7.4, 10.2, 11.5, 15.1, 23.2,  9.7, 13.8, 12.7, 13.1,\n",
              "       12.5,  8.5,  5. ,  6.3,  5.6,  7.2, 12.1,  8.3,  8.5,  5. , 11.9,\n",
              "       27.9, 17.2, 27.5, 15. , 17.2, 17.9, 16.3,  7. ,  7.2,  7.5, 10.4,\n",
              "        8.8,  8.4, 16.7, 14.2, 20.8, 13.4, 11.7,  8.3, 10.2, 10.9, 11. ,\n",
              "        9.5, 14.5, 14.1, 16.1, 14.3, 11.7, 13.4,  9.6,  8.7,  8.4, 12.8,\n",
              "       10.5, 17.1, 18.4, 15.4, 10.8, 11.8, 14.9, 12.6, 14.1, 13. , 13.4,\n",
              "       15.2, 16.1, 17.8, 14.9, 14.1, 12.7, 13.5, 14.9, 20. , 16.4, 17.7,\n",
              "       19.5, 20.2, 21.4, 19.9, 19. , 19.1, 19.1, 20.1, 19.9, 19.6, 23.2,\n",
              "       29.8, 13.8, 13.3, 16.7, 12. , 14.6, 21.4, 23. , 23.7, 25. , 21.8,\n",
              "       20.6, 21.2, 19.1, 20.6, 15.2,  7. ,  8.1, 13.6, 20.1, 21.8, 24.5,\n",
              "       23.1, 19.7, 18.3, 21.2, 17.5, 16.8, 22.4, 20.6, 23.9, 22. , 11.9])"
            ]
          },
          "metadata": {
            "tags": []
          },
          "execution_count": 71
        }
      ]
    },
    {
      "cell_type": "markdown",
      "metadata": {
        "id": "kKaX4cyQaWCC"
      },
      "source": [
        "# **Statsmodels**"
      ]
    },
    {
      "cell_type": "code",
      "metadata": {
        "id": "EwrlYk3GaMus"
      },
      "source": [
        "import statsmodels.api as sm\n",
        "import statsmodels.formula.api as smf \n",
        "import pandas.util.testing as tm"
      ],
      "execution_count": 72,
      "outputs": []
    },
    {
      "cell_type": "markdown",
      "metadata": {
        "id": "CYYR6RPCmey_"
      },
      "source": [
        "$y = mX$\n",
        "\n",
        "$y = mX + c$"
      ]
    },
    {
      "cell_type": "code",
      "metadata": {
        "id": "91055a8_k_3S"
      },
      "source": [
        "X_constant = sm.add_constant(X)"
      ],
      "execution_count": 73,
      "outputs": []
    },
    {
      "cell_type": "code",
      "metadata": {
        "colab": {
          "base_uri": "https://localhost:8080/",
          "height": 402
        },
        "id": "s0R_jNbflU0j",
        "outputId": "505fff51-5c6b-428e-87df-25b102caec3c"
      },
      "source": [
        "pd.DataFrame(X_constant)"
      ],
      "execution_count": 74,
      "outputs": [
        {
          "output_type": "execute_result",
          "data": {
            "text/html": [
              "<div>\n",
              "<style scoped>\n",
              "    .dataframe tbody tr th:only-of-type {\n",
              "        vertical-align: middle;\n",
              "    }\n",
              "\n",
              "    .dataframe tbody tr th {\n",
              "        vertical-align: top;\n",
              "    }\n",
              "\n",
              "    .dataframe thead th {\n",
              "        text-align: right;\n",
              "    }\n",
              "</style>\n",
              "<table border=\"1\" class=\"dataframe\">\n",
              "  <thead>\n",
              "    <tr style=\"text-align: right;\">\n",
              "      <th></th>\n",
              "      <th>const</th>\n",
              "      <th>CRIM</th>\n",
              "      <th>ZN</th>\n",
              "      <th>INDUS</th>\n",
              "      <th>CHAS</th>\n",
              "      <th>NOX</th>\n",
              "      <th>RM</th>\n",
              "      <th>AGE</th>\n",
              "      <th>DIS</th>\n",
              "      <th>RAD</th>\n",
              "      <th>TAX</th>\n",
              "      <th>PTRATIO</th>\n",
              "      <th>B</th>\n",
              "      <th>LSTAT</th>\n",
              "    </tr>\n",
              "  </thead>\n",
              "  <tbody>\n",
              "    <tr>\n",
              "      <th>0</th>\n",
              "      <td>1.0</td>\n",
              "      <td>0.00632</td>\n",
              "      <td>18.0</td>\n",
              "      <td>2.31</td>\n",
              "      <td>0.0</td>\n",
              "      <td>0.538</td>\n",
              "      <td>6.575</td>\n",
              "      <td>65.2</td>\n",
              "      <td>4.0900</td>\n",
              "      <td>1.0</td>\n",
              "      <td>296.0</td>\n",
              "      <td>15.3</td>\n",
              "      <td>396.90</td>\n",
              "      <td>4.98</td>\n",
              "    </tr>\n",
              "    <tr>\n",
              "      <th>1</th>\n",
              "      <td>1.0</td>\n",
              "      <td>0.02731</td>\n",
              "      <td>0.0</td>\n",
              "      <td>7.07</td>\n",
              "      <td>0.0</td>\n",
              "      <td>0.469</td>\n",
              "      <td>6.421</td>\n",
              "      <td>78.9</td>\n",
              "      <td>4.9671</td>\n",
              "      <td>2.0</td>\n",
              "      <td>242.0</td>\n",
              "      <td>17.8</td>\n",
              "      <td>396.90</td>\n",
              "      <td>9.14</td>\n",
              "    </tr>\n",
              "    <tr>\n",
              "      <th>2</th>\n",
              "      <td>1.0</td>\n",
              "      <td>0.02729</td>\n",
              "      <td>0.0</td>\n",
              "      <td>7.07</td>\n",
              "      <td>0.0</td>\n",
              "      <td>0.469</td>\n",
              "      <td>7.185</td>\n",
              "      <td>61.1</td>\n",
              "      <td>4.9671</td>\n",
              "      <td>2.0</td>\n",
              "      <td>242.0</td>\n",
              "      <td>17.8</td>\n",
              "      <td>392.83</td>\n",
              "      <td>4.03</td>\n",
              "    </tr>\n",
              "    <tr>\n",
              "      <th>3</th>\n",
              "      <td>1.0</td>\n",
              "      <td>0.03237</td>\n",
              "      <td>0.0</td>\n",
              "      <td>2.18</td>\n",
              "      <td>0.0</td>\n",
              "      <td>0.458</td>\n",
              "      <td>6.998</td>\n",
              "      <td>45.8</td>\n",
              "      <td>6.0622</td>\n",
              "      <td>3.0</td>\n",
              "      <td>222.0</td>\n",
              "      <td>18.7</td>\n",
              "      <td>394.63</td>\n",
              "      <td>2.94</td>\n",
              "    </tr>\n",
              "    <tr>\n",
              "      <th>4</th>\n",
              "      <td>1.0</td>\n",
              "      <td>0.06905</td>\n",
              "      <td>0.0</td>\n",
              "      <td>2.18</td>\n",
              "      <td>0.0</td>\n",
              "      <td>0.458</td>\n",
              "      <td>7.147</td>\n",
              "      <td>54.2</td>\n",
              "      <td>6.0622</td>\n",
              "      <td>3.0</td>\n",
              "      <td>222.0</td>\n",
              "      <td>18.7</td>\n",
              "      <td>396.90</td>\n",
              "      <td>5.33</td>\n",
              "    </tr>\n",
              "    <tr>\n",
              "      <th>...</th>\n",
              "      <td>...</td>\n",
              "      <td>...</td>\n",
              "      <td>...</td>\n",
              "      <td>...</td>\n",
              "      <td>...</td>\n",
              "      <td>...</td>\n",
              "      <td>...</td>\n",
              "      <td>...</td>\n",
              "      <td>...</td>\n",
              "      <td>...</td>\n",
              "      <td>...</td>\n",
              "      <td>...</td>\n",
              "      <td>...</td>\n",
              "      <td>...</td>\n",
              "    </tr>\n",
              "    <tr>\n",
              "      <th>501</th>\n",
              "      <td>1.0</td>\n",
              "      <td>0.06263</td>\n",
              "      <td>0.0</td>\n",
              "      <td>11.93</td>\n",
              "      <td>0.0</td>\n",
              "      <td>0.573</td>\n",
              "      <td>6.593</td>\n",
              "      <td>69.1</td>\n",
              "      <td>2.4786</td>\n",
              "      <td>1.0</td>\n",
              "      <td>273.0</td>\n",
              "      <td>21.0</td>\n",
              "      <td>391.99</td>\n",
              "      <td>9.67</td>\n",
              "    </tr>\n",
              "    <tr>\n",
              "      <th>502</th>\n",
              "      <td>1.0</td>\n",
              "      <td>0.04527</td>\n",
              "      <td>0.0</td>\n",
              "      <td>11.93</td>\n",
              "      <td>0.0</td>\n",
              "      <td>0.573</td>\n",
              "      <td>6.120</td>\n",
              "      <td>76.7</td>\n",
              "      <td>2.2875</td>\n",
              "      <td>1.0</td>\n",
              "      <td>273.0</td>\n",
              "      <td>21.0</td>\n",
              "      <td>396.90</td>\n",
              "      <td>9.08</td>\n",
              "    </tr>\n",
              "    <tr>\n",
              "      <th>503</th>\n",
              "      <td>1.0</td>\n",
              "      <td>0.06076</td>\n",
              "      <td>0.0</td>\n",
              "      <td>11.93</td>\n",
              "      <td>0.0</td>\n",
              "      <td>0.573</td>\n",
              "      <td>6.976</td>\n",
              "      <td>91.0</td>\n",
              "      <td>2.1675</td>\n",
              "      <td>1.0</td>\n",
              "      <td>273.0</td>\n",
              "      <td>21.0</td>\n",
              "      <td>396.90</td>\n",
              "      <td>5.64</td>\n",
              "    </tr>\n",
              "    <tr>\n",
              "      <th>504</th>\n",
              "      <td>1.0</td>\n",
              "      <td>0.10959</td>\n",
              "      <td>0.0</td>\n",
              "      <td>11.93</td>\n",
              "      <td>0.0</td>\n",
              "      <td>0.573</td>\n",
              "      <td>6.794</td>\n",
              "      <td>89.3</td>\n",
              "      <td>2.3889</td>\n",
              "      <td>1.0</td>\n",
              "      <td>273.0</td>\n",
              "      <td>21.0</td>\n",
              "      <td>393.45</td>\n",
              "      <td>6.48</td>\n",
              "    </tr>\n",
              "    <tr>\n",
              "      <th>505</th>\n",
              "      <td>1.0</td>\n",
              "      <td>0.04741</td>\n",
              "      <td>0.0</td>\n",
              "      <td>11.93</td>\n",
              "      <td>0.0</td>\n",
              "      <td>0.573</td>\n",
              "      <td>6.030</td>\n",
              "      <td>80.8</td>\n",
              "      <td>2.5050</td>\n",
              "      <td>1.0</td>\n",
              "      <td>273.0</td>\n",
              "      <td>21.0</td>\n",
              "      <td>396.90</td>\n",
              "      <td>7.88</td>\n",
              "    </tr>\n",
              "  </tbody>\n",
              "</table>\n",
              "<p>506 rows × 14 columns</p>\n",
              "</div>"
            ],
            "text/plain": [
              "     const     CRIM    ZN  INDUS  CHAS  ...  RAD    TAX  PTRATIO       B  LSTAT\n",
              "0      1.0  0.00632  18.0   2.31   0.0  ...  1.0  296.0     15.3  396.90   4.98\n",
              "1      1.0  0.02731   0.0   7.07   0.0  ...  2.0  242.0     17.8  396.90   9.14\n",
              "2      1.0  0.02729   0.0   7.07   0.0  ...  2.0  242.0     17.8  392.83   4.03\n",
              "3      1.0  0.03237   0.0   2.18   0.0  ...  3.0  222.0     18.7  394.63   2.94\n",
              "4      1.0  0.06905   0.0   2.18   0.0  ...  3.0  222.0     18.7  396.90   5.33\n",
              "..     ...      ...   ...    ...   ...  ...  ...    ...      ...     ...    ...\n",
              "501    1.0  0.06263   0.0  11.93   0.0  ...  1.0  273.0     21.0  391.99   9.67\n",
              "502    1.0  0.04527   0.0  11.93   0.0  ...  1.0  273.0     21.0  396.90   9.08\n",
              "503    1.0  0.06076   0.0  11.93   0.0  ...  1.0  273.0     21.0  396.90   5.64\n",
              "504    1.0  0.10959   0.0  11.93   0.0  ...  1.0  273.0     21.0  393.45   6.48\n",
              "505    1.0  0.04741   0.0  11.93   0.0  ...  1.0  273.0     21.0  396.90   7.88\n",
              "\n",
              "[506 rows x 14 columns]"
            ]
          },
          "metadata": {
            "tags": []
          },
          "execution_count": 74
        }
      ]
    },
    {
      "cell_type": "code",
      "metadata": {
        "id": "XFeN8ApClaBH"
      },
      "source": [
        "sm.OLS?"
      ],
      "execution_count": 75,
      "outputs": []
    },
    {
      "cell_type": "code",
      "metadata": {
        "id": "SRCF5kUYllFQ"
      },
      "source": [
        "model = sm.OLS(y, X_constant)"
      ],
      "execution_count": 76,
      "outputs": []
    },
    {
      "cell_type": "code",
      "metadata": {
        "id": "_mdTOXXXlt7w"
      },
      "source": [
        "lr = model.fit()"
      ],
      "execution_count": 77,
      "outputs": []
    },
    {
      "cell_type": "code",
      "metadata": {
        "colab": {
          "base_uri": "https://localhost:8080/",
          "height": 699
        },
        "id": "zAj4mRr0lxqO",
        "outputId": "80f00cdb-8068-4183-ad26-4e610f0e89a4"
      },
      "source": [
        "lr.summary()"
      ],
      "execution_count": 78,
      "outputs": [
        {
          "output_type": "execute_result",
          "data": {
            "text/html": [
              "<table class=\"simpletable\">\n",
              "<caption>OLS Regression Results</caption>\n",
              "<tr>\n",
              "  <th>Dep. Variable:</th>            <td>y</td>        <th>  R-squared:         </th> <td>   0.741</td> \n",
              "</tr>\n",
              "<tr>\n",
              "  <th>Model:</th>                   <td>OLS</td>       <th>  Adj. R-squared:    </th> <td>   0.734</td> \n",
              "</tr>\n",
              "<tr>\n",
              "  <th>Method:</th>             <td>Least Squares</td>  <th>  F-statistic:       </th> <td>   108.1</td> \n",
              "</tr>\n",
              "<tr>\n",
              "  <th>Date:</th>             <td>Tue, 06 Jul 2021</td> <th>  Prob (F-statistic):</th> <td>6.72e-135</td>\n",
              "</tr>\n",
              "<tr>\n",
              "  <th>Time:</th>                 <td>11:09:45</td>     <th>  Log-Likelihood:    </th> <td> -1498.8</td> \n",
              "</tr>\n",
              "<tr>\n",
              "  <th>No. Observations:</th>      <td>   506</td>      <th>  AIC:               </th> <td>   3026.</td> \n",
              "</tr>\n",
              "<tr>\n",
              "  <th>Df Residuals:</th>          <td>   492</td>      <th>  BIC:               </th> <td>   3085.</td> \n",
              "</tr>\n",
              "<tr>\n",
              "  <th>Df Model:</th>              <td>    13</td>      <th>                     </th>     <td> </td>    \n",
              "</tr>\n",
              "<tr>\n",
              "  <th>Covariance Type:</th>      <td>nonrobust</td>    <th>                     </th>     <td> </td>    \n",
              "</tr>\n",
              "</table>\n",
              "<table class=\"simpletable\">\n",
              "<tr>\n",
              "     <td></td>        <th>coef</th>     <th>std err</th>      <th>t</th>      <th>P>|t|</th>  <th>[0.025</th>    <th>0.975]</th>  \n",
              "</tr>\n",
              "<tr>\n",
              "  <th>const</th>   <td>   36.4595</td> <td>    5.103</td> <td>    7.144</td> <td> 0.000</td> <td>   26.432</td> <td>   46.487</td>\n",
              "</tr>\n",
              "<tr>\n",
              "  <th>CRIM</th>    <td>   -0.1080</td> <td>    0.033</td> <td>   -3.287</td> <td> 0.001</td> <td>   -0.173</td> <td>   -0.043</td>\n",
              "</tr>\n",
              "<tr>\n",
              "  <th>ZN</th>      <td>    0.0464</td> <td>    0.014</td> <td>    3.382</td> <td> 0.001</td> <td>    0.019</td> <td>    0.073</td>\n",
              "</tr>\n",
              "<tr>\n",
              "  <th>INDUS</th>   <td>    0.0206</td> <td>    0.061</td> <td>    0.334</td> <td> 0.738</td> <td>   -0.100</td> <td>    0.141</td>\n",
              "</tr>\n",
              "<tr>\n",
              "  <th>CHAS</th>    <td>    2.6867</td> <td>    0.862</td> <td>    3.118</td> <td> 0.002</td> <td>    0.994</td> <td>    4.380</td>\n",
              "</tr>\n",
              "<tr>\n",
              "  <th>NOX</th>     <td>  -17.7666</td> <td>    3.820</td> <td>   -4.651</td> <td> 0.000</td> <td>  -25.272</td> <td>  -10.262</td>\n",
              "</tr>\n",
              "<tr>\n",
              "  <th>RM</th>      <td>    3.8099</td> <td>    0.418</td> <td>    9.116</td> <td> 0.000</td> <td>    2.989</td> <td>    4.631</td>\n",
              "</tr>\n",
              "<tr>\n",
              "  <th>AGE</th>     <td>    0.0007</td> <td>    0.013</td> <td>    0.052</td> <td> 0.958</td> <td>   -0.025</td> <td>    0.027</td>\n",
              "</tr>\n",
              "<tr>\n",
              "  <th>DIS</th>     <td>   -1.4756</td> <td>    0.199</td> <td>   -7.398</td> <td> 0.000</td> <td>   -1.867</td> <td>   -1.084</td>\n",
              "</tr>\n",
              "<tr>\n",
              "  <th>RAD</th>     <td>    0.3060</td> <td>    0.066</td> <td>    4.613</td> <td> 0.000</td> <td>    0.176</td> <td>    0.436</td>\n",
              "</tr>\n",
              "<tr>\n",
              "  <th>TAX</th>     <td>   -0.0123</td> <td>    0.004</td> <td>   -3.280</td> <td> 0.001</td> <td>   -0.020</td> <td>   -0.005</td>\n",
              "</tr>\n",
              "<tr>\n",
              "  <th>PTRATIO</th> <td>   -0.9527</td> <td>    0.131</td> <td>   -7.283</td> <td> 0.000</td> <td>   -1.210</td> <td>   -0.696</td>\n",
              "</tr>\n",
              "<tr>\n",
              "  <th>B</th>       <td>    0.0093</td> <td>    0.003</td> <td>    3.467</td> <td> 0.001</td> <td>    0.004</td> <td>    0.015</td>\n",
              "</tr>\n",
              "<tr>\n",
              "  <th>LSTAT</th>   <td>   -0.5248</td> <td>    0.051</td> <td>  -10.347</td> <td> 0.000</td> <td>   -0.624</td> <td>   -0.425</td>\n",
              "</tr>\n",
              "</table>\n",
              "<table class=\"simpletable\">\n",
              "<tr>\n",
              "  <th>Omnibus:</th>       <td>178.041</td> <th>  Durbin-Watson:     </th> <td>   1.078</td> \n",
              "</tr>\n",
              "<tr>\n",
              "  <th>Prob(Omnibus):</th> <td> 0.000</td>  <th>  Jarque-Bera (JB):  </th> <td> 783.126</td> \n",
              "</tr>\n",
              "<tr>\n",
              "  <th>Skew:</th>          <td> 1.521</td>  <th>  Prob(JB):          </th> <td>8.84e-171</td>\n",
              "</tr>\n",
              "<tr>\n",
              "  <th>Kurtosis:</th>      <td> 8.281</td>  <th>  Cond. No.          </th> <td>1.51e+04</td> \n",
              "</tr>\n",
              "</table><br/><br/>Warnings:<br/>[1] Standard Errors assume that the covariance matrix of the errors is correctly specified.<br/>[2] The condition number is large, 1.51e+04. This might indicate that there are<br/>strong multicollinearity or other numerical problems."
            ],
            "text/plain": [
              "<class 'statsmodels.iolib.summary.Summary'>\n",
              "\"\"\"\n",
              "                            OLS Regression Results                            \n",
              "==============================================================================\n",
              "Dep. Variable:                      y   R-squared:                       0.741\n",
              "Model:                            OLS   Adj. R-squared:                  0.734\n",
              "Method:                 Least Squares   F-statistic:                     108.1\n",
              "Date:                Tue, 06 Jul 2021   Prob (F-statistic):          6.72e-135\n",
              "Time:                        11:09:45   Log-Likelihood:                -1498.8\n",
              "No. Observations:                 506   AIC:                             3026.\n",
              "Df Residuals:                     492   BIC:                             3085.\n",
              "Df Model:                          13                                         \n",
              "Covariance Type:            nonrobust                                         \n",
              "==============================================================================\n",
              "                 coef    std err          t      P>|t|      [0.025      0.975]\n",
              "------------------------------------------------------------------------------\n",
              "const         36.4595      5.103      7.144      0.000      26.432      46.487\n",
              "CRIM          -0.1080      0.033     -3.287      0.001      -0.173      -0.043\n",
              "ZN             0.0464      0.014      3.382      0.001       0.019       0.073\n",
              "INDUS          0.0206      0.061      0.334      0.738      -0.100       0.141\n",
              "CHAS           2.6867      0.862      3.118      0.002       0.994       4.380\n",
              "NOX          -17.7666      3.820     -4.651      0.000     -25.272     -10.262\n",
              "RM             3.8099      0.418      9.116      0.000       2.989       4.631\n",
              "AGE            0.0007      0.013      0.052      0.958      -0.025       0.027\n",
              "DIS           -1.4756      0.199     -7.398      0.000      -1.867      -1.084\n",
              "RAD            0.3060      0.066      4.613      0.000       0.176       0.436\n",
              "TAX           -0.0123      0.004     -3.280      0.001      -0.020      -0.005\n",
              "PTRATIO       -0.9527      0.131     -7.283      0.000      -1.210      -0.696\n",
              "B              0.0093      0.003      3.467      0.001       0.004       0.015\n",
              "LSTAT         -0.5248      0.051    -10.347      0.000      -0.624      -0.425\n",
              "==============================================================================\n",
              "Omnibus:                      178.041   Durbin-Watson:                   1.078\n",
              "Prob(Omnibus):                  0.000   Jarque-Bera (JB):              783.126\n",
              "Skew:                           1.521   Prob(JB):                    8.84e-171\n",
              "Kurtosis:                       8.281   Cond. No.                     1.51e+04\n",
              "==============================================================================\n",
              "\n",
              "Warnings:\n",
              "[1] Standard Errors assume that the covariance matrix of the errors is correctly specified.\n",
              "[2] The condition number is large, 1.51e+04. This might indicate that there are\n",
              "strong multicollinearity or other numerical problems.\n",
              "\"\"\""
            ]
          },
          "metadata": {
            "tags": []
          },
          "execution_count": 78
        }
      ]
    },
    {
      "cell_type": "code",
      "metadata": {
        "id": "hJ2_NXH2l0hR"
      },
      "source": [
        "form_lr = smf.ols(formula = 'y ~ CRIM + ZN + INDUS + CHAS + NOX + RM + AGE + DIS + RAD + TAX + PTRATIO + B + LSTAT' , data = df)\n",
        "mlr = form_lr.fit()\n",
        "mlr.summary()"
      ],
      "execution_count": null,
      "outputs": []
    },
    {
      "cell_type": "markdown",
      "metadata": {
        "id": "k7EBWO_0g2Xb"
      },
      "source": [
        "# **Correlation** **Matrix**"
      ]
    },
    {
      "cell_type": "code",
      "metadata": {
        "colab": {
          "base_uri": "https://localhost:8080/",
          "height": 486
        },
        "id": "JA2JTW_xB5bV",
        "outputId": "5ba1c1bd-989d-4e3d-b058-c7503f6becdb"
      },
      "source": [
        "form_lr = smf.ols(formula= 'y ~ CRIM + ZN + CHAS + NOX' , data=df)\n",
        "mlr = form_lr.fit()\n",
        "mlr.summary()"
      ],
      "execution_count": 81,
      "outputs": [
        {
          "output_type": "execute_result",
          "data": {
            "text/html": [
              "<table class=\"simpletable\">\n",
              "<caption>OLS Regression Results</caption>\n",
              "<tr>\n",
              "  <th>Dep. Variable:</th>            <td>y</td>        <th>  R-squared:         </th> <td>   0.300</td>\n",
              "</tr>\n",
              "<tr>\n",
              "  <th>Model:</th>                   <td>OLS</td>       <th>  Adj. R-squared:    </th> <td>   0.295</td>\n",
              "</tr>\n",
              "<tr>\n",
              "  <th>Method:</th>             <td>Least Squares</td>  <th>  F-statistic:       </th> <td>   53.72</td>\n",
              "</tr>\n",
              "<tr>\n",
              "  <th>Date:</th>             <td>Tue, 06 Jul 2021</td> <th>  Prob (F-statistic):</th> <td>1.14e-37</td>\n",
              "</tr>\n",
              "<tr>\n",
              "  <th>Time:</th>                 <td>11:15:30</td>     <th>  Log-Likelihood:    </th> <td> -1749.9</td>\n",
              "</tr>\n",
              "<tr>\n",
              "  <th>No. Observations:</th>      <td>   506</td>      <th>  AIC:               </th> <td>   3510.</td>\n",
              "</tr>\n",
              "<tr>\n",
              "  <th>Df Residuals:</th>          <td>   501</td>      <th>  BIC:               </th> <td>   3531.</td>\n",
              "</tr>\n",
              "<tr>\n",
              "  <th>Df Model:</th>              <td>     4</td>      <th>                     </th>     <td> </td>   \n",
              "</tr>\n",
              "<tr>\n",
              "  <th>Covariance Type:</th>      <td>nonrobust</td>    <th>                     </th>     <td> </td>   \n",
              "</tr>\n",
              "</table>\n",
              "<table class=\"simpletable\">\n",
              "<tr>\n",
              "      <td></td>         <th>coef</th>     <th>std err</th>      <th>t</th>      <th>P>|t|</th>  <th>[0.025</th>    <th>0.975]</th>  \n",
              "</tr>\n",
              "<tr>\n",
              "  <th>Intercept</th> <td>   32.8818</td> <td>    2.157</td> <td>   15.245</td> <td> 0.000</td> <td>   28.644</td> <td>   37.119</td>\n",
              "</tr>\n",
              "<tr>\n",
              "  <th>CRIM</th>      <td>   -0.2515</td> <td>    0.044</td> <td>   -5.676</td> <td> 0.000</td> <td>   -0.339</td> <td>   -0.164</td>\n",
              "</tr>\n",
              "<tr>\n",
              "  <th>ZN</th>        <td>    0.0768</td> <td>    0.017</td> <td>    4.462</td> <td> 0.000</td> <td>    0.043</td> <td>    0.111</td>\n",
              "</tr>\n",
              "<tr>\n",
              "  <th>CHAS</th>      <td>    6.9811</td> <td>    1.367</td> <td>    5.109</td> <td> 0.000</td> <td>    4.296</td> <td>    9.666</td>\n",
              "</tr>\n",
              "<tr>\n",
              "  <th>NOX</th>       <td>  -19.4631</td> <td>    3.768</td> <td>   -5.166</td> <td> 0.000</td> <td>  -26.865</td> <td>  -12.061</td>\n",
              "</tr>\n",
              "</table>\n",
              "<table class=\"simpletable\">\n",
              "<tr>\n",
              "  <th>Omnibus:</th>       <td>172.725</td> <th>  Durbin-Watson:     </th> <td>   0.826</td> \n",
              "</tr>\n",
              "<tr>\n",
              "  <th>Prob(Omnibus):</th> <td> 0.000</td>  <th>  Jarque-Bera (JB):  </th> <td> 480.442</td> \n",
              "</tr>\n",
              "<tr>\n",
              "  <th>Skew:</th>          <td> 1.680</td>  <th>  Prob(JB):          </th> <td>4.71e-105</td>\n",
              "</tr>\n",
              "<tr>\n",
              "  <th>Kurtosis:</th>      <td> 6.390</td>  <th>  Cond. No.          </th> <td>    327.</td> \n",
              "</tr>\n",
              "</table><br/><br/>Warnings:<br/>[1] Standard Errors assume that the covariance matrix of the errors is correctly specified."
            ],
            "text/plain": [
              "<class 'statsmodels.iolib.summary.Summary'>\n",
              "\"\"\"\n",
              "                            OLS Regression Results                            \n",
              "==============================================================================\n",
              "Dep. Variable:                      y   R-squared:                       0.300\n",
              "Model:                            OLS   Adj. R-squared:                  0.295\n",
              "Method:                 Least Squares   F-statistic:                     53.72\n",
              "Date:                Tue, 06 Jul 2021   Prob (F-statistic):           1.14e-37\n",
              "Time:                        11:15:30   Log-Likelihood:                -1749.9\n",
              "No. Observations:                 506   AIC:                             3510.\n",
              "Df Residuals:                     501   BIC:                             3531.\n",
              "Df Model:                           4                                         \n",
              "Covariance Type:            nonrobust                                         \n",
              "==============================================================================\n",
              "                 coef    std err          t      P>|t|      [0.025      0.975]\n",
              "------------------------------------------------------------------------------\n",
              "Intercept     32.8818      2.157     15.245      0.000      28.644      37.119\n",
              "CRIM          -0.2515      0.044     -5.676      0.000      -0.339      -0.164\n",
              "ZN             0.0768      0.017      4.462      0.000       0.043       0.111\n",
              "CHAS           6.9811      1.367      5.109      0.000       4.296       9.666\n",
              "NOX          -19.4631      3.768     -5.166      0.000     -26.865     -12.061\n",
              "==============================================================================\n",
              "Omnibus:                      172.725   Durbin-Watson:                   0.826\n",
              "Prob(Omnibus):                  0.000   Jarque-Bera (JB):              480.442\n",
              "Skew:                           1.680   Prob(JB):                    4.71e-105\n",
              "Kurtosis:                       6.390   Cond. No.                         327.\n",
              "==============================================================================\n",
              "\n",
              "Warnings:\n",
              "[1] Standard Errors assume that the covariance matrix of the errors is correctly specified.\n",
              "\"\"\""
            ]
          },
          "metadata": {
            "tags": []
          },
          "execution_count": 81
        }
      ]
    },
    {
      "cell_type": "markdown",
      "metadata": {
        "id": "t9rOdUpYkRry"
      },
      "source": [
        "Useful diagnostic tool to identify colllinearility between predictors"
      ]
    },
    {
      "cell_type": "markdown",
      "metadata": {
        "id": "g2GKdWozkZ9g"
      },
      "source": [
        "# **Correlaton Matrix**"
      ]
    },
    {
      "cell_type": "code",
      "metadata": {
        "id": "lvWoOX0Qh7hr"
      },
      "source": [
        "pd.options.display.float_format = '{:,.4f}'.format"
      ],
      "execution_count": 82,
      "outputs": []
    },
    {
      "cell_type": "code",
      "metadata": {
        "id": "PHAYndtSkmM4"
      },
      "source": [
        "corr_matrix = df.corr()"
      ],
      "execution_count": 83,
      "outputs": []
    },
    {
      "cell_type": "code",
      "metadata": {
        "colab": {
          "base_uri": "https://localhost:8080/",
          "height": 432
        },
        "id": "mtfIJuAhkpYX",
        "outputId": "4dc5b45a-2258-4537-b554-d3105b84ab53"
      },
      "source": [
        "corr_matrix"
      ],
      "execution_count": 84,
      "outputs": [
        {
          "output_type": "execute_result",
          "data": {
            "text/html": [
              "<div>\n",
              "<style scoped>\n",
              "    .dataframe tbody tr th:only-of-type {\n",
              "        vertical-align: middle;\n",
              "    }\n",
              "\n",
              "    .dataframe tbody tr th {\n",
              "        vertical-align: top;\n",
              "    }\n",
              "\n",
              "    .dataframe thead th {\n",
              "        text-align: right;\n",
              "    }\n",
              "</style>\n",
              "<table border=\"1\" class=\"dataframe\">\n",
              "  <thead>\n",
              "    <tr style=\"text-align: right;\">\n",
              "      <th></th>\n",
              "      <th>CRIM</th>\n",
              "      <th>ZN</th>\n",
              "      <th>INDUS</th>\n",
              "      <th>CHAS</th>\n",
              "      <th>NOX</th>\n",
              "      <th>RM</th>\n",
              "      <th>AGE</th>\n",
              "      <th>DIS</th>\n",
              "      <th>RAD</th>\n",
              "      <th>TAX</th>\n",
              "      <th>PTRATIO</th>\n",
              "      <th>B</th>\n",
              "      <th>LSTAT</th>\n",
              "    </tr>\n",
              "  </thead>\n",
              "  <tbody>\n",
              "    <tr>\n",
              "      <th>CRIM</th>\n",
              "      <td>1.0000</td>\n",
              "      <td>-0.2005</td>\n",
              "      <td>0.4066</td>\n",
              "      <td>-0.0559</td>\n",
              "      <td>0.4210</td>\n",
              "      <td>-0.2192</td>\n",
              "      <td>0.3527</td>\n",
              "      <td>-0.3797</td>\n",
              "      <td>0.6255</td>\n",
              "      <td>0.5828</td>\n",
              "      <td>0.2899</td>\n",
              "      <td>-0.3851</td>\n",
              "      <td>0.4556</td>\n",
              "    </tr>\n",
              "    <tr>\n",
              "      <th>ZN</th>\n",
              "      <td>-0.2005</td>\n",
              "      <td>1.0000</td>\n",
              "      <td>-0.5338</td>\n",
              "      <td>-0.0427</td>\n",
              "      <td>-0.5166</td>\n",
              "      <td>0.3120</td>\n",
              "      <td>-0.5695</td>\n",
              "      <td>0.6644</td>\n",
              "      <td>-0.3119</td>\n",
              "      <td>-0.3146</td>\n",
              "      <td>-0.3917</td>\n",
              "      <td>0.1755</td>\n",
              "      <td>-0.4130</td>\n",
              "    </tr>\n",
              "    <tr>\n",
              "      <th>INDUS</th>\n",
              "      <td>0.4066</td>\n",
              "      <td>-0.5338</td>\n",
              "      <td>1.0000</td>\n",
              "      <td>0.0629</td>\n",
              "      <td>0.7637</td>\n",
              "      <td>-0.3917</td>\n",
              "      <td>0.6448</td>\n",
              "      <td>-0.7080</td>\n",
              "      <td>0.5951</td>\n",
              "      <td>0.7208</td>\n",
              "      <td>0.3832</td>\n",
              "      <td>-0.3570</td>\n",
              "      <td>0.6038</td>\n",
              "    </tr>\n",
              "    <tr>\n",
              "      <th>CHAS</th>\n",
              "      <td>-0.0559</td>\n",
              "      <td>-0.0427</td>\n",
              "      <td>0.0629</td>\n",
              "      <td>1.0000</td>\n",
              "      <td>0.0912</td>\n",
              "      <td>0.0913</td>\n",
              "      <td>0.0865</td>\n",
              "      <td>-0.0992</td>\n",
              "      <td>-0.0074</td>\n",
              "      <td>-0.0356</td>\n",
              "      <td>-0.1215</td>\n",
              "      <td>0.0488</td>\n",
              "      <td>-0.0539</td>\n",
              "    </tr>\n",
              "    <tr>\n",
              "      <th>NOX</th>\n",
              "      <td>0.4210</td>\n",
              "      <td>-0.5166</td>\n",
              "      <td>0.7637</td>\n",
              "      <td>0.0912</td>\n",
              "      <td>1.0000</td>\n",
              "      <td>-0.3022</td>\n",
              "      <td>0.7315</td>\n",
              "      <td>-0.7692</td>\n",
              "      <td>0.6114</td>\n",
              "      <td>0.6680</td>\n",
              "      <td>0.1889</td>\n",
              "      <td>-0.3801</td>\n",
              "      <td>0.5909</td>\n",
              "    </tr>\n",
              "    <tr>\n",
              "      <th>RM</th>\n",
              "      <td>-0.2192</td>\n",
              "      <td>0.3120</td>\n",
              "      <td>-0.3917</td>\n",
              "      <td>0.0913</td>\n",
              "      <td>-0.3022</td>\n",
              "      <td>1.0000</td>\n",
              "      <td>-0.2403</td>\n",
              "      <td>0.2052</td>\n",
              "      <td>-0.2098</td>\n",
              "      <td>-0.2920</td>\n",
              "      <td>-0.3555</td>\n",
              "      <td>0.1281</td>\n",
              "      <td>-0.6138</td>\n",
              "    </tr>\n",
              "    <tr>\n",
              "      <th>AGE</th>\n",
              "      <td>0.3527</td>\n",
              "      <td>-0.5695</td>\n",
              "      <td>0.6448</td>\n",
              "      <td>0.0865</td>\n",
              "      <td>0.7315</td>\n",
              "      <td>-0.2403</td>\n",
              "      <td>1.0000</td>\n",
              "      <td>-0.7479</td>\n",
              "      <td>0.4560</td>\n",
              "      <td>0.5065</td>\n",
              "      <td>0.2615</td>\n",
              "      <td>-0.2735</td>\n",
              "      <td>0.6023</td>\n",
              "    </tr>\n",
              "    <tr>\n",
              "      <th>DIS</th>\n",
              "      <td>-0.3797</td>\n",
              "      <td>0.6644</td>\n",
              "      <td>-0.7080</td>\n",
              "      <td>-0.0992</td>\n",
              "      <td>-0.7692</td>\n",
              "      <td>0.2052</td>\n",
              "      <td>-0.7479</td>\n",
              "      <td>1.0000</td>\n",
              "      <td>-0.4946</td>\n",
              "      <td>-0.5344</td>\n",
              "      <td>-0.2325</td>\n",
              "      <td>0.2915</td>\n",
              "      <td>-0.4970</td>\n",
              "    </tr>\n",
              "    <tr>\n",
              "      <th>RAD</th>\n",
              "      <td>0.6255</td>\n",
              "      <td>-0.3119</td>\n",
              "      <td>0.5951</td>\n",
              "      <td>-0.0074</td>\n",
              "      <td>0.6114</td>\n",
              "      <td>-0.2098</td>\n",
              "      <td>0.4560</td>\n",
              "      <td>-0.4946</td>\n",
              "      <td>1.0000</td>\n",
              "      <td>0.9102</td>\n",
              "      <td>0.4647</td>\n",
              "      <td>-0.4444</td>\n",
              "      <td>0.4887</td>\n",
              "    </tr>\n",
              "    <tr>\n",
              "      <th>TAX</th>\n",
              "      <td>0.5828</td>\n",
              "      <td>-0.3146</td>\n",
              "      <td>0.7208</td>\n",
              "      <td>-0.0356</td>\n",
              "      <td>0.6680</td>\n",
              "      <td>-0.2920</td>\n",
              "      <td>0.5065</td>\n",
              "      <td>-0.5344</td>\n",
              "      <td>0.9102</td>\n",
              "      <td>1.0000</td>\n",
              "      <td>0.4609</td>\n",
              "      <td>-0.4418</td>\n",
              "      <td>0.5440</td>\n",
              "    </tr>\n",
              "    <tr>\n",
              "      <th>PTRATIO</th>\n",
              "      <td>0.2899</td>\n",
              "      <td>-0.3917</td>\n",
              "      <td>0.3832</td>\n",
              "      <td>-0.1215</td>\n",
              "      <td>0.1889</td>\n",
              "      <td>-0.3555</td>\n",
              "      <td>0.2615</td>\n",
              "      <td>-0.2325</td>\n",
              "      <td>0.4647</td>\n",
              "      <td>0.4609</td>\n",
              "      <td>1.0000</td>\n",
              "      <td>-0.1774</td>\n",
              "      <td>0.3740</td>\n",
              "    </tr>\n",
              "    <tr>\n",
              "      <th>B</th>\n",
              "      <td>-0.3851</td>\n",
              "      <td>0.1755</td>\n",
              "      <td>-0.3570</td>\n",
              "      <td>0.0488</td>\n",
              "      <td>-0.3801</td>\n",
              "      <td>0.1281</td>\n",
              "      <td>-0.2735</td>\n",
              "      <td>0.2915</td>\n",
              "      <td>-0.4444</td>\n",
              "      <td>-0.4418</td>\n",
              "      <td>-0.1774</td>\n",
              "      <td>1.0000</td>\n",
              "      <td>-0.3661</td>\n",
              "    </tr>\n",
              "    <tr>\n",
              "      <th>LSTAT</th>\n",
              "      <td>0.4556</td>\n",
              "      <td>-0.4130</td>\n",
              "      <td>0.6038</td>\n",
              "      <td>-0.0539</td>\n",
              "      <td>0.5909</td>\n",
              "      <td>-0.6138</td>\n",
              "      <td>0.6023</td>\n",
              "      <td>-0.4970</td>\n",
              "      <td>0.4887</td>\n",
              "      <td>0.5440</td>\n",
              "      <td>0.3740</td>\n",
              "      <td>-0.3661</td>\n",
              "      <td>1.0000</td>\n",
              "    </tr>\n",
              "  </tbody>\n",
              "</table>\n",
              "</div>"
            ],
            "text/plain": [
              "           CRIM      ZN   INDUS    CHAS  ...     TAX  PTRATIO       B   LSTAT\n",
              "CRIM     1.0000 -0.2005  0.4066 -0.0559  ...  0.5828   0.2899 -0.3851  0.4556\n",
              "ZN      -0.2005  1.0000 -0.5338 -0.0427  ... -0.3146  -0.3917  0.1755 -0.4130\n",
              "INDUS    0.4066 -0.5338  1.0000  0.0629  ...  0.7208   0.3832 -0.3570  0.6038\n",
              "CHAS    -0.0559 -0.0427  0.0629  1.0000  ... -0.0356  -0.1215  0.0488 -0.0539\n",
              "NOX      0.4210 -0.5166  0.7637  0.0912  ...  0.6680   0.1889 -0.3801  0.5909\n",
              "RM      -0.2192  0.3120 -0.3917  0.0913  ... -0.2920  -0.3555  0.1281 -0.6138\n",
              "AGE      0.3527 -0.5695  0.6448  0.0865  ...  0.5065   0.2615 -0.2735  0.6023\n",
              "DIS     -0.3797  0.6644 -0.7080 -0.0992  ... -0.5344  -0.2325  0.2915 -0.4970\n",
              "RAD      0.6255 -0.3119  0.5951 -0.0074  ...  0.9102   0.4647 -0.4444  0.4887\n",
              "TAX      0.5828 -0.3146  0.7208 -0.0356  ...  1.0000   0.4609 -0.4418  0.5440\n",
              "PTRATIO  0.2899 -0.3917  0.3832 -0.1215  ...  0.4609   1.0000 -0.1774  0.3740\n",
              "B       -0.3851  0.1755 -0.3570  0.0488  ... -0.4418  -0.1774  1.0000 -0.3661\n",
              "LSTAT    0.4556 -0.4130  0.6038 -0.0539  ...  0.5440   0.3740 -0.3661  1.0000\n",
              "\n",
              "[13 rows x 13 columns]"
            ]
          },
          "metadata": {
            "tags": []
          },
          "execution_count": 84
        }
      ]
    },
    {
      "cell_type": "code",
      "metadata": {
        "colab": {
          "base_uri": "https://localhost:8080/",
          "height": 432
        },
        "id": "EPeY7PpEkrCP",
        "outputId": "1bc51f18-49c0-4970-b89d-c9f45a01b066"
      },
      "source": [
        "corr_matrix[np.abs(corr_matrix) < 0.6] = 0\n",
        "corr_matrix"
      ],
      "execution_count": 85,
      "outputs": [
        {
          "output_type": "execute_result",
          "data": {
            "text/html": [
              "<div>\n",
              "<style scoped>\n",
              "    .dataframe tbody tr th:only-of-type {\n",
              "        vertical-align: middle;\n",
              "    }\n",
              "\n",
              "    .dataframe tbody tr th {\n",
              "        vertical-align: top;\n",
              "    }\n",
              "\n",
              "    .dataframe thead th {\n",
              "        text-align: right;\n",
              "    }\n",
              "</style>\n",
              "<table border=\"1\" class=\"dataframe\">\n",
              "  <thead>\n",
              "    <tr style=\"text-align: right;\">\n",
              "      <th></th>\n",
              "      <th>CRIM</th>\n",
              "      <th>ZN</th>\n",
              "      <th>INDUS</th>\n",
              "      <th>CHAS</th>\n",
              "      <th>NOX</th>\n",
              "      <th>RM</th>\n",
              "      <th>AGE</th>\n",
              "      <th>DIS</th>\n",
              "      <th>RAD</th>\n",
              "      <th>TAX</th>\n",
              "      <th>PTRATIO</th>\n",
              "      <th>B</th>\n",
              "      <th>LSTAT</th>\n",
              "    </tr>\n",
              "  </thead>\n",
              "  <tbody>\n",
              "    <tr>\n",
              "      <th>CRIM</th>\n",
              "      <td>1.0000</td>\n",
              "      <td>0.0000</td>\n",
              "      <td>0.0000</td>\n",
              "      <td>0.0000</td>\n",
              "      <td>0.0000</td>\n",
              "      <td>0.0000</td>\n",
              "      <td>0.0000</td>\n",
              "      <td>0.0000</td>\n",
              "      <td>0.6255</td>\n",
              "      <td>0.0000</td>\n",
              "      <td>0.0000</td>\n",
              "      <td>0.0000</td>\n",
              "      <td>0.0000</td>\n",
              "    </tr>\n",
              "    <tr>\n",
              "      <th>ZN</th>\n",
              "      <td>0.0000</td>\n",
              "      <td>1.0000</td>\n",
              "      <td>0.0000</td>\n",
              "      <td>0.0000</td>\n",
              "      <td>0.0000</td>\n",
              "      <td>0.0000</td>\n",
              "      <td>0.0000</td>\n",
              "      <td>0.6644</td>\n",
              "      <td>0.0000</td>\n",
              "      <td>0.0000</td>\n",
              "      <td>0.0000</td>\n",
              "      <td>0.0000</td>\n",
              "      <td>0.0000</td>\n",
              "    </tr>\n",
              "    <tr>\n",
              "      <th>INDUS</th>\n",
              "      <td>0.0000</td>\n",
              "      <td>0.0000</td>\n",
              "      <td>1.0000</td>\n",
              "      <td>0.0000</td>\n",
              "      <td>0.7637</td>\n",
              "      <td>0.0000</td>\n",
              "      <td>0.6448</td>\n",
              "      <td>-0.7080</td>\n",
              "      <td>0.0000</td>\n",
              "      <td>0.7208</td>\n",
              "      <td>0.0000</td>\n",
              "      <td>0.0000</td>\n",
              "      <td>0.6038</td>\n",
              "    </tr>\n",
              "    <tr>\n",
              "      <th>CHAS</th>\n",
              "      <td>0.0000</td>\n",
              "      <td>0.0000</td>\n",
              "      <td>0.0000</td>\n",
              "      <td>1.0000</td>\n",
              "      <td>0.0000</td>\n",
              "      <td>0.0000</td>\n",
              "      <td>0.0000</td>\n",
              "      <td>0.0000</td>\n",
              "      <td>0.0000</td>\n",
              "      <td>0.0000</td>\n",
              "      <td>0.0000</td>\n",
              "      <td>0.0000</td>\n",
              "      <td>0.0000</td>\n",
              "    </tr>\n",
              "    <tr>\n",
              "      <th>NOX</th>\n",
              "      <td>0.0000</td>\n",
              "      <td>0.0000</td>\n",
              "      <td>0.7637</td>\n",
              "      <td>0.0000</td>\n",
              "      <td>1.0000</td>\n",
              "      <td>0.0000</td>\n",
              "      <td>0.7315</td>\n",
              "      <td>-0.7692</td>\n",
              "      <td>0.6114</td>\n",
              "      <td>0.6680</td>\n",
              "      <td>0.0000</td>\n",
              "      <td>0.0000</td>\n",
              "      <td>0.0000</td>\n",
              "    </tr>\n",
              "    <tr>\n",
              "      <th>RM</th>\n",
              "      <td>0.0000</td>\n",
              "      <td>0.0000</td>\n",
              "      <td>0.0000</td>\n",
              "      <td>0.0000</td>\n",
              "      <td>0.0000</td>\n",
              "      <td>1.0000</td>\n",
              "      <td>0.0000</td>\n",
              "      <td>0.0000</td>\n",
              "      <td>0.0000</td>\n",
              "      <td>0.0000</td>\n",
              "      <td>0.0000</td>\n",
              "      <td>0.0000</td>\n",
              "      <td>-0.6138</td>\n",
              "    </tr>\n",
              "    <tr>\n",
              "      <th>AGE</th>\n",
              "      <td>0.0000</td>\n",
              "      <td>0.0000</td>\n",
              "      <td>0.6448</td>\n",
              "      <td>0.0000</td>\n",
              "      <td>0.7315</td>\n",
              "      <td>0.0000</td>\n",
              "      <td>1.0000</td>\n",
              "      <td>-0.7479</td>\n",
              "      <td>0.0000</td>\n",
              "      <td>0.0000</td>\n",
              "      <td>0.0000</td>\n",
              "      <td>0.0000</td>\n",
              "      <td>0.6023</td>\n",
              "    </tr>\n",
              "    <tr>\n",
              "      <th>DIS</th>\n",
              "      <td>0.0000</td>\n",
              "      <td>0.6644</td>\n",
              "      <td>-0.7080</td>\n",
              "      <td>0.0000</td>\n",
              "      <td>-0.7692</td>\n",
              "      <td>0.0000</td>\n",
              "      <td>-0.7479</td>\n",
              "      <td>1.0000</td>\n",
              "      <td>0.0000</td>\n",
              "      <td>0.0000</td>\n",
              "      <td>0.0000</td>\n",
              "      <td>0.0000</td>\n",
              "      <td>0.0000</td>\n",
              "    </tr>\n",
              "    <tr>\n",
              "      <th>RAD</th>\n",
              "      <td>0.6255</td>\n",
              "      <td>0.0000</td>\n",
              "      <td>0.0000</td>\n",
              "      <td>0.0000</td>\n",
              "      <td>0.6114</td>\n",
              "      <td>0.0000</td>\n",
              "      <td>0.0000</td>\n",
              "      <td>0.0000</td>\n",
              "      <td>1.0000</td>\n",
              "      <td>0.9102</td>\n",
              "      <td>0.0000</td>\n",
              "      <td>0.0000</td>\n",
              "      <td>0.0000</td>\n",
              "    </tr>\n",
              "    <tr>\n",
              "      <th>TAX</th>\n",
              "      <td>0.0000</td>\n",
              "      <td>0.0000</td>\n",
              "      <td>0.7208</td>\n",
              "      <td>0.0000</td>\n",
              "      <td>0.6680</td>\n",
              "      <td>0.0000</td>\n",
              "      <td>0.0000</td>\n",
              "      <td>0.0000</td>\n",
              "      <td>0.9102</td>\n",
              "      <td>1.0000</td>\n",
              "      <td>0.0000</td>\n",
              "      <td>0.0000</td>\n",
              "      <td>0.0000</td>\n",
              "    </tr>\n",
              "    <tr>\n",
              "      <th>PTRATIO</th>\n",
              "      <td>0.0000</td>\n",
              "      <td>0.0000</td>\n",
              "      <td>0.0000</td>\n",
              "      <td>0.0000</td>\n",
              "      <td>0.0000</td>\n",
              "      <td>0.0000</td>\n",
              "      <td>0.0000</td>\n",
              "      <td>0.0000</td>\n",
              "      <td>0.0000</td>\n",
              "      <td>0.0000</td>\n",
              "      <td>1.0000</td>\n",
              "      <td>0.0000</td>\n",
              "      <td>0.0000</td>\n",
              "    </tr>\n",
              "    <tr>\n",
              "      <th>B</th>\n",
              "      <td>0.0000</td>\n",
              "      <td>0.0000</td>\n",
              "      <td>0.0000</td>\n",
              "      <td>0.0000</td>\n",
              "      <td>0.0000</td>\n",
              "      <td>0.0000</td>\n",
              "      <td>0.0000</td>\n",
              "      <td>0.0000</td>\n",
              "      <td>0.0000</td>\n",
              "      <td>0.0000</td>\n",
              "      <td>0.0000</td>\n",
              "      <td>1.0000</td>\n",
              "      <td>0.0000</td>\n",
              "    </tr>\n",
              "    <tr>\n",
              "      <th>LSTAT</th>\n",
              "      <td>0.0000</td>\n",
              "      <td>0.0000</td>\n",
              "      <td>0.6038</td>\n",
              "      <td>0.0000</td>\n",
              "      <td>0.0000</td>\n",
              "      <td>-0.6138</td>\n",
              "      <td>0.6023</td>\n",
              "      <td>0.0000</td>\n",
              "      <td>0.0000</td>\n",
              "      <td>0.0000</td>\n",
              "      <td>0.0000</td>\n",
              "      <td>0.0000</td>\n",
              "      <td>1.0000</td>\n",
              "    </tr>\n",
              "  </tbody>\n",
              "</table>\n",
              "</div>"
            ],
            "text/plain": [
              "          CRIM     ZN   INDUS   CHAS  ...    TAX  PTRATIO      B   LSTAT\n",
              "CRIM    1.0000 0.0000  0.0000 0.0000  ... 0.0000   0.0000 0.0000  0.0000\n",
              "ZN      0.0000 1.0000  0.0000 0.0000  ... 0.0000   0.0000 0.0000  0.0000\n",
              "INDUS   0.0000 0.0000  1.0000 0.0000  ... 0.7208   0.0000 0.0000  0.6038\n",
              "CHAS    0.0000 0.0000  0.0000 1.0000  ... 0.0000   0.0000 0.0000  0.0000\n",
              "NOX     0.0000 0.0000  0.7637 0.0000  ... 0.6680   0.0000 0.0000  0.0000\n",
              "RM      0.0000 0.0000  0.0000 0.0000  ... 0.0000   0.0000 0.0000 -0.6138\n",
              "AGE     0.0000 0.0000  0.6448 0.0000  ... 0.0000   0.0000 0.0000  0.6023\n",
              "DIS     0.0000 0.6644 -0.7080 0.0000  ... 0.0000   0.0000 0.0000  0.0000\n",
              "RAD     0.6255 0.0000  0.0000 0.0000  ... 0.9102   0.0000 0.0000  0.0000\n",
              "TAX     0.0000 0.0000  0.7208 0.0000  ... 1.0000   0.0000 0.0000  0.0000\n",
              "PTRATIO 0.0000 0.0000  0.0000 0.0000  ... 0.0000   1.0000 0.0000  0.0000\n",
              "B       0.0000 0.0000  0.0000 0.0000  ... 0.0000   0.0000 1.0000  0.0000\n",
              "LSTAT   0.0000 0.0000  0.6038 0.0000  ... 0.0000   0.0000 0.0000  1.0000\n",
              "\n",
              "[13 rows x 13 columns]"
            ]
          },
          "metadata": {
            "tags": []
          },
          "execution_count": 85
        }
      ]
    },
    {
      "cell_type": "code",
      "metadata": {
        "colab": {
          "base_uri": "https://localhost:8080/",
          "height": 596
        },
        "id": "C5CYIIMDk1Q9",
        "outputId": "b8c6cd48-9d9c-41c5-af96-c2ee07e359e5"
      },
      "source": [
        "plt.figure(figsize=(16,10))\n",
        "sns.heatmap(corr_matrix, annot = True, cmap='YlGnBu')\n",
        "plt.show()"
      ],
      "execution_count": 86,
      "outputs": [
        {
          "output_type": "display_data",
          "data": {
            "image/png": "[encoded data removed]",
            "text/plain": [
              "<Figure size 1152x720 with 2 Axes>"
            ]
          },
          "metadata": {
            "tags": [],
            "needs_background": "light"
          }
        }
      ]
    },
    {
      "cell_type": "markdown",
      "metadata": {
        "id": "LUY1DIfjlZ_A"
      },
      "source": [
        "# **Detecting Collinearity with Eigenvectors**"
      ]
    },
    {
      "cell_type": "code",
      "metadata": {
        "id": "f6xzp9b7lUnM"
      },
      "source": [
        "eigenvalues, eigenvectors = np.linalg.eig(df.corr())"
      ],
      "execution_count": 87,
      "outputs": []
    },
    {
      "cell_type": "code",
      "metadata": {
        "colab": {
          "base_uri": "https://localhost:8080/"
        },
        "id": "88468WXvlnrk",
        "outputId": "75a24259-081f-46fb-91ef-ae6f1362bae0"
      },
      "source": [
        "pd.Series(eigenvalues).sort_values()"
      ],
      "execution_count": 91,
      "outputs": [
        {
          "output_type": "execute_result",
          "data": {
            "text/plain": [
              "8    0.0635\n",
              "10   0.1693\n",
              "11   0.1860\n",
              "12   0.2202\n",
              "9    0.2769\n",
              "7    0.3961\n",
              "6    0.5354\n",
              "5    0.6574\n",
              "4    0.8348\n",
              "3    0.8576\n",
              "2    1.2426\n",
              "1    1.4333\n",
              "0    6.1268\n",
              "dtype: float64"
            ]
          },
          "metadata": {
            "tags": []
          },
          "execution_count": 91
        }
      ]
    },
    {
      "cell_type": "markdown",
      "metadata": {
        "id": "LHbsrs0BpDXO"
      },
      "source": [
        "Note that indexx 8 , eigenvalue of 0.0635, is near to zero or very small compared to others. Small value represents presence of collinearity."
      ]
    },
    {
      "cell_type": "code",
      "metadata": {
        "colab": {
          "base_uri": "https://localhost:8080/"
        },
        "id": "f-4K7UMblw66",
        "outputId": "d55c3482-9be5-44a4-a009-88c595225a43"
      },
      "source": [
        "np.abs(pd.Series(eigenvectors[:,8])).sort_values(ascending=False)"
      ],
      "execution_count": 92,
      "outputs": [
        {
          "output_type": "execute_result",
          "data": {
            "text/plain": [
              "9    0.7202\n",
              "8    0.6335\n",
              "2    0.2511\n",
              "1    0.0809\n",
              "0    0.0460\n",
              "5    0.0456\n",
              "4    0.0436\n",
              "6    0.0386\n",
              "3    0.0359\n",
              "12   0.0244\n",
              "10   0.0234\n",
              "7    0.0183\n",
              "11   0.0045\n",
              "dtype: float64"
            ]
          },
          "metadata": {
            "tags": []
          },
          "execution_count": 92
        }
      ]
    },
    {
      "cell_type": "code",
      "metadata": {
        "colab": {
          "base_uri": "https://localhost:8080/"
        },
        "id": "a5MHMwnCpgli",
        "outputId": "dd32404f-e6f1-4a8b-bf8f-a4a84287f402"
      },
      "source": [
        "print(df.columns[2], df.columns[8], df.columns[9])"
      ],
      "execution_count": 93,
      "outputs": [
        {
          "output_type": "stream",
          "text": [
            "INDUS RAD TAX\n"
          ],
          "name": "stdout"
        }
      ]
    },
    {
      "cell_type": "markdown",
      "metadata": {
        "id": "kgykiwrnp1Mk"
      },
      "source": [
        "**These are the factors that are causing multicolinearity problem.**"
      ]
    },
    {
      "cell_type": "markdown",
      "metadata": {
        "id": "apIiLhMSqBem"
      },
      "source": [
        "# **Revisiting Feature Importance and Extractions**\n",
        "\n",
        "Check:\n",
        "- Direction of the coefficient.\n",
        "- Impact of the variable factor on the model\n"
      ]
    },
    {
      "cell_type": "code",
      "metadata": {
        "colab": {
          "base_uri": "https://localhost:8080/",
          "height": 195
        },
        "id": "IfIqmRyIpofy",
        "outputId": "665b260e-66ab-41fd-a995-f96e3e28843e"
      },
      "source": [
        "df.head()"
      ],
      "execution_count": 94,
      "outputs": [
        {
          "output_type": "execute_result",
          "data": {
            "text/html": [
              "<div>\n",
              "<style scoped>\n",
              "    .dataframe tbody tr th:only-of-type {\n",
              "        vertical-align: middle;\n",
              "    }\n",
              "\n",
              "    .dataframe tbody tr th {\n",
              "        vertical-align: top;\n",
              "    }\n",
              "\n",
              "    .dataframe thead th {\n",
              "        text-align: right;\n",
              "    }\n",
              "</style>\n",
              "<table border=\"1\" class=\"dataframe\">\n",
              "  <thead>\n",
              "    <tr style=\"text-align: right;\">\n",
              "      <th></th>\n",
              "      <th>CRIM</th>\n",
              "      <th>ZN</th>\n",
              "      <th>INDUS</th>\n",
              "      <th>CHAS</th>\n",
              "      <th>NOX</th>\n",
              "      <th>RM</th>\n",
              "      <th>AGE</th>\n",
              "      <th>DIS</th>\n",
              "      <th>RAD</th>\n",
              "      <th>TAX</th>\n",
              "      <th>PTRATIO</th>\n",
              "      <th>B</th>\n",
              "      <th>LSTAT</th>\n",
              "    </tr>\n",
              "  </thead>\n",
              "  <tbody>\n",
              "    <tr>\n",
              "      <th>0</th>\n",
              "      <td>0.0063</td>\n",
              "      <td>18.0000</td>\n",
              "      <td>2.3100</td>\n",
              "      <td>0.0000</td>\n",
              "      <td>0.5380</td>\n",
              "      <td>6.5750</td>\n",
              "      <td>65.2000</td>\n",
              "      <td>4.0900</td>\n",
              "      <td>1.0000</td>\n",
              "      <td>296.0000</td>\n",
              "      <td>15.3000</td>\n",
              "      <td>396.9000</td>\n",
              "      <td>4.9800</td>\n",
              "    </tr>\n",
              "    <tr>\n",
              "      <th>1</th>\n",
              "      <td>0.0273</td>\n",
              "      <td>0.0000</td>\n",
              "      <td>7.0700</td>\n",
              "      <td>0.0000</td>\n",
              "      <td>0.4690</td>\n",
              "      <td>6.4210</td>\n",
              "      <td>78.9000</td>\n",
              "      <td>4.9671</td>\n",
              "      <td>2.0000</td>\n",
              "      <td>242.0000</td>\n",
              "      <td>17.8000</td>\n",
              "      <td>396.9000</td>\n",
              "      <td>9.1400</td>\n",
              "    </tr>\n",
              "    <tr>\n",
              "      <th>2</th>\n",
              "      <td>0.0273</td>\n",
              "      <td>0.0000</td>\n",
              "      <td>7.0700</td>\n",
              "      <td>0.0000</td>\n",
              "      <td>0.4690</td>\n",
              "      <td>7.1850</td>\n",
              "      <td>61.1000</td>\n",
              "      <td>4.9671</td>\n",
              "      <td>2.0000</td>\n",
              "      <td>242.0000</td>\n",
              "      <td>17.8000</td>\n",
              "      <td>392.8300</td>\n",
              "      <td>4.0300</td>\n",
              "    </tr>\n",
              "    <tr>\n",
              "      <th>3</th>\n",
              "      <td>0.0324</td>\n",
              "      <td>0.0000</td>\n",
              "      <td>2.1800</td>\n",
              "      <td>0.0000</td>\n",
              "      <td>0.4580</td>\n",
              "      <td>6.9980</td>\n",
              "      <td>45.8000</td>\n",
              "      <td>6.0622</td>\n",
              "      <td>3.0000</td>\n",
              "      <td>222.0000</td>\n",
              "      <td>18.7000</td>\n",
              "      <td>394.6300</td>\n",
              "      <td>2.9400</td>\n",
              "    </tr>\n",
              "    <tr>\n",
              "      <th>4</th>\n",
              "      <td>0.0691</td>\n",
              "      <td>0.0000</td>\n",
              "      <td>2.1800</td>\n",
              "      <td>0.0000</td>\n",
              "      <td>0.4580</td>\n",
              "      <td>7.1470</td>\n",
              "      <td>54.2000</td>\n",
              "      <td>6.0622</td>\n",
              "      <td>3.0000</td>\n",
              "      <td>222.0000</td>\n",
              "      <td>18.7000</td>\n",
              "      <td>396.9000</td>\n",
              "      <td>5.3300</td>\n",
              "    </tr>\n",
              "  </tbody>\n",
              "</table>\n",
              "</div>"
            ],
            "text/plain": [
              "    CRIM      ZN  INDUS   CHAS    NOX  ...    RAD      TAX  PTRATIO        B  LSTAT\n",
              "0 0.0063 18.0000 2.3100 0.0000 0.5380  ... 1.0000 296.0000  15.3000 396.9000 4.9800\n",
              "1 0.0273  0.0000 7.0700 0.0000 0.4690  ... 2.0000 242.0000  17.8000 396.9000 9.1400\n",
              "2 0.0273  0.0000 7.0700 0.0000 0.4690  ... 2.0000 242.0000  17.8000 392.8300 4.0300\n",
              "3 0.0324  0.0000 2.1800 0.0000 0.4580  ... 3.0000 222.0000  18.7000 394.6300 2.9400\n",
              "4 0.0691  0.0000 2.1800 0.0000 0.4580  ... 3.0000 222.0000  18.7000 396.9000 5.3300\n",
              "\n",
              "[5 rows x 13 columns]"
            ]
          },
          "metadata": {
            "tags": []
          },
          "execution_count": 94
        }
      ]
    },
    {
      "cell_type": "code",
      "metadata": {
        "colab": {
          "base_uri": "https://localhost:8080/",
          "height": 332
        },
        "id": "cGq1u08JqgeB",
        "outputId": "c201f6e1-ca9d-4517-ec4b-de88dd7bbbdd"
      },
      "source": [
        "plt.hist((df['TAX']))"
      ],
      "execution_count": 95,
      "outputs": [
        {
          "output_type": "execute_result",
          "data": {
            "text/plain": [
              "(array([ 54., 100., 108.,  32.,  74.,   1.,   0.,   0.,   0., 137.]),\n",
              " array([187. , 239.4, 291.8, 344.2, 396.6, 449. , 501.4, 553.8, 606.2,\n",
              "        658.6, 711. ]),\n",
              " <a list of 10 Patch objects>)"
            ]
          },
          "metadata": {
            "tags": []
          },
          "execution_count": 95
        },
        {
          "output_type": "display_data",
          "data": {
            "image/png": "[encoded data removed]",
            "text/plain": [
              "<Figure size 432x288 with 1 Axes>"
            ]
          },
          "metadata": {
            "tags": [],
            "needs_background": "light"
          }
        }
      ]
    },
    {
      "cell_type": "code",
      "metadata": {
        "colab": {
          "base_uri": "https://localhost:8080/",
          "height": 332
        },
        "id": "6d0rES-FqkIq",
        "outputId": "eac40a76-2c1a-4aa7-c6b8-879947b2eadc"
      },
      "source": [
        "plt.hist(df['NOX'])"
      ],
      "execution_count": 97,
      "outputs": [
        {
          "output_type": "execute_result",
          "data": {
            "text/plain": [
              "(array([75., 80., 89., 60., 78., 30., 57., 21.,  0., 16.]),\n",
              " array([0.385 , 0.4336, 0.4822, 0.5308, 0.5794, 0.628 , 0.6766, 0.7252,\n",
              "        0.7738, 0.8224, 0.871 ]),\n",
              " <a list of 10 Patch objects>)"
            ]
          },
          "metadata": {
            "tags": []
          },
          "execution_count": 97
        },
        {
          "output_type": "display_data",
          "data": {
            "image/png": "[encoded data removed]",
            "text/plain": [
              "<Figure size 432x288 with 1 Axes>"
            ]
          },
          "metadata": {
            "tags": [],
            "needs_background": "light"
          }
        }
      ]
    },
    {
      "cell_type": "markdown",
      "metadata": {
        "id": "1mtWoHm8qrq5"
      },
      "source": [
        "# **Standardise Variable to Identify Key Feature(s)**\n",
        "\n",
        "In order to perform pont 2 properly one needs to standardise the variable "
      ]
    },
    {
      "cell_type": "code",
      "metadata": {
        "id": "fCDdOHLuqn4b"
      },
      "source": [
        "from sklearn.linear_model import LinearRegression"
      ],
      "execution_count": 98,
      "outputs": []
    },
    {
      "cell_type": "code",
      "metadata": {
        "id": "OjINkWTVrGQN"
      },
      "source": [
        "model = LinearRegression()"
      ],
      "execution_count": 99,
      "outputs": []
    },
    {
      "cell_type": "code",
      "metadata": {
        "colab": {
          "base_uri": "https://localhost:8080/"
        },
        "id": "Bk8-2W96rH1n",
        "outputId": "dbc3ea54-3dad-4bf9-9cf9-4dd3e0c84b63"
      },
      "source": [
        "model.fit(X, y)"
      ],
      "execution_count": 100,
      "outputs": [
        {
          "output_type": "execute_result",
          "data": {
            "text/plain": [
              "LinearRegression(copy_X=True, fit_intercept=True, n_jobs=None, normalize=False)"
            ]
          },
          "metadata": {
            "tags": []
          },
          "execution_count": 100
        }
      ]
    },
    {
      "cell_type": "code",
      "metadata": {
        "id": "QhP_OU6RrJgC"
      },
      "source": [
        "result  = pd.DataFrame(list(zip(model.coef_, df.columns)) , columns = ['coefficient' , 'name']).set_index('name')"
      ],
      "execution_count": 103,
      "outputs": []
    },
    {
      "cell_type": "code",
      "metadata": {
        "colab": {
          "base_uri": "https://localhost:8080/",
          "height": 462
        },
        "id": "GoAwCAgCriFt",
        "outputId": "60ddc827-027d-41e0-9c0a-a85ae9c134b1"
      },
      "source": [
        "np.abs(result).sort_values(by='coefficient' , ascending = False)"
      ],
      "execution_count": 104,
      "outputs": [
        {
          "output_type": "execute_result",
          "data": {
            "text/html": [
              "<div>\n",
              "<style scoped>\n",
              "    .dataframe tbody tr th:only-of-type {\n",
              "        vertical-align: middle;\n",
              "    }\n",
              "\n",
              "    .dataframe tbody tr th {\n",
              "        vertical-align: top;\n",
              "    }\n",
              "\n",
              "    .dataframe thead th {\n",
              "        text-align: right;\n",
              "    }\n",
              "</style>\n",
              "<table border=\"1\" class=\"dataframe\">\n",
              "  <thead>\n",
              "    <tr style=\"text-align: right;\">\n",
              "      <th></th>\n",
              "      <th>coefficient</th>\n",
              "    </tr>\n",
              "    <tr>\n",
              "      <th>name</th>\n",
              "      <th></th>\n",
              "    </tr>\n",
              "  </thead>\n",
              "  <tbody>\n",
              "    <tr>\n",
              "      <th>NOX</th>\n",
              "      <td>17.7666</td>\n",
              "    </tr>\n",
              "    <tr>\n",
              "      <th>RM</th>\n",
              "      <td>3.8099</td>\n",
              "    </tr>\n",
              "    <tr>\n",
              "      <th>CHAS</th>\n",
              "      <td>2.6867</td>\n",
              "    </tr>\n",
              "    <tr>\n",
              "      <th>DIS</th>\n",
              "      <td>1.4756</td>\n",
              "    </tr>\n",
              "    <tr>\n",
              "      <th>PTRATIO</th>\n",
              "      <td>0.9527</td>\n",
              "    </tr>\n",
              "    <tr>\n",
              "      <th>LSTAT</th>\n",
              "      <td>0.5248</td>\n",
              "    </tr>\n",
              "    <tr>\n",
              "      <th>RAD</th>\n",
              "      <td>0.3060</td>\n",
              "    </tr>\n",
              "    <tr>\n",
              "      <th>CRIM</th>\n",
              "      <td>0.1080</td>\n",
              "    </tr>\n",
              "    <tr>\n",
              "      <th>ZN</th>\n",
              "      <td>0.0464</td>\n",
              "    </tr>\n",
              "    <tr>\n",
              "      <th>INDUS</th>\n",
              "      <td>0.0206</td>\n",
              "    </tr>\n",
              "    <tr>\n",
              "      <th>TAX</th>\n",
              "      <td>0.0123</td>\n",
              "    </tr>\n",
              "    <tr>\n",
              "      <th>B</th>\n",
              "      <td>0.0093</td>\n",
              "    </tr>\n",
              "    <tr>\n",
              "      <th>AGE</th>\n",
              "      <td>0.0007</td>\n",
              "    </tr>\n",
              "  </tbody>\n",
              "</table>\n",
              "</div>"
            ],
            "text/plain": [
              "         coefficient\n",
              "name                \n",
              "NOX          17.7666\n",
              "RM            3.8099\n",
              "CHAS          2.6867\n",
              "DIS           1.4756\n",
              "PTRATIO       0.9527\n",
              "LSTAT         0.5248\n",
              "RAD           0.3060\n",
              "CRIM          0.1080\n",
              "ZN            0.0464\n",
              "INDUS         0.0206\n",
              "TAX           0.0123\n",
              "B             0.0093\n",
              "AGE           0.0007"
            ]
          },
          "metadata": {
            "tags": []
          },
          "execution_count": 104
        }
      ]
    },
    {
      "cell_type": "code",
      "metadata": {
        "id": "zNbHZ29pr1LV"
      },
      "source": [
        "from sklearn.preprocessing import StandardScaler\n",
        "from sklearn.pipeline import make_pipeline\n",
        "scaler = StandardScaler()\n",
        "standard_coefficent_linear_reg = make_pipeline(scaler, model)"
      ],
      "execution_count": 105,
      "outputs": []
    },
    {
      "cell_type": "code",
      "metadata": {
        "colab": {
          "base_uri": "https://localhost:8080/",
          "height": 462
        },
        "id": "H9crg4C0sRZA",
        "outputId": "b38e11b1-f139-4cdf-9f0d-51cca7c24cd2"
      },
      "source": [
        "standard_coefficent_linear_reg.fit(X, y)\n",
        "result = pd.DataFrame(list(zip(standard_coefficent_linear_reg.steps[1][1].coef_, df.columns)) , columns = ['coefficient' , 'name']).set_index('name')\n",
        "np.abs(result).sort_values(by = 'coefficient', ascending= False)"
      ],
      "execution_count": 106,
      "outputs": [
        {
          "output_type": "execute_result",
          "data": {
            "text/html": [
              "<div>\n",
              "<style scoped>\n",
              "    .dataframe tbody tr th:only-of-type {\n",
              "        vertical-align: middle;\n",
              "    }\n",
              "\n",
              "    .dataframe tbody tr th {\n",
              "        vertical-align: top;\n",
              "    }\n",
              "\n",
              "    .dataframe thead th {\n",
              "        text-align: right;\n",
              "    }\n",
              "</style>\n",
              "<table border=\"1\" class=\"dataframe\">\n",
              "  <thead>\n",
              "    <tr style=\"text-align: right;\">\n",
              "      <th></th>\n",
              "      <th>coefficient</th>\n",
              "    </tr>\n",
              "    <tr>\n",
              "      <th>name</th>\n",
              "      <th></th>\n",
              "    </tr>\n",
              "  </thead>\n",
              "  <tbody>\n",
              "    <tr>\n",
              "      <th>LSTAT</th>\n",
              "      <td>3.7436</td>\n",
              "    </tr>\n",
              "    <tr>\n",
              "      <th>DIS</th>\n",
              "      <td>3.1040</td>\n",
              "    </tr>\n",
              "    <tr>\n",
              "      <th>RM</th>\n",
              "      <td>2.6742</td>\n",
              "    </tr>\n",
              "    <tr>\n",
              "      <th>RAD</th>\n",
              "      <td>2.6622</td>\n",
              "    </tr>\n",
              "    <tr>\n",
              "      <th>TAX</th>\n",
              "      <td>2.0768</td>\n",
              "    </tr>\n",
              "    <tr>\n",
              "      <th>PTRATIO</th>\n",
              "      <td>2.0606</td>\n",
              "    </tr>\n",
              "    <tr>\n",
              "      <th>NOX</th>\n",
              "      <td>2.0567</td>\n",
              "    </tr>\n",
              "    <tr>\n",
              "      <th>ZN</th>\n",
              "      <td>1.0816</td>\n",
              "    </tr>\n",
              "    <tr>\n",
              "      <th>CRIM</th>\n",
              "      <td>0.9281</td>\n",
              "    </tr>\n",
              "    <tr>\n",
              "      <th>B</th>\n",
              "      <td>0.8493</td>\n",
              "    </tr>\n",
              "    <tr>\n",
              "      <th>CHAS</th>\n",
              "      <td>0.6817</td>\n",
              "    </tr>\n",
              "    <tr>\n",
              "      <th>INDUS</th>\n",
              "      <td>0.1409</td>\n",
              "    </tr>\n",
              "    <tr>\n",
              "      <th>AGE</th>\n",
              "      <td>0.0195</td>\n",
              "    </tr>\n",
              "  </tbody>\n",
              "</table>\n",
              "</div>"
            ],
            "text/plain": [
              "         coefficient\n",
              "name                \n",
              "LSTAT         3.7436\n",
              "DIS           3.1040\n",
              "RM            2.6742\n",
              "RAD           2.6622\n",
              "TAX           2.0768\n",
              "PTRATIO       2.0606\n",
              "NOX           2.0567\n",
              "ZN            1.0816\n",
              "CRIM          0.9281\n",
              "B             0.8493\n",
              "CHAS          0.6817\n",
              "INDUS         0.1409\n",
              "AGE           0.0195"
            ]
          },
          "metadata": {
            "tags": []
          },
          "execution_count": 106
        }
      ]
    },
    {
      "cell_type": "markdown",
      "metadata": {
        "id": "_NdZLTNOtXm3"
      },
      "source": [
        "# **Use R2 to identify Key Features**\n",
        "\n",
        "---\n",
        "\n",
        "\n",
        "\n",
        "---\n",
        "\n",
        "- Compare R2 of model against R2 model without a featres.\n",
        "- A Significant change in R2 signify the importance of the feature. \n",
        "\n"
      ]
    },
    {
      "cell_type": "code",
      "metadata": {
        "id": "yAMEE_Bbs6-D"
      },
      "source": [
        "from sklearn.metrics import r2_score"
      ],
      "execution_count": 107,
      "outputs": []
    },
    {
      "cell_type": "code",
      "metadata": {
        "colab": {
          "base_uri": "https://localhost:8080/"
        },
        "id": "GRo76Xptt8vH",
        "outputId": "1c537ea9-b394-4140-c603-599150b21eba"
      },
      "source": [
        "linear_reg = smf.ols(formula='y ~ CRIM + ZN + INDUS + CHAS + NOX + RM + AGE + DIS + RAD + TAX + PTRATIO + B + LSTAT' , data = df)\n",
        "benchmak = linear_reg.fit()\n",
        "result = r2_score(y, benchmak.predict(df))\n",
        "print(f'The R2 score of the benchmark is {result}')"
      ],
      "execution_count": 109,
      "outputs": [
        {
          "output_type": "stream",
          "text": [
            "The R2 score of the benchmark is 0.7406426641094094\n"
          ],
          "name": "stdout"
        }
      ]
    },
    {
      "cell_type": "markdown",
      "metadata": {
        "id": "inC-RoQcwEjR"
      },
      "source": [
        "without LSTAT"
      ]
    },
    {
      "cell_type": "code",
      "metadata": {
        "colab": {
          "base_uri": "https://localhost:8080/"
        },
        "id": "5LmqeweHubUC",
        "outputId": "df489e90-5dc9-4873-d1c3-6d3b5f86b012"
      },
      "source": [
        "linear_reg = smf.ols(formula='y ~ CRIM + ZN + INDUS + CHAS + NOX + RM + AGE + DIS + RAD + TAX + PTRATIO + B' , data = df)\n",
        "without_lstat = linear_reg.fit()\n",
        "result = r2_score(y, without_lstat.predict(df))\n",
        "print(f'The value of R2 without LSTAT is {result}')"
      ],
      "execution_count": 110,
      "outputs": [
        {
          "output_type": "stream",
          "text": [
            "The value of R2 without LSTAT is 0.6842042799773889\n"
          ],
          "name": "stdout"
        }
      ]
    },
    {
      "cell_type": "markdown",
      "metadata": {
        "id": "F0TgWnOR2bx2"
      },
      "source": [
        "without age"
      ]
    },
    {
      "cell_type": "code",
      "metadata": {
        "colab": {
          "base_uri": "https://localhost:8080/"
        },
        "id": "48rYKSprwkaN",
        "outputId": "6ee091fe-d23a-443e-fecc-6697d89ed3ae"
      },
      "source": [
        "linear_reg = smf.ols(formula='y ~ CRIM + ZN + INDUS + CHAS + NOX + RM + DIS + RAD + TAX + PTRATIO + B + LSTAT' , data = df)\n",
        "without_age = linear_reg.fit()\n",
        "result = r2_score(y, without_age.predict(df))\n",
        "print(f'The value of R2 without AGE is {result}')"
      ],
      "execution_count": 111,
      "outputs": [
        {
          "output_type": "stream",
          "text": [
            "The value of R2 without AGE is 0.7406412165505145\n"
          ],
          "name": "stdout"
        }
      ]
    },
    {
      "cell_type": "markdown",
      "metadata": {
        "id": "B3Caf13d4VNS"
      },
      "source": [
        "# **Regression Summary**"
      ]
    },
    {
      "cell_type": "code",
      "metadata": {
        "id": "MP2PEpBx2uCZ"
      },
      "source": [
        "import numpy as np\n",
        "import matplotlib.pyplot as plt\n",
        "import seaborn as sns\n",
        "sns.set_style('whitegrid')\n",
        "%matplotlib inline\n",
        "import pandas as pd"
      ],
      "execution_count": 112,
      "outputs": []
    },
    {
      "cell_type": "markdown",
      "metadata": {
        "id": "4tdnMuzr41kR"
      },
      "source": [
        "**Linear Regression**"
      ]
    },
    {
      "cell_type": "code",
      "metadata": {
        "id": "shbdg4hc4vyc"
      },
      "source": [
        "from sklearn.linear_model import LinearRegression"
      ],
      "execution_count": 114,
      "outputs": []
    },
    {
      "cell_type": "code",
      "metadata": {
        "colab": {
          "base_uri": "https://localhost:8080/",
          "height": 500
        },
        "id": "wMGtgdia40Pz",
        "outputId": "8eb7270c-96db-47a3-c749-46ea2bfd2ab3"
      },
      "source": [
        "np.random.seed(42)\n",
        "n_samples = 100\n",
        "rng = np.random.randn(n_samples) * 10\n",
        "y_gen = 0.5 * rng + 2 * np.random.randn(n_samples)\n",
        "\n",
        "lr = LinearRegression()\n",
        "lr.fit(rng.reshape(-1,1), y_gen)\n",
        "model_pred = lr.predict(rng.reshape(-1,1))\n",
        "\n",
        "plt.figure(figsize=(10,8))\n",
        "plt.scatter(rng, y_gen)\n",
        "plt.plot(rng, model_pred)\n",
        "print(f'The coefficient estimate is {lr.coef_}')"
      ],
      "execution_count": 117,
      "outputs": [
        {
          "output_type": "stream",
          "text": [
            "The coefficient estimate is [0.47134857]\n"
          ],
          "name": "stdout"
        },
        {
          "output_type": "display_data",
          "data": {
            "image/png": "[encoded data removed]",
            "text/plain": [
              "<Figure size 720x576 with 1 Axes>"
            ]
          },
          "metadata": {
            "tags": [],
            "needs_background": "light"
          }
        }
      ]
    },
    {
      "cell_type": "code",
      "metadata": {
        "id": "9fE16C4R4-Sp"
      },
      "source": [
        "idx = rng.argmax()\n",
        "y_gen[idx] = 200\n",
        "idx  = rng.argmin()\n",
        "y_gen[idx] = -200"
      ],
      "execution_count": 118,
      "outputs": []
    },
    {
      "cell_type": "code",
      "metadata": {
        "colab": {
          "base_uri": "https://localhost:8080/",
          "height": 500
        },
        "id": "j1B1uHlK7Y45",
        "outputId": "09dd3508-bf21-433a-efee-6208d98f2153"
      },
      "source": [
        "plt.figure(figsize=(10,8))\n",
        "plt.scatter(rng, y_gen)\n",
        "\n",
        "o_lr = LinearRegression(normalize=True)\n",
        "o_lr.fit(rng.reshape(-1, 1), y_gen)\n",
        "o_model_pred  = o_lr.predict(rng.reshape(-1,1))\n",
        "\n",
        "plt.scatter(rng, y_gen)\n",
        "plt.plot(rng , o_model_pred)\n",
        "\n",
        "print(f'The coefficient estmate is {o_lr.coef_}')"
      ],
      "execution_count": 119,
      "outputs": [
        {
          "output_type": "stream",
          "text": [
            "The coefficient estmate is [1.50556072]\n"
          ],
          "name": "stdout"
        },
        {
          "output_type": "display_data",
          "data": {
            "image/png": "[encoded data removed]",
            "text/plain": [
              "<Figure size 720x576 with 1 Axes>"
            ]
          },
          "metadata": {
            "tags": [],
            "needs_background": "light"
          }
        }
      ]
    },
    {
      "cell_type": "markdown",
      "metadata": {
        "id": "31mtpZXGCCdY"
      },
      "source": [
        "**Ridge Regression**"
      ]
    },
    {
      "cell_type": "code",
      "metadata": {
        "id": "i4R2c7OE8Uo1"
      },
      "source": [
        "from sklearn.linear_model import Ridge\n"
      ],
      "execution_count": 122,
      "outputs": []
    },
    {
      "cell_type": "code",
      "metadata": {
        "colab": {
          "base_uri": "https://localhost:8080/",
          "height": 500
        },
        "id": "O5e2-XlIB-jN",
        "outputId": "dc58ef23-e566-4dd6-db34-6f26857a0d9c"
      },
      "source": [
        "ridge_mod = Ridge(alpha = 0.5, normalize=True)\n",
        "ridge_mod.fit(rng.reshape(-1,1),y_gen)\n",
        "ridge_model_pred = ridge_mod.predict(rng.reshape(-1,1))\n",
        "\n",
        "plt.figure(figsize=(10,8))\n",
        "plt.scatter(rng,y_gen)\n",
        "plt.plot(rng, ridge_model_pred)\n",
        "print(f'The Coeffecient estimate for ridge model is {ridge_mod.coef_}')"
      ],
      "execution_count": 124,
      "outputs": [
        {
          "output_type": "stream",
          "text": [
            "The Coeffecient estimate for ridge model is [1.00370714]\n"
          ],
          "name": "stdout"
        },
        {
          "output_type": "display_data",
          "data": {
            "image/png": "[encoded data removed]",
            "text/plain": [
              "<Figure size 720x576 with 1 Axes>"
            ]
          },
          "metadata": {
            "tags": [],
            "needs_background": "light"
          }
        }
      ]
    },
    {
      "cell_type": "markdown",
      "metadata": {
        "id": "TYIwQqb7DssV"
      },
      "source": [
        "**ElasticNet Regression**"
      ]
    },
    {
      "cell_type": "code",
      "metadata": {
        "id": "wpe1CfOzCbmB"
      },
      "source": [
        "from sklearn.linear_model import ElasticNet"
      ],
      "execution_count": 125,
      "outputs": []
    },
    {
      "cell_type": "code",
      "metadata": {
        "colab": {
          "base_uri": "https://localhost:8080/",
          "height": 500
        },
        "id": "4IeNTMGID2IS",
        "outputId": "62583e2c-0d64-4888-ec4c-c0d98fc5277a"
      },
      "source": [
        "en_mod = ElasticNet(alpha=0.02, normalize=True)\n",
        "en_mod.fit(rng.reshape(-1,1), y_gen)\n",
        "en_model_predict = en_mod.predict(rng.reshape(-1,1))\n",
        "\n",
        "plt.figure(figsize=(10,8))\n",
        "plt.scatter(rng,y_gen)\n",
        "plt.plot(rng, en_model_predict)\n",
        "\n",
        "print(f'The coeffecient estimate of Elastic Net is {en_mod.coef_}')"
      ],
      "execution_count": 127,
      "outputs": [
        {
          "output_type": "stream",
          "text": [
            "The coeffecient estimate of Elastic Net is [0.74724704]\n"
          ],
          "name": "stdout"
        },
        {
          "output_type": "display_data",
          "data": {
            "image/png": "[encoded data removed]",
            "text/plain": [
              "<Figure size 720x576 with 1 Axes>"
            ]
          },
          "metadata": {
            "tags": [],
            "needs_background": "light"
          }
        }
      ]
    },
    {
      "cell_type": "markdown",
      "metadata": {
        "id": "_ECspDrhEy6J"
      },
      "source": [
        "# **Conclusions**\n",
        "\n",
        "**When should i use Lasso , Ridge or Elasticnet ?**\n",
        "\n",
        "- **Ridge** **Regression** can't zero-out coefficients, you either end up including all the coeffeicients or none of them.\n",
        "- **LASSO** does both parameter shrinkage and variable selection automically.\n",
        "- if some of your covariates are highly correlated, you want ot look at **Elastic Net** instead of LASSO.\n",
        "\n",
        "\n",
        " \n",
        "\n"
      ]
    },
    {
      "cell_type": "markdown",
      "metadata": {
        "id": "0Iw5Exx6HUvq"
      },
      "source": [
        "# **Polynomial Regression**"
      ]
    },
    {
      "cell_type": "code",
      "metadata": {
        "colab": {
          "base_uri": "https://localhost:8080/",
          "height": 500
        },
        "id": "nUmWVZ-QEnIK",
        "outputId": "766b136d-4aeb-42ed-ca72-9022b7bce13b"
      },
      "source": [
        "np.random.seed(42)\n",
        "n_samples = 100\n",
        "\n",
        "X = np.linspace(0, 10, 100)\n",
        "rng = np.random.randn(n_samples) * 100\n",
        "\n",
        "y = X ** 3 + rng + 100\n",
        "\n",
        "plt.figure(figsize=(10,8))\n",
        "plt.scatter(X, y)"
      ],
      "execution_count": 133,
      "outputs": [
        {
          "output_type": "execute_result",
          "data": {
            "text/plain": [
              "<matplotlib.collections.PathCollection at 0x7f5dcf133390>"
            ]
          },
          "metadata": {
            "tags": []
          },
          "execution_count": 133
        },
        {
          "output_type": "display_data",
          "data": {
            "image/png": "[encoded data removed]",
            "text/plain": [
              "<Figure size 720x576 with 1 Axes>"
            ]
          },
          "metadata": {
            "tags": [],
            "needs_background": "light"
          }
        }
      ]
    },
    {
      "cell_type": "code",
      "metadata": {
        "id": "ffsm-3wFIVFz"
      },
      "source": [
        "from sklearn.linear_model import LinearRegression\n",
        "from sklearn.metrics import r2_score"
      ],
      "execution_count": 130,
      "outputs": []
    },
    {
      "cell_type": "markdown",
      "metadata": {
        "id": "FuCFmLMgJs6v"
      },
      "source": [
        "Linear Regression\n"
      ]
    },
    {
      "cell_type": "code",
      "metadata": {
        "colab": {
          "base_uri": "https://localhost:8080/",
          "height": 500
        },
        "id": "BYTNSwtIJEgr",
        "outputId": "75c1d237-14f4-4224-be43-f27b1bb8271f"
      },
      "source": [
        " lr  = LinearRegression()\n",
        " lr.fit(X.reshape(-1,1),y)\n",
        " model_pred = lr.predict(X.reshape(-1,1))\n",
        "\n",
        " plt.figure(figsize=(10,8))\n",
        " plt.scatter(X, y)\n",
        " plt.plot(X, model_pred)\n",
        " print(f'The R2 Score for the polynomial in Linear Regression is {r2_score(y, model_pred)}')"
      ],
      "execution_count": 134,
      "outputs": [
        {
          "output_type": "stream",
          "text": [
            "The R2 Score for the polynomial in Linear Regression is 0.7643394574930141\n"
          ],
          "name": "stdout"
        },
        {
          "output_type": "display_data",
          "data": {
            "image/png": "[encoded data removed]",
            "text/plain": [
              "<Figure size 720x576 with 1 Axes>"
            ]
          },
          "metadata": {
            "tags": [],
            "needs_background": "light"
          }
        }
      ]
    },
    {
      "cell_type": "markdown",
      "metadata": {
        "id": "_AK2o4ncOsMh"
      },
      "source": [
        "**Polynomial**"
      ]
    },
    {
      "cell_type": "code",
      "metadata": {
        "id": "ma_KUvW7OSOF"
      },
      "source": [
        "from sklearn.preprocessing import PolynomialFeatures"
      ],
      "execution_count": 135,
      "outputs": []
    },
    {
      "cell_type": "code",
      "metadata": {
        "id": "O8Xpk_FlO19c"
      },
      "source": [
        "poly_reg = PolynomialFeatures(degree=2)\n",
        "X_poly = poly_reg.fit_transform(X.reshape(-1,1))"
      ],
      "execution_count": 136,
      "outputs": []
    },
    {
      "cell_type": "code",
      "metadata": {
        "id": "4rz0IU5GPJz0"
      },
      "source": [
        "lin_reg_2 = LinearRegression()\n",
        "lin_reg_2.fit(X_poly, y.reshape(-1, 1))\n",
        "y_pred = lin_reg_2.predict(X_poly)"
      ],
      "execution_count": 137,
      "outputs": []
    },
    {
      "cell_type": "code",
      "metadata": {
        "colab": {
          "base_uri": "https://localhost:8080/",
          "height": 500
        },
        "id": "ZC1vnYo6P0FF",
        "outputId": "3470f896-b109-4d38-8ffe-77474e8fe91b"
      },
      "source": [
        "plt.figure(figsize=(10,8))\n",
        "plt.scatter(X, y)\n",
        "plt.plot(X, y_pred)\n",
        "print(f'The Polynomial regression score for polynomial equation is {r2_score(y,y_pred)}')"
      ],
      "execution_count": 138,
      "outputs": [
        {
          "output_type": "stream",
          "text": [
            "The Polynomial regression score for polynomial equation is 0.9173858308909386\n"
          ],
          "name": "stdout"
        },
        {
          "output_type": "display_data",
          "data": {
            "image/png": "[encoded data removed]",
            "text/plain": [
              "<Figure size 720x576 with 1 Axes>"
            ]
          },
          "metadata": {
            "tags": [],
            "needs_background": "light"
          }
        }
      ]
    },
    {
      "cell_type": "code",
      "metadata": {
        "id": "Y0tW-NSTQLTT"
      },
      "source": [
        ""
      ],
      "execution_count": null,
      "outputs": []
    }
  ]
}