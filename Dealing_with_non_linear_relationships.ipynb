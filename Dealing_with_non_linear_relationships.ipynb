{
  "nbformat": 4,
  "nbformat_minor": 0,
  "metadata": {
    "colab": {
      "name": "Dealing_with_non_linear relationships.ipynb",
      "provenance": [],
      "collapsed_sections": [],
      "mount_file_id": "1-RUULfY8cB3QuO_8TcOeQ5ZAmk2XtOk3",
      "authorship_tag": "ABX9TyNWODrO895S4A/x59dueqzO",
      "include_colab_link": true
    },
    "kernelspec": {
      "name": "python3",
      "display_name": "Python 3"
    },
    "language_info": {
      "name": "python"
    }
  },
  "cells": [
    {
      "cell_type": "markdown",
      "metadata": {
        "id": "view-in-github",
        "colab_type": "text"
      },
      "source": [
        "<a href=\"https://colab.research.google.com/github/milu234/Project_Perseverance/blob/main/Dealing_with_non_linear_relationships.ipynb\" target=\"_parent\"><img src=\"https://colab.research.google.com/assets/colab-badge.svg\" alt=\"Open In Colab\"/></a>"
      ]
    },
    {
      "cell_type": "code",
      "metadata": {
        "id": "2Nzreyee3E2e"
      },
      "source": [
        "# df = pd.read_csv('/content/drive/MyDrive/Colab Notebooks/DeepLearning/HousingData.csv')\n",
        "import pandas as pd\n",
        "import numpy as np\n",
        "import matplotlib.pyplot as plt\n",
        "import seaborn as sns\n",
        "import sys\n",
        "import sklearn\n",
        "\n"
      ],
      "execution_count": 97,
      "outputs": []
    },
    {
      "cell_type": "code",
      "metadata": {
        "id": "g9qtSvBX3yJj"
      },
      "source": [
        "from sklearn.datasets import load_boston\n",
        "boston_data = load_boston()\n",
        "df = pd.DataFrame(boston_data.data, columns = boston_data.feature_names)"
      ],
      "execution_count": 98,
      "outputs": []
    },
    {
      "cell_type": "code",
      "metadata": {
        "colab": {
          "base_uri": "https://localhost:8080/"
        },
        "id": "4rPIf8Uw37C3",
        "outputId": "6bc9f67c-6565-4731-e785-1527de140d43"
      },
      "source": [
        "df.head"
      ],
      "execution_count": 99,
      "outputs": [
        {
          "output_type": "execute_result",
          "data": {
            "text/plain": [
              "<bound method NDFrame.head of         CRIM    ZN  INDUS  CHAS    NOX  ...  RAD    TAX  PTRATIO       B  LSTAT\n",
              "0    0.00632  18.0   2.31   0.0  0.538  ...  1.0  296.0     15.3  396.90   4.98\n",
              "1    0.02731   0.0   7.07   0.0  0.469  ...  2.0  242.0     17.8  396.90   9.14\n",
              "2    0.02729   0.0   7.07   0.0  0.469  ...  2.0  242.0     17.8  392.83   4.03\n",
              "3    0.03237   0.0   2.18   0.0  0.458  ...  3.0  222.0     18.7  394.63   2.94\n",
              "4    0.06905   0.0   2.18   0.0  0.458  ...  3.0  222.0     18.7  396.90   5.33\n",
              "..       ...   ...    ...   ...    ...  ...  ...    ...      ...     ...    ...\n",
              "501  0.06263   0.0  11.93   0.0  0.573  ...  1.0  273.0     21.0  391.99   9.67\n",
              "502  0.04527   0.0  11.93   0.0  0.573  ...  1.0  273.0     21.0  396.90   9.08\n",
              "503  0.06076   0.0  11.93   0.0  0.573  ...  1.0  273.0     21.0  396.90   5.64\n",
              "504  0.10959   0.0  11.93   0.0  0.573  ...  1.0  273.0     21.0  393.45   6.48\n",
              "505  0.04741   0.0  11.93   0.0  0.573  ...  1.0  273.0     21.0  396.90   7.88\n",
              "\n",
              "[506 rows x 13 columns]>"
            ]
          },
          "metadata": {
            "tags": []
          },
          "execution_count": 99
        }
      ]
    },
    {
      "cell_type": "code",
      "metadata": {
        "id": "rUAajcdR4CEm"
      },
      "source": [
        "y = boston_data.target"
      ],
      "execution_count": 100,
      "outputs": []
    },
    {
      "cell_type": "code",
      "metadata": {
        "id": "aS2aez2c4HQT"
      },
      "source": [
        "# print(f\"The value of y is {y}\")"
      ],
      "execution_count": 101,
      "outputs": []
    },
    {
      "cell_type": "markdown",
      "metadata": {
        "id": "BvngM4x85ooh"
      },
      "source": [
        "# **Brief Introduction to Decision tree**\n",
        "\n",
        "Using Decision Tree Regressor"
      ]
    },
    {
      "cell_type": "code",
      "metadata": {
        "id": "h9-YUFRP5icZ"
      },
      "source": [
        "from sklearn.tree import DecisionTreeRegressor"
      ],
      "execution_count": 102,
      "outputs": []
    },
    {
      "cell_type": "code",
      "metadata": {
        "id": "4yc4HV4z53Zc"
      },
      "source": [
        "X = df[['LSTAT']].values"
      ],
      "execution_count": 103,
      "outputs": []
    },
    {
      "cell_type": "code",
      "metadata": {
        "id": "9jRHXQSL0miw"
      },
      "source": [
        "tree = DecisionTreeRegressor(max_depth=5)"
      ],
      "execution_count": 104,
      "outputs": []
    },
    {
      "cell_type": "code",
      "metadata": {
        "colab": {
          "base_uri": "https://localhost:8080/"
        },
        "id": "CCtI54G00seH",
        "outputId": "f2db0afd-5acb-4db3-e5c2-cc48fb3d3d61"
      },
      "source": [
        "tree.fit(X,y)"
      ],
      "execution_count": 105,
      "outputs": [
        {
          "output_type": "execute_result",
          "data": {
            "text/plain": [
              "DecisionTreeRegressor(ccp_alpha=0.0, criterion='mse', max_depth=5,\n",
              "                      max_features=None, max_leaf_nodes=None,\n",
              "                      min_impurity_decrease=0.0, min_impurity_split=None,\n",
              "                      min_samples_leaf=1, min_samples_split=2,\n",
              "                      min_weight_fraction_leaf=0.0, presort='deprecated',\n",
              "                      random_state=None, splitter='best')"
            ]
          },
          "metadata": {
            "tags": []
          },
          "execution_count": 105
        }
      ]
    },
    {
      "cell_type": "code",
      "metadata": {
        "id": "bRKLs6Gc0woM"
      },
      "source": [
        "sort_idx = X.flatten().argsort()"
      ],
      "execution_count": 106,
      "outputs": []
    },
    {
      "cell_type": "code",
      "metadata": {
        "colab": {
          "base_uri": "https://localhost:8080/",
          "height": 519
        },
        "id": "oBl_uqYG3IeK",
        "outputId": "07735637-c0c5-45de-fddb-5ba0e98837d7"
      },
      "source": [
        "plt.figure(figsize=(10,8))\n",
        "plt.scatter(X[sort_idx], y[sort_idx])\n",
        "plt.plot(X[sort_idx],tree.predict(X[sort_idx]),color='k')\n",
        "plt.xlabel('LSTAT')\n",
        "plt.ylabel('MEDV')"
      ],
      "execution_count": 107,
      "outputs": [
        {
          "output_type": "execute_result",
          "data": {
            "text/plain": [
              "Text(0, 0.5, 'MEDV')"
            ]
          },
          "metadata": {
            "tags": []
          },
          "execution_count": 107
        },
        {
          "output_type": "display_data",
          "data": {
            "image/png": "[encoded data removed]",
            "text/plain": [
              "<Figure size 720x576 with 1 Axes>"
            ]
          },
          "metadata": {
            "tags": []
          }
        }
      ]
    },
    {
      "cell_type": "code",
      "metadata": {
        "id": "hdVUj-3a355X"
      },
      "source": [
        "from sklearn.model_selection import train_test_split\n",
        "from sklearn.metrics import mean_squared_error,r2_score"
      ],
      "execution_count": 108,
      "outputs": []
    },
    {
      "cell_type": "code",
      "metadata": {
        "id": "q-3Udq0j2SEF"
      },
      "source": [
        "X = df.values\n"
      ],
      "execution_count": 109,
      "outputs": []
    },
    {
      "cell_type": "code",
      "metadata": {
        "id": "Pby-pDuM2egz"
      },
      "source": [
        "X_train, X_test, y_train, y_test = train_test_split(X,y,test_size = 0.3,random_state = 42)"
      ],
      "execution_count": 110,
      "outputs": []
    },
    {
      "cell_type": "code",
      "metadata": {
        "id": "49ZujHQ92zbJ"
      },
      "source": [
        "from sklearn.ensemble import RandomForestRegressor"
      ],
      "execution_count": 111,
      "outputs": []
    },
    {
      "cell_type": "code",
      "metadata": {
        "id": "cGWni21_29aa"
      },
      "source": [
        "forest = RandomForestRegressor(n_estimators=500, criterion='mse', random_state=42, n_jobs=1)"
      ],
      "execution_count": 112,
      "outputs": []
    },
    {
      "cell_type": "code",
      "metadata": {
        "colab": {
          "base_uri": "https://localhost:8080/"
        },
        "id": "KwluvVXP3I37",
        "outputId": "c942c6ff-3767-4e86-d34e-cb5a8c7ace4a"
      },
      "source": [
        "forest.fit(X_train, y_train)"
      ],
      "execution_count": 113,
      "outputs": [
        {
          "output_type": "execute_result",
          "data": {
            "text/plain": [
              "RandomForestRegressor(bootstrap=True, ccp_alpha=0.0, criterion='mse',\n",
              "                      max_depth=None, max_features='auto', max_leaf_nodes=None,\n",
              "                      max_samples=None, min_impurity_decrease=0.0,\n",
              "                      min_impurity_split=None, min_samples_leaf=1,\n",
              "                      min_samples_split=2, min_weight_fraction_leaf=0.0,\n",
              "                      n_estimators=500, n_jobs=1, oob_score=False,\n",
              "                      random_state=42, verbose=0, warm_start=False)"
            ]
          },
          "metadata": {
            "tags": []
          },
          "execution_count": 113
        }
      ]
    },
    {
      "cell_type": "code",
      "metadata": {
        "id": "cZuyIenH3TRq"
      },
      "source": [
        "y_train_pred = forest.predict(X_train)"
      ],
      "execution_count": 114,
      "outputs": []
    },
    {
      "cell_type": "code",
      "metadata": {
        "id": "eYg98aZC3ouB"
      },
      "source": [
        "y_test_pred = forest.predict(X_test)"
      ],
      "execution_count": 115,
      "outputs": []
    },
    {
      "cell_type": "code",
      "metadata": {
        "colab": {
          "base_uri": "https://localhost:8080/"
        },
        "id": "fzvH35VC3tiF",
        "outputId": "90ff9b80-2195-4f7d-fbfb-3371125228c4"
      },
      "source": [
        "mse_train = mean_squared_error(y_train , y_train_pred)\n",
        "mse_test = mean_squared_error(y_test,y_test_pred)\n",
        "print(f'MSE TRAIN : {mse_train}')\n",
        "print(f'MSE TEST : {mse_test}')"
      ],
      "execution_count": 116,
      "outputs": [
        {
          "output_type": "stream",
          "text": [
            "MSE TRAIN : 1.8700342163841717\n",
            "MSE TEST : 9.392062673421051\n"
          ],
          "name": "stdout"
        }
      ]
    },
    {
      "cell_type": "code",
      "metadata": {
        "colab": {
          "base_uri": "https://localhost:8080/"
        },
        "id": "oyI_sGwG5JNt",
        "outputId": "fa59ae03-a554-49ba-f711-ec5829d8260a"
      },
      "source": [
        "R_squared_train = r2_score(y_train , y_train_pred)\n",
        "R_squared_test = r2_score(y_test,y_test_pred)\n",
        "print(f'R-squared TRAIN : {R_squared_train}')\n",
        "print(f'R-squared TEST : {R_squared_test}')"
      ],
      "execution_count": 117,
      "outputs": [
        {
          "output_type": "stream",
          "text": [
            "R-squared TRAIN : 0.9787245955118005\n",
            "R-squared TEST : 0.8739542009113459\n"
          ],
          "name": "stdout"
        }
      ]
    },
    {
      "cell_type": "code",
      "metadata": {
        "id": "zrtNupJX5qMs"
      },
      "source": [
        ""
      ],
      "execution_count": 117,
      "outputs": []
    },
    {
      "cell_type": "markdown",
      "metadata": {
        "id": "EED_4wFe6Eww"
      },
      "source": [
        "# **Brief Introduction to AdaBoost**"
      ]
    },
    {
      "cell_type": "code",
      "metadata": {
        "id": "s9sdPGRu6PZD"
      },
      "source": [
        "from sklearn.ensemble import AdaBoostRegressor"
      ],
      "execution_count": 118,
      "outputs": []
    },
    {
      "cell_type": "code",
      "metadata": {
        "id": "aBHidZKW6WPR"
      },
      "source": [
        "ada  = AdaBoostRegressor(DecisionTreeRegressor(max_depth=4), n_estimators=500, random_state=42)"
      ],
      "execution_count": 119,
      "outputs": []
    },
    {
      "cell_type": "code",
      "metadata": {
        "colab": {
          "base_uri": "https://localhost:8080/"
        },
        "id": "xpV4vKKn6sxp",
        "outputId": "9a0cf4d0-d9e7-46ef-f1a8-f1fb4aa9b472"
      },
      "source": [
        "ada.fit(X_train, y_train)"
      ],
      "execution_count": 120,
      "outputs": [
        {
          "output_type": "execute_result",
          "data": {
            "text/plain": [
              "AdaBoostRegressor(base_estimator=DecisionTreeRegressor(ccp_alpha=0.0,\n",
              "                                                       criterion='mse',\n",
              "                                                       max_depth=4,\n",
              "                                                       max_features=None,\n",
              "                                                       max_leaf_nodes=None,\n",
              "                                                       min_impurity_decrease=0.0,\n",
              "                                                       min_impurity_split=None,\n",
              "                                                       min_samples_leaf=1,\n",
              "                                                       min_samples_split=2,\n",
              "                                                       min_weight_fraction_leaf=0.0,\n",
              "                                                       presort='deprecated',\n",
              "                                                       random_state=None,\n",
              "                                                       splitter='best'),\n",
              "                  learning_rate=1.0, loss='linear', n_estimators=500,\n",
              "                  random_state=42)"
            ]
          },
          "metadata": {
            "tags": []
          },
          "execution_count": 120
        }
      ]
    },
    {
      "cell_type": "code",
      "metadata": {
        "id": "O_LgORxK6x6M"
      },
      "source": [
        "y_train_pred = ada.predict(X_train)"
      ],
      "execution_count": 121,
      "outputs": []
    },
    {
      "cell_type": "code",
      "metadata": {
        "id": "WSp9C45w6858"
      },
      "source": [
        "y_test_pred = ada.predict(X_test)"
      ],
      "execution_count": 122,
      "outputs": []
    },
    {
      "cell_type": "code",
      "metadata": {
        "colab": {
          "base_uri": "https://localhost:8080/"
        },
        "id": "pWnNQo747CVa",
        "outputId": "aa288521-5549-4f88-d769-d07303e3bfdd"
      },
      "source": [
        "mse_train = mean_squared_error(y_train , y_train_pred)\n",
        "mse_test = mean_squared_error(y_test,y_test_pred)\n",
        "print(f'MSE TRAIN : {mse_train}')\n",
        "print(f'MSE TEST : {mse_test}')"
      ],
      "execution_count": 123,
      "outputs": [
        {
          "output_type": "stream",
          "text": [
            "MSE TRAIN : 4.660495418580552\n",
            "MSE TEST : 13.494910482902208\n"
          ],
          "name": "stdout"
        }
      ]
    },
    {
      "cell_type": "code",
      "metadata": {
        "colab": {
          "base_uri": "https://localhost:8080/"
        },
        "id": "Tle-Tbvk7IQp",
        "outputId": "b5bfaa62-a74e-4f04-ca5a-ae0a77a8d806"
      },
      "source": [
        "R_squared_train = r2_score(y_train , y_train_pred)\n",
        "R_squared_test = r2_score(y_test,y_test_pred)\n",
        "print(f'R-squared TRAIN : {R_squared_train}')\n",
        "print(f'R-squared TEST : {R_squared_test}')"
      ],
      "execution_count": 124,
      "outputs": [
        {
          "output_type": "stream",
          "text": [
            "R-squared TRAIN : 0.9469774807984944\n",
            "R-squared TEST : 0.8188920970192286\n"
          ],
          "name": "stdout"
        }
      ]
    },
    {
      "cell_type": "markdown",
      "metadata": {
        "id": "e_ATzXrSrBPD"
      },
      "source": [
        "# RANSAC Regressor\n",
        "\n",
        "> Indented block\n",
        "\n"
      ]
    },
    {
      "cell_type": "code",
      "metadata": {
        "id": "YjqC7Hbz7LT-",
        "colab": {
          "base_uri": "https://localhost:8080/"
        },
        "outputId": "c8fb8965-9a4d-44dc-8582-1dc8dbec36a3"
      },
      "source": [
        "X = df['RM'].values.reshape(-1,1)\n",
        "print(f'DF Columns {df.columns}')\n",
        "y = df['LSTAT'].values"
      ],
      "execution_count": 125,
      "outputs": [
        {
          "output_type": "stream",
          "text": [
            "DF Columns Index(['CRIM', 'ZN', 'INDUS', 'CHAS', 'NOX', 'RM', 'AGE', 'DIS', 'RAD', 'TAX',\n",
            "       'PTRATIO', 'B', 'LSTAT'],\n",
            "      dtype='object')\n"
          ],
          "name": "stdout"
        }
      ]
    },
    {
      "cell_type": "code",
      "metadata": {
        "id": "tsugLeGwGCjz"
      },
      "source": [
        "from sklearn.linear_model import RANSACRegressor"
      ],
      "execution_count": 126,
      "outputs": []
    },
    {
      "cell_type": "code",
      "metadata": {
        "id": "Q8EloV6zGiFM"
      },
      "source": [
        "ransac = RANSACRegressor()"
      ],
      "execution_count": 127,
      "outputs": []
    },
    {
      "cell_type": "code",
      "metadata": {
        "colab": {
          "base_uri": "https://localhost:8080/"
        },
        "id": "ueAph1AIGnOQ",
        "outputId": "a7433197-be3a-499b-9ed6-e836829c0b04"
      },
      "source": [
        "ransac.fit(X,y)"
      ],
      "execution_count": 128,
      "outputs": [
        {
          "output_type": "execute_result",
          "data": {
            "text/plain": [
              "RANSACRegressor(base_estimator=None, is_data_valid=None, is_model_valid=None,\n",
              "                loss='absolute_loss', max_skips=inf, max_trials=100,\n",
              "                min_samples=None, random_state=None, residual_threshold=None,\n",
              "                stop_n_inliers=inf, stop_probability=0.99, stop_score=inf)"
            ]
          },
          "metadata": {
            "tags": []
          },
          "execution_count": 128
        }
      ]
    },
    {
      "cell_type": "code",
      "metadata": {
        "id": "Qh4LjC_KGrJ5"
      },
      "source": [
        "inlier_mask = ransac.inlier_mask_"
      ],
      "execution_count": 129,
      "outputs": []
    },
    {
      "cell_type": "code",
      "metadata": {
        "id": "p03LMdBdGxJv"
      },
      "source": [
        "outlier_mask = np.logical_not(inlier_mask)"
      ],
      "execution_count": 130,
      "outputs": []
    },
    {
      "cell_type": "code",
      "metadata": {
        "colab": {
          "base_uri": "https://localhost:8080/"
        },
        "id": "yiyh7X7dG3yk",
        "outputId": "2d6b2d30-bd6c-4588-e992-3ccecd439e15"
      },
      "source": [
        "np.arange(3,10,1)"
      ],
      "execution_count": 131,
      "outputs": [
        {
          "output_type": "execute_result",
          "data": {
            "text/plain": [
              "array([3, 4, 5, 6, 7, 8, 9])"
            ]
          },
          "metadata": {
            "tags": []
          },
          "execution_count": 131
        }
      ]
    },
    {
      "cell_type": "code",
      "metadata": {
        "id": "AHQPVripG7N5"
      },
      "source": [
        "line_X = np.arange(3,10,1)\n",
        "\n",
        "line_y_ransac = ransac.predict(line_X.reshape(-1,1))\n"
      ],
      "execution_count": 132,
      "outputs": []
    },
    {
      "cell_type": "code",
      "metadata": {
        "id": "2gCOylsGHPDh",
        "colab": {
          "base_uri": "https://localhost:8080/",
          "height": 450
        },
        "outputId": "33f942ba-5005-430b-98ac-b3517fb5bcb9"
      },
      "source": [
        " sns.set(style='darkgrid',context =  'notebook')\n",
        " plt.figure(figsize=(12,8))\n",
        " plt.scatter(X[inlier_mask] , y[inlier_mask], c = 'blue' , marker='o' , label = 'inliners')\n",
        " plt.scatter(X[outlier_mask] , y [outlier_mask] , c = 'green' , marker='s' , label = 'Outlier')\n",
        " plt.plot(line_X , line_y_ransac,color = 'red')\n",
        " plt.xlabel(\"Average Number of Rooms per dwelling\")\n",
        " plt.ylabel(\"Median Value of owner occupied homes in $1000 \")\n",
        " plt.legend(loc = 'upper left')\n",
        " plt.show()"
      ],
      "execution_count": 133,
      "outputs": [
        {
          "output_type": "display_data",
          "data": {
            "image/png": "[encoded data removed]",
            "text/plain": [
              "<Figure size 864x576 with 1 Axes>"
            ]
          },
          "metadata": {
            "tags": []
          }
        }
      ]
    },
    {
      "cell_type": "code",
      "metadata": {
        "colab": {
          "base_uri": "https://localhost:8080/"
        },
        "id": "1DV4SJdgPzck",
        "outputId": "e8b80b25-f5f5-48a1-e91e-993328210195"
      },
      "source": [
        "ransac.estimator_.coef_"
      ],
      "execution_count": 134,
      "outputs": [
        {
          "output_type": "execute_result",
          "data": {
            "text/plain": [
              "array([-3.62675836])"
            ]
          },
          "metadata": {
            "tags": []
          },
          "execution_count": 134
        }
      ]
    },
    {
      "cell_type": "code",
      "metadata": {
        "colab": {
          "base_uri": "https://localhost:8080/"
        },
        "id": "J7RbqrOoP7uy",
        "outputId": "63392f78-5d8b-4ff1-f815-717895bf7488"
      },
      "source": [
        "ransac.estimator_.intercept_"
      ],
      "execution_count": 135,
      "outputs": [
        {
          "output_type": "execute_result",
          "data": {
            "text/plain": [
              "32.25537393187041"
            ]
          },
          "metadata": {
            "tags": []
          },
          "execution_count": 135
        }
      ]
    },
    {
      "cell_type": "markdown",
      "metadata": {
        "id": "dmHpaqZhRf8x"
      },
      "source": [
        "Evaluate Performance of a Regression Model"
      ]
    },
    {
      "cell_type": "code",
      "metadata": {
        "id": "KZaCt1URP_2S"
      },
      "source": [
        "from sklearn.model_selection import train_test_split"
      ],
      "execution_count": 136,
      "outputs": []
    },
    {
      "cell_type": "code",
      "metadata": {
        "id": "fzRIlDLGR0tV"
      },
      "source": [
        "X = df.iloc[:,:-1].values"
      ],
      "execution_count": 137,
      "outputs": []
    },
    {
      "cell_type": "code",
      "metadata": {
        "id": "SBef-nN1R6zC"
      },
      "source": [
        "y = boston_data.target"
      ],
      "execution_count": 138,
      "outputs": []
    },
    {
      "cell_type": "code",
      "metadata": {
        "id": "HjaM73TJSDIh"
      },
      "source": [
        "X_train, X_test, y_train, y_test = train_test_split(X, y,test_size = 0.2,random_state = 0)"
      ],
      "execution_count": 139,
      "outputs": []
    },
    {
      "cell_type": "code",
      "metadata": {
        "id": "uS4Yyz8bSgeh"
      },
      "source": [
        "from sklearn.linear_model import LinearRegression\n",
        "lr = LinearRegression()"
      ],
      "execution_count": 140,
      "outputs": []
    },
    {
      "cell_type": "code",
      "metadata": {
        "colab": {
          "base_uri": "https://localhost:8080/"
        },
        "id": "_gAk8sPnSoXD",
        "outputId": "45b75f75-c86b-4237-f19b-2bb8aff28bbc"
      },
      "source": [
        "lr.fit(X_train, y_train)"
      ],
      "execution_count": 141,
      "outputs": [
        {
          "output_type": "execute_result",
          "data": {
            "text/plain": [
              "LinearRegression(copy_X=True, fit_intercept=True, n_jobs=None, normalize=False)"
            ]
          },
          "metadata": {
            "tags": []
          },
          "execution_count": 141
        }
      ]
    },
    {
      "cell_type": "code",
      "metadata": {
        "id": "4YaISo5dTB7i"
      },
      "source": [
        "y_train_pred = lr.predict(X_train)\n"
      ],
      "execution_count": 143,
      "outputs": []
    },
    {
      "cell_type": "code",
      "metadata": {
        "id": "00T2gBuKTP6n"
      },
      "source": [
        "y_test_pred = lr.predict(X_test)"
      ],
      "execution_count": 144,
      "outputs": []
    },
    {
      "cell_type": "code",
      "metadata": {
        "id": "2OVpzfy_Touw"
      },
      "source": [
        ""
      ],
      "execution_count": null,
      "outputs": []
    },
    {
      "cell_type": "markdown",
      "metadata": {
        "id": "dD1lN4MgTy-s"
      },
      "source": [
        "# **Method 1 : Residual Analysis**"
      ]
    },
    {
      "cell_type": "code",
      "metadata": {
        "colab": {
          "base_uri": "https://localhost:8080/",
          "height": 440
        },
        "id": "47L1R2fYT6Z0",
        "outputId": "0ff05468-07c9-4ce0-c9ab-5ed5a87a2165"
      },
      "source": [
        "plt.figure(figsize=(12,8))\n",
        "plt.scatter(y_train_pred , y_train_pred-y_train,c = 'blue' , marker = 'o' , label = 'Training Data')\n",
        "plt.scatter(y_test_pred , y_test_pred-y_test,c = 'green' , marker = 's' , label = 'Testing Data')\n",
        "plt.xlabel('Predicted Values')\n",
        "plt.ylabel(\"Residual Values\")\n",
        "plt.legend(loc = 'upper left')\n",
        "plt.hlines(y=0,xmin = -10, xmax = 50, lw=2, color = 'k')\n",
        "plt.xlim([-10, 50])\n",
        "plt.show()"
      ],
      "execution_count": 149,
      "outputs": [
        {
          "output_type": "display_data",
          "data": {
            "image/png": "[encoded data removed]",
            "text/plain": [
              "<Figure size 864x576 with 1 Axes>"
            ]
          },
          "metadata": {
            "tags": []
          }
        }
      ]
    },
    {
      "cell_type": "code",
      "metadata": {
        "id": "I91YLFbEUc6d"
      },
      "source": [
        ""
      ],
      "execution_count": null,
      "outputs": []
    }
  ]
}