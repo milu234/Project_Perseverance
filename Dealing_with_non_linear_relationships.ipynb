{
  "nbformat": 4,
  "nbformat_minor": 0,
  "metadata": {
    "colab": {
      "name": "Dealing_with_non_linear relationships.ipynb",
      "provenance": [],
      "collapsed_sections": [],
      "mount_file_id": "1-RUULfY8cB3QuO_8TcOeQ5ZAmk2XtOk3",
      "authorship_tag": "ABX9TyN2nlucepym5f9L0zARUul+",
      "include_colab_link": true
    },
    "kernelspec": {
      "name": "python3",
      "display_name": "Python 3"
    },
    "language_info": {
      "name": "python"
    }
  },
  "cells": [
    {
      "cell_type": "markdown",
      "metadata": {
        "id": "view-in-github",
        "colab_type": "text"
      },
      "source": [
        "<a href=\"https://colab.research.google.com/github/milu234/Project_Perseverance/blob/main/Dealing_with_non_linear_relationships.ipynb\" target=\"_parent\"><img src=\"https://colab.research.google.com/assets/colab-badge.svg\" alt=\"Open In Colab\"/></a>"
      ]
    },
    {
      "cell_type": "code",
      "metadata": {
        "id": "2Nzreyee3E2e"
      },
      "source": [
        "# df = pd.read_csv('/content/drive/MyDrive/Colab Notebooks/DeepLearning/HousingData.csv')\n",
        "import pandas as pd\n",
        "import numpy as np\n",
        "import matplotlib.pyplot as plt\n",
        "import seaborn as sns\n",
        "import sys\n",
        "import sklearn\n",
        "\n"
      ],
      "execution_count": 40,
      "outputs": []
    },
    {
      "cell_type": "code",
      "metadata": {
        "id": "g9qtSvBX3yJj"
      },
      "source": [
        "from sklearn.datasets import load_boston\n",
        "boston_data = load_boston()\n",
        "df = pd.DataFrame(boston_data.data, columns = boston_data.feature_names)"
      ],
      "execution_count": 41,
      "outputs": []
    },
    {
      "cell_type": "code",
      "metadata": {
        "colab": {
          "base_uri": "https://localhost:8080/"
        },
        "id": "4rPIf8Uw37C3",
        "outputId": "a0136b88-e6ac-4fde-80ab-cf5360b31b21"
      },
      "source": [
        "df.head"
      ],
      "execution_count": 42,
      "outputs": [
        {
          "output_type": "execute_result",
          "data": {
            "text/plain": [
              "<bound method NDFrame.head of         CRIM    ZN  INDUS  CHAS    NOX  ...  RAD    TAX  PTRATIO       B  LSTAT\n",
              "0    0.00632  18.0   2.31   0.0  0.538  ...  1.0  296.0     15.3  396.90   4.98\n",
              "1    0.02731   0.0   7.07   0.0  0.469  ...  2.0  242.0     17.8  396.90   9.14\n",
              "2    0.02729   0.0   7.07   0.0  0.469  ...  2.0  242.0     17.8  392.83   4.03\n",
              "3    0.03237   0.0   2.18   0.0  0.458  ...  3.0  222.0     18.7  394.63   2.94\n",
              "4    0.06905   0.0   2.18   0.0  0.458  ...  3.0  222.0     18.7  396.90   5.33\n",
              "..       ...   ...    ...   ...    ...  ...  ...    ...      ...     ...    ...\n",
              "501  0.06263   0.0  11.93   0.0  0.573  ...  1.0  273.0     21.0  391.99   9.67\n",
              "502  0.04527   0.0  11.93   0.0  0.573  ...  1.0  273.0     21.0  396.90   9.08\n",
              "503  0.06076   0.0  11.93   0.0  0.573  ...  1.0  273.0     21.0  396.90   5.64\n",
              "504  0.10959   0.0  11.93   0.0  0.573  ...  1.0  273.0     21.0  393.45   6.48\n",
              "505  0.04741   0.0  11.93   0.0  0.573  ...  1.0  273.0     21.0  396.90   7.88\n",
              "\n",
              "[506 rows x 13 columns]>"
            ]
          },
          "metadata": {
            "tags": []
          },
          "execution_count": 42
        }
      ]
    },
    {
      "cell_type": "code",
      "metadata": {
        "id": "rUAajcdR4CEm"
      },
      "source": [
        "y = boston_data.target"
      ],
      "execution_count": 43,
      "outputs": []
    },
    {
      "cell_type": "code",
      "metadata": {
        "id": "aS2aez2c4HQT"
      },
      "source": [
        "# print(f\"The value of y is {y}\")"
      ],
      "execution_count": 44,
      "outputs": []
    },
    {
      "cell_type": "markdown",
      "metadata": {
        "id": "BvngM4x85ooh"
      },
      "source": [
        "# **Brief Introduction to Decision tree**\n",
        "\n",
        "Using Decision Tree Regressor"
      ]
    },
    {
      "cell_type": "code",
      "metadata": {
        "id": "h9-YUFRP5icZ"
      },
      "source": [
        "from sklearn.tree import DecisionTreeRegressor"
      ],
      "execution_count": 45,
      "outputs": []
    },
    {
      "cell_type": "code",
      "metadata": {
        "id": "4yc4HV4z53Zc"
      },
      "source": [
        "X = df[['LSTAT']].values"
      ],
      "execution_count": 46,
      "outputs": []
    },
    {
      "cell_type": "code",
      "metadata": {
        "id": "9jRHXQSL0miw"
      },
      "source": [
        "tree = DecisionTreeRegressor(max_depth=5)"
      ],
      "execution_count": 47,
      "outputs": []
    },
    {
      "cell_type": "code",
      "metadata": {
        "colab": {
          "base_uri": "https://localhost:8080/"
        },
        "id": "CCtI54G00seH",
        "outputId": "cb189ac6-d707-4a2a-9c68-c87fcb5ac6ee"
      },
      "source": [
        "tree.fit(X,y)"
      ],
      "execution_count": 48,
      "outputs": [
        {
          "output_type": "execute_result",
          "data": {
            "text/plain": [
              "DecisionTreeRegressor(ccp_alpha=0.0, criterion='mse', max_depth=5,\n",
              "                      max_features=None, max_leaf_nodes=None,\n",
              "                      min_impurity_decrease=0.0, min_impurity_split=None,\n",
              "                      min_samples_leaf=1, min_samples_split=2,\n",
              "                      min_weight_fraction_leaf=0.0, presort='deprecated',\n",
              "                      random_state=None, splitter='best')"
            ]
          },
          "metadata": {
            "tags": []
          },
          "execution_count": 48
        }
      ]
    },
    {
      "cell_type": "code",
      "metadata": {
        "id": "bRKLs6Gc0woM"
      },
      "source": [
        "sort_idx = X.flatten().argsort()"
      ],
      "execution_count": 49,
      "outputs": []
    },
    {
      "cell_type": "code",
      "metadata": {
        "colab": {
          "base_uri": "https://localhost:8080/",
          "height": 514
        },
        "id": "oBl_uqYG3IeK",
        "outputId": "0639a800-ba4f-4427-96e8-8d60cf188c72"
      },
      "source": [
        "plt.figure(figsize=(10,8))\n",
        "plt.scatter(X[sort_idx], y[sort_idx])\n",
        "plt.plot(X[sort_idx],tree.predict(X[sort_idx]),color='k')\n",
        "plt.xlabel('LSTAT')\n",
        "plt.ylabel('MEDV')"
      ],
      "execution_count": 50,
      "outputs": [
        {
          "output_type": "execute_result",
          "data": {
            "text/plain": [
              "Text(0, 0.5, 'MEDV')"
            ]
          },
          "metadata": {
            "tags": []
          },
          "execution_count": 50
        },
        {
          "output_type": "display_data",
          "data": {
            "image/png": "[encoded data removed]",
            "text/plain": [
              "<Figure size 720x576 with 1 Axes>"
            ]
          },
          "metadata": {
            "tags": [],
            "needs_background": "light"
          }
        }
      ]
    },
    {
      "cell_type": "code",
      "metadata": {
        "id": "hdVUj-3a355X"
      },
      "source": [
        "from sklearn.model_selection import train_test_split\n",
        "from sklearn.metrics import mean_squared_error,r2_score"
      ],
      "execution_count": 51,
      "outputs": []
    },
    {
      "cell_type": "code",
      "metadata": {
        "id": "q-3Udq0j2SEF"
      },
      "source": [
        "X = df.values\n"
      ],
      "execution_count": 52,
      "outputs": []
    },
    {
      "cell_type": "code",
      "metadata": {
        "id": "Pby-pDuM2egz"
      },
      "source": [
        "X_train, X_test, y_train, y_test = train_test_split(X,y,test_size = 0.3,random_state = 42)"
      ],
      "execution_count": 53,
      "outputs": []
    },
    {
      "cell_type": "code",
      "metadata": {
        "id": "49ZujHQ92zbJ"
      },
      "source": [
        "from sklearn.ensemble import RandomForestRegressor"
      ],
      "execution_count": 54,
      "outputs": []
    },
    {
      "cell_type": "code",
      "metadata": {
        "id": "cGWni21_29aa"
      },
      "source": [
        "forest = RandomForestRegressor(n_estimators=500, criterion='mse', random_state=42, n_jobs=1)"
      ],
      "execution_count": 55,
      "outputs": []
    },
    {
      "cell_type": "code",
      "metadata": {
        "colab": {
          "base_uri": "https://localhost:8080/"
        },
        "id": "KwluvVXP3I37",
        "outputId": "5f8aa43b-302c-48bc-cc92-6b8b819b07f7"
      },
      "source": [
        "forest.fit(X_train, y_train)"
      ],
      "execution_count": 56,
      "outputs": [
        {
          "output_type": "execute_result",
          "data": {
            "text/plain": [
              "RandomForestRegressor(bootstrap=True, ccp_alpha=0.0, criterion='mse',\n",
              "                      max_depth=None, max_features='auto', max_leaf_nodes=None,\n",
              "                      max_samples=None, min_impurity_decrease=0.0,\n",
              "                      min_impurity_split=None, min_samples_leaf=1,\n",
              "                      min_samples_split=2, min_weight_fraction_leaf=0.0,\n",
              "                      n_estimators=500, n_jobs=1, oob_score=False,\n",
              "                      random_state=42, verbose=0, warm_start=False)"
            ]
          },
          "metadata": {
            "tags": []
          },
          "execution_count": 56
        }
      ]
    },
    {
      "cell_type": "code",
      "metadata": {
        "id": "cZuyIenH3TRq"
      },
      "source": [
        "y_train_pred = forest.predict(X_train)"
      ],
      "execution_count": 57,
      "outputs": []
    },
    {
      "cell_type": "code",
      "metadata": {
        "id": "eYg98aZC3ouB"
      },
      "source": [
        "y_test_pred = forest.predict(X_test)"
      ],
      "execution_count": 58,
      "outputs": []
    },
    {
      "cell_type": "code",
      "metadata": {
        "colab": {
          "base_uri": "https://localhost:8080/"
        },
        "id": "fzvH35VC3tiF",
        "outputId": "788804f5-9992-41b8-b36c-5424ca9f260c"
      },
      "source": [
        "mse_train = mean_squared_error(y_train , y_train_pred)\n",
        "mse_test = mean_squared_error(y_test,y_test_pred)\n",
        "print(f'MSE TRAIN : {mse_train}')\n",
        "print(f'MSE TEST : {mse_test}')"
      ],
      "execution_count": 59,
      "outputs": [
        {
          "output_type": "stream",
          "text": [
            "MSE TRAIN : 1.8700342163841717\n",
            "MSE TEST : 9.392062673421051\n"
          ],
          "name": "stdout"
        }
      ]
    },
    {
      "cell_type": "code",
      "metadata": {
        "colab": {
          "base_uri": "https://localhost:8080/"
        },
        "id": "oyI_sGwG5JNt",
        "outputId": "766d4b7f-0a5d-4569-ba5d-79cbd4419451"
      },
      "source": [
        "R_squared_train = r2_score(y_train , y_train_pred)\n",
        "R_squared_test = r2_score(y_test,y_test_pred)\n",
        "print(f'R-squared TRAIN : {R_squared_train}')\n",
        "print(f'R-squared TEST : {R_squared_test}')"
      ],
      "execution_count": 60,
      "outputs": [
        {
          "output_type": "stream",
          "text": [
            "R-squared TRAIN : 0.9787245955118005\n",
            "R-squared TEST : 0.8739542009113459\n"
          ],
          "name": "stdout"
        }
      ]
    },
    {
      "cell_type": "code",
      "metadata": {
        "id": "zrtNupJX5qMs"
      },
      "source": [
        ""
      ],
      "execution_count": 60,
      "outputs": []
    },
    {
      "cell_type": "markdown",
      "metadata": {
        "id": "EED_4wFe6Eww"
      },
      "source": [
        "# **Brief Introduction to AdaBoost**"
      ]
    },
    {
      "cell_type": "code",
      "metadata": {
        "id": "s9sdPGRu6PZD"
      },
      "source": [
        "from sklearn.ensemble import AdaBoostRegressor"
      ],
      "execution_count": 61,
      "outputs": []
    },
    {
      "cell_type": "code",
      "metadata": {
        "id": "aBHidZKW6WPR"
      },
      "source": [
        "ada  = AdaBoostRegressor(DecisionTreeRegressor(max_depth=4), n_estimators=500, random_state=42)"
      ],
      "execution_count": 62,
      "outputs": []
    },
    {
      "cell_type": "code",
      "metadata": {
        "colab": {
          "base_uri": "https://localhost:8080/"
        },
        "id": "xpV4vKKn6sxp",
        "outputId": "9ba53766-a58b-425c-e01e-d4beec9d1e0c"
      },
      "source": [
        "ada.fit(X_train, y_train)"
      ],
      "execution_count": 63,
      "outputs": [
        {
          "output_type": "execute_result",
          "data": {
            "text/plain": [
              "AdaBoostRegressor(base_estimator=DecisionTreeRegressor(ccp_alpha=0.0,\n",
              "                                                       criterion='mse',\n",
              "                                                       max_depth=4,\n",
              "                                                       max_features=None,\n",
              "                                                       max_leaf_nodes=None,\n",
              "                                                       min_impurity_decrease=0.0,\n",
              "                                                       min_impurity_split=None,\n",
              "                                                       min_samples_leaf=1,\n",
              "                                                       min_samples_split=2,\n",
              "                                                       min_weight_fraction_leaf=0.0,\n",
              "                                                       presort='deprecated',\n",
              "                                                       random_state=None,\n",
              "                                                       splitter='best'),\n",
              "                  learning_rate=1.0, loss='linear', n_estimators=500,\n",
              "                  random_state=42)"
            ]
          },
          "metadata": {
            "tags": []
          },
          "execution_count": 63
        }
      ]
    },
    {
      "cell_type": "code",
      "metadata": {
        "id": "O_LgORxK6x6M"
      },
      "source": [
        "y_train_pred = ada.predict(X_train)"
      ],
      "execution_count": 64,
      "outputs": []
    },
    {
      "cell_type": "code",
      "metadata": {
        "id": "WSp9C45w6858"
      },
      "source": [
        "y_test_pred = ada.predict(X_test)"
      ],
      "execution_count": 65,
      "outputs": []
    },
    {
      "cell_type": "code",
      "metadata": {
        "colab": {
          "base_uri": "https://localhost:8080/"
        },
        "id": "pWnNQo747CVa",
        "outputId": "8c8f72dd-bd40-446d-84d6-887fed54daeb"
      },
      "source": [
        "mse_train = mean_squared_error(y_train , y_train_pred)\n",
        "mse_test = mean_squared_error(y_test,y_test_pred)\n",
        "print(f'MSE TRAIN : {mse_train}')\n",
        "print(f'MSE TEST : {mse_test}')"
      ],
      "execution_count": 66,
      "outputs": [
        {
          "output_type": "stream",
          "text": [
            "MSE TRAIN : 4.660495418580552\n",
            "MSE TEST : 13.494910482902208\n"
          ],
          "name": "stdout"
        }
      ]
    },
    {
      "cell_type": "code",
      "metadata": {
        "colab": {
          "base_uri": "https://localhost:8080/"
        },
        "id": "Tle-Tbvk7IQp",
        "outputId": "c321f49c-1777-4a94-8bb8-43409ad92093"
      },
      "source": [
        "R_squared_train = r2_score(y_train , y_train_pred)\n",
        "R_squared_test = r2_score(y_test,y_test_pred)\n",
        "print(f'R-squared TRAIN : {R_squared_train}')\n",
        "print(f'R-squared TEST : {R_squared_test}')"
      ],
      "execution_count": 67,
      "outputs": [
        {
          "output_type": "stream",
          "text": [
            "R-squared TRAIN : 0.9469774807984944\n",
            "R-squared TEST : 0.8188920970192286\n"
          ],
          "name": "stdout"
        }
      ]
    },
    {
      "cell_type": "markdown",
      "metadata": {
        "id": "e_ATzXrSrBPD"
      },
      "source": [
        "# RANSAC Regressor\n",
        "\n",
        "> Indented block\n",
        "\n"
      ]
    },
    {
      "cell_type": "code",
      "metadata": {
        "id": "YjqC7Hbz7LT-",
        "colab": {
          "base_uri": "https://localhost:8080/"
        },
        "outputId": "5abf294d-9115-4cb8-d9ec-828f7ef7d9be"
      },
      "source": [
        "X = df['RM'].values.reshape(-1,1)\n",
        "print(f'DF Columns {df.columns}')\n",
        "y = df['LSTAT'].values"
      ],
      "execution_count": 68,
      "outputs": [
        {
          "output_type": "stream",
          "text": [
            "DF Columns Index(['CRIM', 'ZN', 'INDUS', 'CHAS', 'NOX', 'RM', 'AGE', 'DIS', 'RAD', 'TAX',\n",
            "       'PTRATIO', 'B', 'LSTAT'],\n",
            "      dtype='object')\n"
          ],
          "name": "stdout"
        }
      ]
    },
    {
      "cell_type": "code",
      "metadata": {
        "id": "tsugLeGwGCjz"
      },
      "source": [
        "from sklearn.linear_model import RANSACRegressor"
      ],
      "execution_count": 69,
      "outputs": []
    },
    {
      "cell_type": "code",
      "metadata": {
        "id": "Q8EloV6zGiFM"
      },
      "source": [
        "ransac = RANSACRegressor()"
      ],
      "execution_count": 70,
      "outputs": []
    },
    {
      "cell_type": "code",
      "metadata": {
        "colab": {
          "base_uri": "https://localhost:8080/"
        },
        "id": "ueAph1AIGnOQ",
        "outputId": "2509778b-fa36-43dc-fdd9-61878a9ccfe5"
      },
      "source": [
        "ransac.fit(X,y)"
      ],
      "execution_count": 71,
      "outputs": [
        {
          "output_type": "execute_result",
          "data": {
            "text/plain": [
              "RANSACRegressor(base_estimator=None, is_data_valid=None, is_model_valid=None,\n",
              "                loss='absolute_loss', max_skips=inf, max_trials=100,\n",
              "                min_samples=None, random_state=None, residual_threshold=None,\n",
              "                stop_n_inliers=inf, stop_probability=0.99, stop_score=inf)"
            ]
          },
          "metadata": {
            "tags": []
          },
          "execution_count": 71
        }
      ]
    },
    {
      "cell_type": "code",
      "metadata": {
        "id": "Qh4LjC_KGrJ5"
      },
      "source": [
        "inlier_mask = ransac.inlier_mask_"
      ],
      "execution_count": 72,
      "outputs": []
    },
    {
      "cell_type": "code",
      "metadata": {
        "id": "p03LMdBdGxJv"
      },
      "source": [
        "outlier_mask = np.logical_not(inlier_mask)"
      ],
      "execution_count": 73,
      "outputs": []
    },
    {
      "cell_type": "code",
      "metadata": {
        "colab": {
          "base_uri": "https://localhost:8080/"
        },
        "id": "yiyh7X7dG3yk",
        "outputId": "c56c645f-46a7-4c2b-e03e-66d92ae06eea"
      },
      "source": [
        "np.arange(3,10,1)"
      ],
      "execution_count": 74,
      "outputs": [
        {
          "output_type": "execute_result",
          "data": {
            "text/plain": [
              "array([3, 4, 5, 6, 7, 8, 9])"
            ]
          },
          "metadata": {
            "tags": []
          },
          "execution_count": 74
        }
      ]
    },
    {
      "cell_type": "code",
      "metadata": {
        "id": "AHQPVripG7N5"
      },
      "source": [
        "line_X = np.arange(3,10,1)\n",
        "\n",
        "line_y_ransac = ransac.predict(line_X.reshape(-1,1))\n"
      ],
      "execution_count": 75,
      "outputs": []
    },
    {
      "cell_type": "code",
      "metadata": {
        "id": "2gCOylsGHPDh",
        "colab": {
          "base_uri": "https://localhost:8080/",
          "height": 450
        },
        "outputId": "3e99b4a7-78c3-499d-8524-6aa7c939e3ee"
      },
      "source": [
        " sns.set(style='darkgrid',context =  'notebook')\n",
        " plt.figure(figsize=(12,8))\n",
        " plt.scatter(X[inlier_mask] , y[inlier_mask], c = 'blue' , marker='o' , label = 'inliners')\n",
        " plt.scatter(X[outlier_mask] , y [outlier_mask] , c = 'green' , marker='s' , label = 'Outlier')\n",
        " plt.plot(line_X , line_y_ransac,color = 'red')\n",
        " plt.xlabel(\"Average Number of Rooms per dwelling\")\n",
        " plt.ylabel(\"Median Value of owner occupied homes in $1000 \")\n",
        " plt.legend(loc = 'upper left')\n",
        " plt.show()"
      ],
      "execution_count": 77,
      "outputs": [
        {
          "output_type": "display_data",
          "data": {
            "image/png": "[encoded data removed]",
            "text/plain": [
              "<Figure size 864x576 with 1 Axes>"
            ]
          },
          "metadata": {
            "tags": []
          }
        }
      ]
    },
    {
      "cell_type": "code",
      "metadata": {
        "colab": {
          "base_uri": "https://localhost:8080/"
        },
        "id": "1DV4SJdgPzck",
        "outputId": "d2376810-637e-4c67-b948-a9205105415c"
      },
      "source": [
        "ransac.estimator_.coef_"
      ],
      "execution_count": 78,
      "outputs": [
        {
          "output_type": "execute_result",
          "data": {
            "text/plain": [
              "array([-3.7113577])"
            ]
          },
          "metadata": {
            "tags": []
          },
          "execution_count": 78
        }
      ]
    },
    {
      "cell_type": "code",
      "metadata": {
        "colab": {
          "base_uri": "https://localhost:8080/"
        },
        "id": "J7RbqrOoP7uy",
        "outputId": "47500e8f-c310-4108-9a52-bd40fbbf652e"
      },
      "source": [
        "ransac.estimator_.intercept_"
      ],
      "execution_count": 79,
      "outputs": [
        {
          "output_type": "execute_result",
          "data": {
            "text/plain": [
              "32.98878073324992"
            ]
          },
          "metadata": {
            "tags": []
          },
          "execution_count": 79
        }
      ]
    },
    {
      "cell_type": "code",
      "metadata": {
        "id": "KZaCt1URP_2S"
      },
      "source": [
        ""
      ],
      "execution_count": null,
      "outputs": []
    }
  ]
}