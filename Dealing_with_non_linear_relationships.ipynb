{
  "nbformat": 4,
  "nbformat_minor": 0,
  "metadata": {
    "colab": {
      "name": "Dealing_with_non_linear relationships.ipynb",
      "provenance": [],
      "collapsed_sections": [],
      "mount_file_id": "1-RUULfY8cB3QuO_8TcOeQ5ZAmk2XtOk3",
      "authorship_tag": "ABX9TyM1J8CM8MmcADkB+uvlZd5s",
      "include_colab_link": true
    },
    "kernelspec": {
      "name": "python3",
      "display_name": "Python 3"
    },
    "language_info": {
      "name": "python"
    }
  },
  "cells": [
    {
      "cell_type": "markdown",
      "metadata": {
        "id": "view-in-github",
        "colab_type": "text"
      },
      "source": [
        "<a href=\"https://colab.research.google.com/github/milu234/Project_Perseverance/blob/main/Dealing_with_non_linear_relationships.ipynb\" target=\"_parent\"><img src=\"https://colab.research.google.com/assets/colab-badge.svg\" alt=\"Open In Colab\"/></a>"
      ]
    },
    {
      "cell_type": "code",
      "metadata": {
        "id": "2Nzreyee3E2e"
      },
      "source": [
        "# df = pd.read_csv('/content/drive/MyDrive/Colab Notebooks/DeepLearning/HousingData.csv')\n",
        "import pandas as pd\n",
        "import numpy as np\n",
        "import matplotlib.pyplot as plt\n",
        "import seaborn as sns\n",
        "import sys\n",
        "import sklearn\n",
        "\n"
      ],
      "execution_count": 1,
      "outputs": []
    },
    {
      "cell_type": "code",
      "metadata": {
        "id": "g9qtSvBX3yJj"
      },
      "source": [
        "from sklearn.datasets import load_boston\n",
        "boston_data = load_boston()\n",
        "df = pd.DataFrame(boston_data.data, columns = boston_data.feature_names)"
      ],
      "execution_count": 2,
      "outputs": []
    },
    {
      "cell_type": "code",
      "metadata": {
        "colab": {
          "base_uri": "https://localhost:8080/"
        },
        "id": "4rPIf8Uw37C3",
        "outputId": "c72a6487-1292-49c7-c149-ca794ccd7736"
      },
      "source": [
        "df.head"
      ],
      "execution_count": 3,
      "outputs": [
        {
          "output_type": "execute_result",
          "data": {
            "text/plain": [
              "<bound method NDFrame.head of         CRIM    ZN  INDUS  CHAS    NOX  ...  RAD    TAX  PTRATIO       B  LSTAT\n",
              "0    0.00632  18.0   2.31   0.0  0.538  ...  1.0  296.0     15.3  396.90   4.98\n",
              "1    0.02731   0.0   7.07   0.0  0.469  ...  2.0  242.0     17.8  396.90   9.14\n",
              "2    0.02729   0.0   7.07   0.0  0.469  ...  2.0  242.0     17.8  392.83   4.03\n",
              "3    0.03237   0.0   2.18   0.0  0.458  ...  3.0  222.0     18.7  394.63   2.94\n",
              "4    0.06905   0.0   2.18   0.0  0.458  ...  3.0  222.0     18.7  396.90   5.33\n",
              "..       ...   ...    ...   ...    ...  ...  ...    ...      ...     ...    ...\n",
              "501  0.06263   0.0  11.93   0.0  0.573  ...  1.0  273.0     21.0  391.99   9.67\n",
              "502  0.04527   0.0  11.93   0.0  0.573  ...  1.0  273.0     21.0  396.90   9.08\n",
              "503  0.06076   0.0  11.93   0.0  0.573  ...  1.0  273.0     21.0  396.90   5.64\n",
              "504  0.10959   0.0  11.93   0.0  0.573  ...  1.0  273.0     21.0  393.45   6.48\n",
              "505  0.04741   0.0  11.93   0.0  0.573  ...  1.0  273.0     21.0  396.90   7.88\n",
              "\n",
              "[506 rows x 13 columns]>"
            ]
          },
          "metadata": {
            "tags": []
          },
          "execution_count": 3
        }
      ]
    },
    {
      "cell_type": "code",
      "metadata": {
        "id": "rUAajcdR4CEm"
      },
      "source": [
        "y = boston_data.target"
      ],
      "execution_count": 4,
      "outputs": []
    },
    {
      "cell_type": "code",
      "metadata": {
        "id": "aS2aez2c4HQT"
      },
      "source": [
        "# print(f\"The value of y is {y}\")"
      ],
      "execution_count": 5,
      "outputs": []
    },
    {
      "cell_type": "markdown",
      "metadata": {
        "id": "BvngM4x85ooh"
      },
      "source": [
        "# **Brief Introduction to Decision tree**\n",
        "\n",
        "Using Decision Tree Regressor"
      ]
    },
    {
      "cell_type": "code",
      "metadata": {
        "id": "h9-YUFRP5icZ"
      },
      "source": [
        "from sklearn.tree import DecisionTreeRegressor"
      ],
      "execution_count": 6,
      "outputs": []
    },
    {
      "cell_type": "code",
      "metadata": {
        "id": "4yc4HV4z53Zc"
      },
      "source": [
        "X = df[['LSTAT']].values"
      ],
      "execution_count": 7,
      "outputs": []
    },
    {
      "cell_type": "code",
      "metadata": {
        "id": "9jRHXQSL0miw"
      },
      "source": [
        "tree = DecisionTreeRegressor(max_depth=5)"
      ],
      "execution_count": 8,
      "outputs": []
    },
    {
      "cell_type": "code",
      "metadata": {
        "colab": {
          "base_uri": "https://localhost:8080/"
        },
        "id": "CCtI54G00seH",
        "outputId": "c02a57f7-b3cb-497e-c9e3-fb6cce1424cb"
      },
      "source": [
        "tree.fit(X,y)"
      ],
      "execution_count": 9,
      "outputs": [
        {
          "output_type": "execute_result",
          "data": {
            "text/plain": [
              "DecisionTreeRegressor(ccp_alpha=0.0, criterion='mse', max_depth=5,\n",
              "                      max_features=None, max_leaf_nodes=None,\n",
              "                      min_impurity_decrease=0.0, min_impurity_split=None,\n",
              "                      min_samples_leaf=1, min_samples_split=2,\n",
              "                      min_weight_fraction_leaf=0.0, presort='deprecated',\n",
              "                      random_state=None, splitter='best')"
            ]
          },
          "metadata": {
            "tags": []
          },
          "execution_count": 9
        }
      ]
    },
    {
      "cell_type": "code",
      "metadata": {
        "id": "bRKLs6Gc0woM"
      },
      "source": [
        "sort_idx = X.flatten().argsort()"
      ],
      "execution_count": 10,
      "outputs": []
    },
    {
      "cell_type": "code",
      "metadata": {
        "colab": {
          "base_uri": "https://localhost:8080/",
          "height": 514
        },
        "id": "oBl_uqYG3IeK",
        "outputId": "96737c18-426c-4d08-df61-8f030dffd88c"
      },
      "source": [
        "plt.figure(figsize=(10,8))\n",
        "plt.scatter(X[sort_idx], y[sort_idx])\n",
        "plt.plot(X[sort_idx],tree.predict(X[sort_idx]),color='k')\n",
        "plt.xlabel('LSTAT')\n",
        "plt.ylabel('MEDV')"
      ],
      "execution_count": 11,
      "outputs": [
        {
          "output_type": "execute_result",
          "data": {
            "text/plain": [
              "Text(0, 0.5, 'MEDV')"
            ]
          },
          "metadata": {
            "tags": []
          },
          "execution_count": 11
        },
        {
          "output_type": "display_data",
          "data": {
            "image/png": "[encoded data removed]",
            "text/plain": [
              "<Figure size 720x576 with 1 Axes>"
            ]
          },
          "metadata": {
            "tags": [],
            "needs_background": "light"
          }
        }
      ]
    },
    {
      "cell_type": "code",
      "metadata": {
        "id": "hdVUj-3a355X"
      },
      "source": [
        "from sklearn.model_selection import train_test_split\n",
        "from sklearn.metrics import mean_squared_error,r2_score"
      ],
      "execution_count": 12,
      "outputs": []
    },
    {
      "cell_type": "code",
      "metadata": {
        "id": "q-3Udq0j2SEF"
      },
      "source": [
        "X = df.values\n"
      ],
      "execution_count": 13,
      "outputs": []
    },
    {
      "cell_type": "code",
      "metadata": {
        "id": "Pby-pDuM2egz"
      },
      "source": [
        "X_train, X_test, y_train, y_test = train_test_split(X,y,test_size = 0.3,random_state = 42)"
      ],
      "execution_count": 14,
      "outputs": []
    },
    {
      "cell_type": "code",
      "metadata": {
        "id": "49ZujHQ92zbJ"
      },
      "source": [
        "from sklearn.ensemble import RandomForestRegressor"
      ],
      "execution_count": 15,
      "outputs": []
    },
    {
      "cell_type": "code",
      "metadata": {
        "id": "cGWni21_29aa"
      },
      "source": [
        "forest = RandomForestRegressor(n_estimators=500, criterion='mse', random_state=42, n_jobs=1)"
      ],
      "execution_count": 16,
      "outputs": []
    },
    {
      "cell_type": "code",
      "metadata": {
        "colab": {
          "base_uri": "https://localhost:8080/"
        },
        "id": "KwluvVXP3I37",
        "outputId": "6f829a99-60ec-490f-d1fe-f11c1c1abc00"
      },
      "source": [
        "forest.fit(X_train, y_train)"
      ],
      "execution_count": 17,
      "outputs": [
        {
          "output_type": "execute_result",
          "data": {
            "text/plain": [
              "RandomForestRegressor(bootstrap=True, ccp_alpha=0.0, criterion='mse',\n",
              "                      max_depth=None, max_features='auto', max_leaf_nodes=None,\n",
              "                      max_samples=None, min_impurity_decrease=0.0,\n",
              "                      min_impurity_split=None, min_samples_leaf=1,\n",
              "                      min_samples_split=2, min_weight_fraction_leaf=0.0,\n",
              "                      n_estimators=500, n_jobs=1, oob_score=False,\n",
              "                      random_state=42, verbose=0, warm_start=False)"
            ]
          },
          "metadata": {
            "tags": []
          },
          "execution_count": 17
        }
      ]
    },
    {
      "cell_type": "code",
      "metadata": {
        "id": "cZuyIenH3TRq"
      },
      "source": [
        "y_train_pred = forest.predict(X_train)"
      ],
      "execution_count": 18,
      "outputs": []
    },
    {
      "cell_type": "code",
      "metadata": {
        "id": "eYg98aZC3ouB"
      },
      "source": [
        "y_test_pred = forest.predict(X_test)"
      ],
      "execution_count": 19,
      "outputs": []
    },
    {
      "cell_type": "code",
      "metadata": {
        "colab": {
          "base_uri": "https://localhost:8080/"
        },
        "id": "fzvH35VC3tiF",
        "outputId": "15308e23-4d0a-4104-c9f5-c448bff5c260"
      },
      "source": [
        "mse_train = mean_squared_error(y_train , y_train_pred)\n",
        "mse_test = mean_squared_error(y_test,y_test_pred)\n",
        "print(f'MSE TRAIN : {mse_train}')\n",
        "print(f'MSE TEST : {mse_test}')"
      ],
      "execution_count": 20,
      "outputs": [
        {
          "output_type": "stream",
          "text": [
            "MSE TRAIN : 1.8700342163841717\n",
            "MSE TEST : 9.392062673421051\n"
          ],
          "name": "stdout"
        }
      ]
    },
    {
      "cell_type": "code",
      "metadata": {
        "colab": {
          "base_uri": "https://localhost:8080/"
        },
        "id": "oyI_sGwG5JNt",
        "outputId": "c55ebe1e-5e90-4081-abe2-1e446cc2ce30"
      },
      "source": [
        "R_squared_train = r2_score(y_train , y_train_pred)\n",
        "R_squared_test = r2_score(y_test,y_test_pred)\n",
        "print(f'R-squared TRAIN : {R_squared_train}')\n",
        "print(f'R-squared TEST : {R_squared_test}')"
      ],
      "execution_count": 21,
      "outputs": [
        {
          "output_type": "stream",
          "text": [
            "R-squared TRAIN : 0.9787245955118005\n",
            "R-squared TEST : 0.8739542009113459\n"
          ],
          "name": "stdout"
        }
      ]
    },
    {
      "cell_type": "code",
      "metadata": {
        "id": "zrtNupJX5qMs"
      },
      "source": [
        ""
      ],
      "execution_count": 21,
      "outputs": []
    },
    {
      "cell_type": "markdown",
      "metadata": {
        "id": "EED_4wFe6Eww"
      },
      "source": [
        "# **Brief Introduction to AdaBoost**"
      ]
    },
    {
      "cell_type": "code",
      "metadata": {
        "id": "s9sdPGRu6PZD"
      },
      "source": [
        "from sklearn.ensemble import AdaBoostRegressor"
      ],
      "execution_count": 22,
      "outputs": []
    },
    {
      "cell_type": "code",
      "metadata": {
        "id": "aBHidZKW6WPR"
      },
      "source": [
        "ada  = AdaBoostRegressor(DecisionTreeRegressor(max_depth=4), n_estimators=500, random_state=42)"
      ],
      "execution_count": 23,
      "outputs": []
    },
    {
      "cell_type": "code",
      "metadata": {
        "colab": {
          "base_uri": "https://localhost:8080/"
        },
        "id": "xpV4vKKn6sxp",
        "outputId": "c05790c5-5162-4e74-e3ed-8db80ea932b2"
      },
      "source": [
        "ada.fit(X_train, y_train)"
      ],
      "execution_count": 24,
      "outputs": [
        {
          "output_type": "execute_result",
          "data": {
            "text/plain": [
              "AdaBoostRegressor(base_estimator=DecisionTreeRegressor(ccp_alpha=0.0,\n",
              "                                                       criterion='mse',\n",
              "                                                       max_depth=4,\n",
              "                                                       max_features=None,\n",
              "                                                       max_leaf_nodes=None,\n",
              "                                                       min_impurity_decrease=0.0,\n",
              "                                                       min_impurity_split=None,\n",
              "                                                       min_samples_leaf=1,\n",
              "                                                       min_samples_split=2,\n",
              "                                                       min_weight_fraction_leaf=0.0,\n",
              "                                                       presort='deprecated',\n",
              "                                                       random_state=None,\n",
              "                                                       splitter='best'),\n",
              "                  learning_rate=1.0, loss='linear', n_estimators=500,\n",
              "                  random_state=42)"
            ]
          },
          "metadata": {
            "tags": []
          },
          "execution_count": 24
        }
      ]
    },
    {
      "cell_type": "code",
      "metadata": {
        "id": "O_LgORxK6x6M"
      },
      "source": [
        "y_train_pred = ada.predict(X_train)"
      ],
      "execution_count": 25,
      "outputs": []
    },
    {
      "cell_type": "code",
      "metadata": {
        "id": "WSp9C45w6858"
      },
      "source": [
        "y_test_pred = ada.predict(X_test)"
      ],
      "execution_count": 26,
      "outputs": []
    },
    {
      "cell_type": "code",
      "metadata": {
        "colab": {
          "base_uri": "https://localhost:8080/"
        },
        "id": "pWnNQo747CVa",
        "outputId": "fc829ef6-777e-4a31-c5c0-6e9259dd1c7a"
      },
      "source": [
        "mse_train = mean_squared_error(y_train , y_train_pred)\n",
        "mse_test = mean_squared_error(y_test,y_test_pred)\n",
        "print(f'MSE TRAIN : {mse_train}')\n",
        "print(f'MSE TEST : {mse_test}')"
      ],
      "execution_count": 27,
      "outputs": [
        {
          "output_type": "stream",
          "text": [
            "MSE TRAIN : 4.660495418580552\n",
            "MSE TEST : 13.494910482902208\n"
          ],
          "name": "stdout"
        }
      ]
    },
    {
      "cell_type": "code",
      "metadata": {
        "colab": {
          "base_uri": "https://localhost:8080/"
        },
        "id": "Tle-Tbvk7IQp",
        "outputId": "5b33c660-ee1c-4046-92f4-a828e3db9689"
      },
      "source": [
        "R_squared_train = r2_score(y_train , y_train_pred)\n",
        "R_squared_test = r2_score(y_test,y_test_pred)\n",
        "print(f'R-squared TRAIN : {R_squared_train}')\n",
        "print(f'R-squared TEST : {R_squared_test}')"
      ],
      "execution_count": 28,
      "outputs": [
        {
          "output_type": "stream",
          "text": [
            "R-squared TRAIN : 0.9469774807984944\n",
            "R-squared TEST : 0.8188920970192286\n"
          ],
          "name": "stdout"
        }
      ]
    },
    {
      "cell_type": "markdown",
      "metadata": {
        "id": "e_ATzXrSrBPD"
      },
      "source": [
        "# RANSAC Regressor\n",
        "\n",
        "> Indented block\n",
        "\n"
      ]
    },
    {
      "cell_type": "code",
      "metadata": {
        "id": "YjqC7Hbz7LT-",
        "colab": {
          "base_uri": "https://localhost:8080/"
        },
        "outputId": "59b50630-20c8-4389-9488-e8d3afde0f4d"
      },
      "source": [
        "X = df['RM'].values.reshape(-1,1)\n",
        "print(f'DF Columns {df.columns}')\n",
        "y = df['LSTAT'].values"
      ],
      "execution_count": 29,
      "outputs": [
        {
          "output_type": "stream",
          "text": [
            "DF Columns Index(['CRIM', 'ZN', 'INDUS', 'CHAS', 'NOX', 'RM', 'AGE', 'DIS', 'RAD', 'TAX',\n",
            "       'PTRATIO', 'B', 'LSTAT'],\n",
            "      dtype='object')\n"
          ],
          "name": "stdout"
        }
      ]
    },
    {
      "cell_type": "code",
      "metadata": {
        "id": "tsugLeGwGCjz"
      },
      "source": [
        "from sklearn.linear_model import RANSACRegressor"
      ],
      "execution_count": 30,
      "outputs": []
    },
    {
      "cell_type": "code",
      "metadata": {
        "id": "Q8EloV6zGiFM"
      },
      "source": [
        "ransac = RANSACRegressor()"
      ],
      "execution_count": 31,
      "outputs": []
    },
    {
      "cell_type": "code",
      "metadata": {
        "colab": {
          "base_uri": "https://localhost:8080/"
        },
        "id": "ueAph1AIGnOQ",
        "outputId": "bb65fd68-1fbd-4c18-803b-e9d82698442e"
      },
      "source": [
        "ransac.fit(X,y)"
      ],
      "execution_count": 32,
      "outputs": [
        {
          "output_type": "execute_result",
          "data": {
            "text/plain": [
              "RANSACRegressor(base_estimator=None, is_data_valid=None, is_model_valid=None,\n",
              "                loss='absolute_loss', max_skips=inf, max_trials=100,\n",
              "                min_samples=None, random_state=None, residual_threshold=None,\n",
              "                stop_n_inliers=inf, stop_probability=0.99, stop_score=inf)"
            ]
          },
          "metadata": {
            "tags": []
          },
          "execution_count": 32
        }
      ]
    },
    {
      "cell_type": "code",
      "metadata": {
        "id": "Qh4LjC_KGrJ5"
      },
      "source": [
        "inlier_mask = ransac.inlier_mask_"
      ],
      "execution_count": 33,
      "outputs": []
    },
    {
      "cell_type": "code",
      "metadata": {
        "id": "p03LMdBdGxJv"
      },
      "source": [
        "outlier_mask = np.logical_not(inlier_mask)"
      ],
      "execution_count": 34,
      "outputs": []
    },
    {
      "cell_type": "code",
      "metadata": {
        "colab": {
          "base_uri": "https://localhost:8080/"
        },
        "id": "yiyh7X7dG3yk",
        "outputId": "979ca5c7-5cec-4926-c38a-e77684d61ed7"
      },
      "source": [
        "np.arange(3,10,1)"
      ],
      "execution_count": 35,
      "outputs": [
        {
          "output_type": "execute_result",
          "data": {
            "text/plain": [
              "array([3, 4, 5, 6, 7, 8, 9])"
            ]
          },
          "metadata": {
            "tags": []
          },
          "execution_count": 35
        }
      ]
    },
    {
      "cell_type": "code",
      "metadata": {
        "id": "AHQPVripG7N5"
      },
      "source": [
        "line_X = np.arange(3,10,1)\n",
        "\n",
        "line_y_ransac = ransac.predict(line_X.reshape(-1,1))\n"
      ],
      "execution_count": 36,
      "outputs": []
    },
    {
      "cell_type": "code",
      "metadata": {
        "id": "2gCOylsGHPDh",
        "colab": {
          "base_uri": "https://localhost:8080/",
          "height": 502
        },
        "outputId": "141b665b-e805-4053-fc15-1932f5e7a3a7"
      },
      "source": [
        " sns.set(style='darkgrid',context =  'notebook')\n",
        " plt.figure(figsize=(12,8))\n",
        " plt.scatter(X[inlier_mask] , y[inlier_mask], c = 'blue' , marker='o' , label = 'inliners')\n",
        " plt.scatter(X[outlier_mask] , y [outlier_mask] , c = 'green' , marker='s' , label = 'Outlier')\n",
        " plt.plot(line_X , line_y_ransac,color = 'red')\n",
        " plt.xlabel(\"Average Number of Rooms per dwelling\")\n",
        " plt.ylabel(\"Median Value of owner occupied homes in $1000 \")\n",
        " plt.legend(loc = 'upper left')\n",
        " plt.show()"
      ],
      "execution_count": 37,
      "outputs": [
        {
          "output_type": "display_data",
          "data": {
            "image/png": "[encoded data removed]",
            "text/plain": [
              "<Figure size 864x576 with 1 Axes>"
            ]
          },
          "metadata": {
            "tags": []
          }
        }
      ]
    },
    {
      "cell_type": "code",
      "metadata": {
        "colab": {
          "base_uri": "https://localhost:8080/"
        },
        "id": "1DV4SJdgPzck",
        "outputId": "f6dfeb11-698b-44c9-f2ff-e769b13710d0"
      },
      "source": [
        "ransac.estimator_.coef_"
      ],
      "execution_count": 38,
      "outputs": [
        {
          "output_type": "execute_result",
          "data": {
            "text/plain": [
              "array([-3.38654821])"
            ]
          },
          "metadata": {
            "tags": []
          },
          "execution_count": 38
        }
      ]
    },
    {
      "cell_type": "code",
      "metadata": {
        "colab": {
          "base_uri": "https://localhost:8080/"
        },
        "id": "J7RbqrOoP7uy",
        "outputId": "bd780ebe-ac68-426d-e7fe-e21b3a8358fe"
      },
      "source": [
        "ransac.estimator_.intercept_"
      ],
      "execution_count": 39,
      "outputs": [
        {
          "output_type": "execute_result",
          "data": {
            "text/plain": [
              "30.69566711919996"
            ]
          },
          "metadata": {
            "tags": []
          },
          "execution_count": 39
        }
      ]
    },
    {
      "cell_type": "markdown",
      "metadata": {
        "id": "dmHpaqZhRf8x"
      },
      "source": [
        "Evaluate Performance of a Regression Model"
      ]
    },
    {
      "cell_type": "code",
      "metadata": {
        "id": "KZaCt1URP_2S"
      },
      "source": [
        "from sklearn.model_selection import train_test_split"
      ],
      "execution_count": 40,
      "outputs": []
    },
    {
      "cell_type": "code",
      "metadata": {
        "id": "fzRIlDLGR0tV"
      },
      "source": [
        "X = df.iloc[:,:-1].values"
      ],
      "execution_count": 41,
      "outputs": []
    },
    {
      "cell_type": "code",
      "metadata": {
        "id": "SBef-nN1R6zC"
      },
      "source": [
        "y = boston_data.target"
      ],
      "execution_count": 42,
      "outputs": []
    },
    {
      "cell_type": "code",
      "metadata": {
        "id": "HjaM73TJSDIh"
      },
      "source": [
        "X_train, X_test, y_train, y_test = train_test_split(X, y,test_size = 0.2,random_state = 0)"
      ],
      "execution_count": 43,
      "outputs": []
    },
    {
      "cell_type": "code",
      "metadata": {
        "id": "uS4Yyz8bSgeh"
      },
      "source": [
        "from sklearn.linear_model import LinearRegression\n",
        "lr = LinearRegression()"
      ],
      "execution_count": 44,
      "outputs": []
    },
    {
      "cell_type": "code",
      "metadata": {
        "colab": {
          "base_uri": "https://localhost:8080/"
        },
        "id": "_gAk8sPnSoXD",
        "outputId": "fec7dd70-0d0f-407f-99b5-11792100019f"
      },
      "source": [
        "lr.fit(X_train, y_train)"
      ],
      "execution_count": 45,
      "outputs": [
        {
          "output_type": "execute_result",
          "data": {
            "text/plain": [
              "LinearRegression(copy_X=True, fit_intercept=True, n_jobs=None, normalize=False)"
            ]
          },
          "metadata": {
            "tags": []
          },
          "execution_count": 45
        }
      ]
    },
    {
      "cell_type": "code",
      "metadata": {
        "id": "4YaISo5dTB7i"
      },
      "source": [
        "y_train_pred = lr.predict(X_train)\n"
      ],
      "execution_count": 46,
      "outputs": []
    },
    {
      "cell_type": "code",
      "metadata": {
        "id": "00T2gBuKTP6n"
      },
      "source": [
        "y_test_pred = lr.predict(X_test)"
      ],
      "execution_count": 47,
      "outputs": []
    },
    {
      "cell_type": "code",
      "metadata": {
        "id": "2OVpzfy_Touw"
      },
      "source": [
        ""
      ],
      "execution_count": 47,
      "outputs": []
    },
    {
      "cell_type": "markdown",
      "metadata": {
        "id": "dD1lN4MgTy-s"
      },
      "source": [
        "# **Method 1 : Residual Analysis**"
      ]
    },
    {
      "cell_type": "code",
      "metadata": {
        "colab": {
          "base_uri": "https://localhost:8080/",
          "height": 440
        },
        "id": "47L1R2fYT6Z0",
        "outputId": "9b54a76e-2f25-4aad-db93-098d79087863"
      },
      "source": [
        "plt.figure(figsize=(12,8))\n",
        "plt.scatter(y_train_pred , y_train_pred-y_train,c = 'blue' , marker = 'o' , label = 'Training Data')\n",
        "plt.scatter(y_test_pred , y_test_pred-y_test,c = 'green' , marker = 's' , label = 'Testing Data')\n",
        "plt.xlabel('Predicted Values')\n",
        "plt.ylabel(\"Residual Values\")\n",
        "plt.legend(loc = 'upper left')\n",
        "plt.hlines(y=0,xmin = -10, xmax = 50, lw=2, color = 'k')\n",
        "plt.xlim([-10, 50])\n",
        "plt.show()"
      ],
      "execution_count": 48,
      "outputs": [
        {
          "output_type": "display_data",
          "data": {
            "image/png": "[encoded data removed]",
            "text/plain": [
              "<Figure size 864x576 with 1 Axes>"
            ]
          },
          "metadata": {
            "tags": []
          }
        }
      ]
    },
    {
      "cell_type": "markdown",
      "metadata": {
        "id": "7hA53MxkV_nf"
      },
      "source": [
        "# **Method 2: Mean Squared Error(MSE)**"
      ]
    },
    {
      "cell_type": "code",
      "metadata": {
        "id": "I91YLFbEUc6d"
      },
      "source": [
        "from sklearn.metrics import mean_squared_error"
      ],
      "execution_count": 49,
      "outputs": []
    },
    {
      "cell_type": "code",
      "metadata": {
        "colab": {
          "base_uri": "https://localhost:8080/"
        },
        "id": "K3sxoGWAXb32",
        "outputId": "9a259791-253c-443c-b585-4aa1377d4354"
      },
      "source": [
        "mean_squared_error(y_train, y_train_pred)"
      ],
      "execution_count": 50,
      "outputs": [
        {
          "output_type": "execute_result",
          "data": {
            "text/plain": [
              "23.417088948696783"
            ]
          },
          "metadata": {
            "tags": []
          },
          "execution_count": 50
        }
      ]
    },
    {
      "cell_type": "code",
      "metadata": {
        "colab": {
          "base_uri": "https://localhost:8080/"
        },
        "id": "p83crYH0Xgw8",
        "outputId": "caa807eb-e37c-412f-9c16-8ee594f6e24c"
      },
      "source": [
        "mean_squared_error(y_test , y_test_pred)"
      ],
      "execution_count": 51,
      "outputs": [
        {
          "output_type": "execute_result",
          "data": {
            "text/plain": [
              "41.57943357713574"
            ]
          },
          "metadata": {
            "tags": []
          },
          "execution_count": 51
        }
      ]
    },
    {
      "cell_type": "code",
      "metadata": {
        "id": "l_VKbvkEXnjT"
      },
      "source": [
        ""
      ],
      "execution_count": 51,
      "outputs": []
    },
    {
      "cell_type": "markdown",
      "metadata": {
        "id": "6XUgYXwx-erH"
      },
      "source": [
        "# **Method 3 : Coefficient of determination**"
      ]
    },
    {
      "cell_type": "code",
      "metadata": {
        "id": "C3-ScS_p-lMb"
      },
      "source": [
        "from sklearn.metrics import r2_score"
      ],
      "execution_count": 52,
      "outputs": []
    },
    {
      "cell_type": "code",
      "metadata": {
        "colab": {
          "base_uri": "https://localhost:8080/"
        },
        "id": "yFqJ7rlD-stE",
        "outputId": "c9eabed5-7941-49b5-f760-f5a04ac2a9d0"
      },
      "source": [
        "r2_score(y_train,y_train_pred)"
      ],
      "execution_count": 53,
      "outputs": [
        {
          "output_type": "execute_result",
          "data": {
            "text/plain": [
              "0.7249698640460449"
            ]
          },
          "metadata": {
            "tags": []
          },
          "execution_count": 53
        }
      ]
    },
    {
      "cell_type": "code",
      "metadata": {
        "colab": {
          "base_uri": "https://localhost:8080/"
        },
        "id": "HvQZrssw-x6n",
        "outputId": "37f5fd8d-9cd2-4496-bf59-eb36ce33ac45"
      },
      "source": [
        "r2_score(y_test, y_test_pred)"
      ],
      "execution_count": 54,
      "outputs": [
        {
          "output_type": "execute_result",
          "data": {
            "text/plain": [
              "0.48937454707281813"
            ]
          },
          "metadata": {
            "tags": []
          },
          "execution_count": 54
        }
      ]
    },
    {
      "cell_type": "markdown",
      "metadata": {
        "id": "EART2y4lasHR"
      },
      "source": [
        "# Near Perfect Model"
      ]
    },
    {
      "cell_type": "code",
      "metadata": {
        "id": "EJZETooz-5om",
        "colab": {
          "base_uri": "https://localhost:8080/",
          "height": 485
        },
        "outputId": "4b1d75c1-5765-49e7-9ab8-ab968a67db20"
      },
      "source": [
        "generate_random = np.random.RandomState(0)\n",
        "x = 10 * generate_random.rand(1000)\n",
        "y = 3*x + np.random.randn(1000)\n",
        "plt.figure(figsize=(10,8))\n",
        "plt.scatter(x,y);\n",
        "plt.show()"
      ],
      "execution_count": 55,
      "outputs": [
        {
          "output_type": "display_data",
          "data": {
            "image/png": "[encoded data removed]",
            "text/plain": [
              "<Figure size 720x576 with 1 Axes>"
            ]
          },
          "metadata": {
            "tags": []
          }
        }
      ]
    },
    {
      "cell_type": "code",
      "metadata": {
        "id": "xNnZEHRabt_k"
      },
      "source": [
        "from sklearn.model_selection import train_test_split"
      ],
      "execution_count": 56,
      "outputs": []
    },
    {
      "cell_type": "code",
      "metadata": {
        "id": "4gxMTrm9BOSB"
      },
      "source": [
        "X_train, X_test, y_train, y_test = train_test_split(x , y, test_size=0.3, random_state=0)"
      ],
      "execution_count": 58,
      "outputs": []
    },
    {
      "cell_type": "code",
      "metadata": {
        "id": "JSA0NOkTBe-5"
      },
      "source": [
        "from sklearn.linear_model import LinearRegression\n",
        "model = LinearRegression(fit_intercept=True)\n",
        "model.fit(X_train.reshape(-1, 1), y_train)\n",
        "\n",
        "y_train_pred = model.predict(X_train.reshape(-1, 1))\n",
        "y_test_pred = model.predict(X_test.reshape(-1,1))"
      ],
      "execution_count": 59,
      "outputs": []
    },
    {
      "cell_type": "markdown",
      "metadata": {
        "id": "ka7uEIVwDyWO"
      },
      "source": [
        "# **Method 1 : Residual Analysis**"
      ]
    },
    {
      "cell_type": "code",
      "metadata": {
        "colab": {
          "base_uri": "https://localhost:8080/",
          "height": 440
        },
        "id": "G3kNjU50CQGo",
        "outputId": "893503be-3361-4348-8fce-bc3fa1d39d0b"
      },
      "source": [
        "plt.figure(figsize=(12,8))\n",
        "plt.scatter(y_train_pred, y_train_pred - y_train , c='blue', marker = 'o', label='Traininig Data')\n",
        "plt.scatter(y_test_pred, y_test_pred - y_test, c='orange' , marker='*' , label='Test Data')\n",
        "plt.xlabel('Predicted Values')\n",
        "plt.ylabel('Residuals')\n",
        "plt.legend(loc='upper left')\n",
        "plt.hlines(y=0, xmin=-3, xmax=33, lw=2, color='k')\n",
        "plt.xlim([-5,35])\n",
        "plt.ylim([-25,25])\n",
        "plt.show()"
      ],
      "execution_count": 60,
      "outputs": [
        {
          "output_type": "display_data",
          "data": {
            "image/png": "[encoded data removed]",
            "text/plain": [
              "<Figure size 864x576 with 1 Axes>"
            ]
          },
          "metadata": {
            "tags": []
          }
        }
      ]
    },
    {
      "cell_type": "code",
      "metadata": {
        "id": "MUgA0klDFQNx"
      },
      "source": [
        ""
      ],
      "execution_count": null,
      "outputs": []
    },
    {
      "cell_type": "markdown",
      "metadata": {
        "id": "1UCA0Vc3FlQj"
      },
      "source": [
        "New Mean Square Error"
      ]
    },
    {
      "cell_type": "code",
      "metadata": {
        "colab": {
          "base_uri": "https://localhost:8080/"
        },
        "id": "7wvyFnN-Fnep",
        "outputId": "c43963c7-19ed-4055-c1c0-e45c82afc573"
      },
      "source": [
        "print(f'The new mean squared error of the train is {mean_squared_error(y_train,y_train_pred)}')"
      ],
      "execution_count": 62,
      "outputs": [
        {
          "output_type": "stream",
          "text": [
            "The new mean squared error of the train is 0.9979119570272654\n"
          ],
          "name": "stdout"
        }
      ]
    },
    {
      "cell_type": "code",
      "metadata": {
        "colab": {
          "base_uri": "https://localhost:8080/"
        },
        "id": "hSXlTEoSFwk-",
        "outputId": "773538ab-4b31-48c7-c7c2-123ea39f0dfb"
      },
      "source": [
        "print(f'The new mean squared error of the test is {mean_squared_error(y_test, y_test_pred)}')"
      ],
      "execution_count": 63,
      "outputs": [
        {
          "output_type": "stream",
          "text": [
            "The new mean squared error of the test is 1.0451140758583257\n"
          ],
          "name": "stdout"
        }
      ]
    },
    {
      "cell_type": "code",
      "metadata": {
        "colab": {
          "base_uri": "https://localhost:8080/"
        },
        "id": "p0GtmdsIGgqx",
        "outputId": "7615c6d4-4501-4adb-cbb8-bdb6284cfd21"
      },
      "source": [
        "print(f'The coefficient of determination of the train is {r2_score(y_train, y_train_pred)}')"
      ],
      "execution_count": 65,
      "outputs": [
        {
          "output_type": "stream",
          "text": [
            "The coefficient of determination of the test is 0.9867477693894975\n"
          ],
          "name": "stdout"
        }
      ]
    },
    {
      "cell_type": "code",
      "metadata": {
        "colab": {
          "base_uri": "https://localhost:8080/"
        },
        "id": "qYi6VmNzG6P5",
        "outputId": "5c0a46b1-ec25-40b4-f92f-9649a08468ab"
      },
      "source": [
        "print(f'The coefficient of the determination of the train is {r2_score(y_test,y_test_pred)}')"
      ],
      "execution_count": 66,
      "outputs": [
        {
          "output_type": "stream",
          "text": [
            "The coefficient of the determination of the train is 0.986874160992915\n"
          ],
          "name": "stdout"
        }
      ]
    },
    {
      "cell_type": "code",
      "metadata": {
        "id": "iSi6TiEVHLNE"
      },
      "source": [
        ""
      ],
      "execution_count": null,
      "outputs": []
    }
  ]
}