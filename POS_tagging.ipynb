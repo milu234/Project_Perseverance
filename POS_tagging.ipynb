{
  "nbformat": 4,
  "nbformat_minor": 0,
  "metadata": {
    "colab": {
      "name": "POS tagging.ipynb",
      "provenance": [],
      "mount_file_id": "1lSioYDzU2GF3om1f5kJpVm2fsKAYSond",
      "authorship_tag": "ABX9TyNLdAUmURHo9tFUv4eYfGJ6",
      "include_colab_link": true
    },
    "kernelspec": {
      "name": "python3",
      "display_name": "Python 3"
    },
    "language_info": {
      "name": "python"
    }
  },
  "cells": [
    {
      "cell_type": "markdown",
      "metadata": {
        "id": "view-in-github",
        "colab_type": "text"
      },
      "source": [
        "<a href=\"https://colab.research.google.com/github/milu234/Project_Perseverance/blob/main/POS_tagging.ipynb\" target=\"_parent\"><img src=\"https://colab.research.google.com/assets/colab-badge.svg\" alt=\"Open In Colab\"/></a>"
      ]
    },
    {
      "cell_type": "code",
      "metadata": {
        "id": "lW9NVo6H2Acn"
      },
      "source": [
        "import spacy\n"
      ],
      "execution_count": 24,
      "outputs": []
    },
    {
      "cell_type": "code",
      "metadata": {
        "id": "JrOPl5Mw2X6N"
      },
      "source": [
        "nlp = spacy.load('en_core_web_sm')"
      ],
      "execution_count": 25,
      "outputs": []
    },
    {
      "cell_type": "code",
      "metadata": {
        "id": "lZusPw2m2ec4"
      },
      "source": [
        "doc = nlp(u\"The quick brown fox jumped over the lazy dog's back.\")"
      ],
      "execution_count": 26,
      "outputs": []
    },
    {
      "cell_type": "code",
      "metadata": {
        "colab": {
          "base_uri": "https://localhost:8080/"
        },
        "id": "xHqm2gOU2vh6",
        "outputId": "8a7787fc-08bf-4a9c-d10b-d41865fa7e7c"
      },
      "source": [
        "print(doc[4].tag_)"
      ],
      "execution_count": 27,
      "outputs": [
        {
          "output_type": "stream",
          "text": [
            "VBD\n"
          ],
          "name": "stdout"
        }
      ]
    },
    {
      "cell_type": "markdown",
      "metadata": {
        "id": "lXskBCDK4hwO"
      },
      "source": [
        "VBD - VERB (Past Tense)"
      ]
    },
    {
      "cell_type": "code",
      "metadata": {
        "colab": {
          "base_uri": "https://localhost:8080/"
        },
        "id": "veuu9Dpq4YqZ",
        "outputId": "55da6b37-2869-455c-a20e-ceab49c47b80"
      },
      "source": [
        "print(doc[4].pos_)"
      ],
      "execution_count": 28,
      "outputs": [
        {
          "output_type": "stream",
          "text": [
            "VERB\n"
          ],
          "name": "stdout"
        }
      ]
    },
    {
      "cell_type": "code",
      "metadata": {
        "colab": {
          "base_uri": "https://localhost:8080/"
        },
        "id": "9yXWGJ9w4dNU",
        "outputId": "c7712c04-f302-4815-b8f3-ef2119d2b320"
      },
      "source": [
        "for token in doc:\n",
        "  print(f\"{token.text:{10}} {token.pos_:{10}} {token.tag_:{10}} {spacy.explain(token.tag_)} \")"
      ],
      "execution_count": 29,
      "outputs": [
        {
          "output_type": "stream",
          "text": [
            "The        DET        DT         determiner \n",
            "quick      ADJ        JJ         adjective \n",
            "brown      ADJ        JJ         adjective \n",
            "fox        NOUN       NN         noun, singular or mass \n",
            "jumped     VERB       VBD        verb, past tense \n",
            "over       ADP        IN         conjunction, subordinating or preposition \n",
            "the        DET        DT         determiner \n",
            "lazy       ADJ        JJ         adjective \n",
            "dog        NOUN       NN         noun, singular or mass \n",
            "'s         PART       POS        possessive ending \n",
            "back       NOUN       NN         noun, singular or mass \n",
            ".          PUNCT      .          punctuation mark, sentence closer \n"
          ],
          "name": "stdout"
        }
      ]
    },
    {
      "cell_type": "code",
      "metadata": {
        "id": "8kxt3qVc5PT6"
      },
      "source": [
        "doc = nlp(u'I read books on NLP.')"
      ],
      "execution_count": 30,
      "outputs": []
    },
    {
      "cell_type": "code",
      "metadata": {
        "id": "UK1wQ3rcMH9K"
      },
      "source": [
        "word = doc[1]"
      ],
      "execution_count": 31,
      "outputs": []
    },
    {
      "cell_type": "code",
      "metadata": {
        "colab": {
          "base_uri": "https://localhost:8080/",
          "height": 35
        },
        "id": "mSbi_H7JMJ8Q",
        "outputId": "ef7a91e8-8dd9-4472-dccf-2071599e72d0"
      },
      "source": [
        "word.text"
      ],
      "execution_count": 32,
      "outputs": [
        {
          "output_type": "execute_result",
          "data": {
            "application/vnd.google.colaboratory.intrinsic+json": {
              "type": "string"
            },
            "text/plain": [
              "'read'"
            ]
          },
          "metadata": {
            "tags": []
          },
          "execution_count": 32
        }
      ]
    },
    {
      "cell_type": "code",
      "metadata": {
        "colab": {
          "base_uri": "https://localhost:8080/"
        },
        "id": "MA9vxwqhMOHB",
        "outputId": "b68f9435-6a38-42ff-eaef-ed185e34ce1c"
      },
      "source": [
        "token = word\n",
        "print(f\"{token.text:{10}} {token.pos_:{10}} {token.tag_:{10}} {spacy.explain(token.tag_)} \")\n"
      ],
      "execution_count": 33,
      "outputs": [
        {
          "output_type": "stream",
          "text": [
            "read       VERB       VBD        verb, past tense \n"
          ],
          "name": "stdout"
        }
      ]
    },
    {
      "cell_type": "code",
      "metadata": {
        "id": "Iz22OgRWMWhH"
      },
      "source": [
        "doc = nlp(u'I read a book on NLP')"
      ],
      "execution_count": 34,
      "outputs": []
    },
    {
      "cell_type": "code",
      "metadata": {
        "id": "wFsJ5DDVMfg-"
      },
      "source": [
        "word = doc[1]"
      ],
      "execution_count": 35,
      "outputs": []
    },
    {
      "cell_type": "code",
      "metadata": {
        "colab": {
          "base_uri": "https://localhost:8080/",
          "height": 35
        },
        "id": "x07hChWgMhj9",
        "outputId": "138dcbd6-18b9-4e08-8d40-a977f09d1e1d"
      },
      "source": [
        "word.text"
      ],
      "execution_count": 36,
      "outputs": [
        {
          "output_type": "execute_result",
          "data": {
            "application/vnd.google.colaboratory.intrinsic+json": {
              "type": "string"
            },
            "text/plain": [
              "'read'"
            ]
          },
          "metadata": {
            "tags": []
          },
          "execution_count": 36
        }
      ]
    },
    {
      "cell_type": "code",
      "metadata": {
        "colab": {
          "base_uri": "https://localhost:8080/"
        },
        "id": "9ByV4BIuMkuV",
        "outputId": "5cc4b411-564f-424b-d914-22536b5edd85"
      },
      "source": [
        "token = word\n",
        "print(f\"{token.text:{10}} {token.pos_:{10}} {token.tag_:{10}} {spacy.explain(token.tag_)} \")\n"
      ],
      "execution_count": 37,
      "outputs": [
        {
          "output_type": "stream",
          "text": [
            "read       VERB       VBD        verb, past tense \n"
          ],
          "name": "stdout"
        }
      ]
    },
    {
      "cell_type": "code",
      "metadata": {
        "id": "A6zEA33NMob2"
      },
      "source": [
        "doc = nlp(u\"The quick brown fox jumped over the lazy dog's back.\")"
      ],
      "execution_count": 38,
      "outputs": []
    },
    {
      "cell_type": "code",
      "metadata": {
        "id": "WqYP62SNNy-D"
      },
      "source": [
        "POS_counts = doc.count_by(spacy.attrs.POS)"
      ],
      "execution_count": 39,
      "outputs": []
    },
    {
      "cell_type": "code",
      "metadata": {
        "colab": {
          "base_uri": "https://localhost:8080/"
        },
        "id": "PIgorH-8N6Lv",
        "outputId": "89e6b81f-3174-4ddb-acfa-5e677e0b4b2a"
      },
      "source": [
        "POS_counts"
      ],
      "execution_count": 40,
      "outputs": [
        {
          "output_type": "execute_result",
          "data": {
            "text/plain": [
              "{84: 3, 85: 1, 90: 2, 92: 3, 94: 1, 97: 1, 100: 1}"
            ]
          },
          "metadata": {
            "tags": []
          },
          "execution_count": 40
        }
      ]
    },
    {
      "cell_type": "code",
      "metadata": {
        "colab": {
          "base_uri": "https://localhost:8080/"
        },
        "id": "JHppHBKON7Rl",
        "outputId": "c653a8cc-0af9-4cda-a08f-3ed0ed75db10"
      },
      "source": [
        "for k,v in sorted(POS_counts.items()):\n",
        "  print(f'{k}. {doc.vocab[k].text:{5}} {v}')"
      ],
      "execution_count": 41,
      "outputs": [
        {
          "output_type": "stream",
          "text": [
            "84. ADJ   3\n",
            "85. ADP   1\n",
            "90. DET   2\n",
            "92. NOUN  3\n",
            "94. PART  1\n",
            "97. PUNCT 1\n",
            "100. VERB  1\n"
          ],
          "name": "stdout"
        }
      ]
    },
    {
      "cell_type": "code",
      "metadata": {
        "colab": {
          "base_uri": "https://localhost:8080/"
        },
        "id": "pbke4LU0OmGE",
        "outputId": "d7b530a1-c930-492c-f10e-126d5aabd919"
      },
      "source": [
        "TAG_counts = doc.count_by(spacy.attrs.TAG)\n",
        "\n",
        "for k,v in sorted(TAG_counts.items()):\n",
        "  print(f'{k}. {doc.vocab[k].text:{5}} {v}')"
      ],
      "execution_count": 42,
      "outputs": [
        {
          "output_type": "stream",
          "text": [
            "74. POS   1\n",
            "1292078113972184607. IN    1\n",
            "10554686591937588953. JJ    3\n",
            "12646065887601541794. .     1\n",
            "15267657372422890137. DT    2\n",
            "15308085513773655218. NN    3\n",
            "17109001835818727656. VBD   1\n"
          ],
          "name": "stdout"
        }
      ]
    },
    {
      "cell_type": "code",
      "metadata": {
        "colab": {
          "base_uri": "https://localhost:8080/"
        },
        "id": "q0LjAU9kPzKE",
        "outputId": "216c859d-2542-4bf7-b362-5bbe3cb9f803"
      },
      "source": [
        "len(doc.vocab)"
      ],
      "execution_count": 43,
      "outputs": [
        {
          "output_type": "execute_result",
          "data": {
            "text/plain": [
              "507"
            ]
          },
          "metadata": {
            "tags": []
          },
          "execution_count": 43
        }
      ]
    },
    {
      "cell_type": "code",
      "metadata": {
        "colab": {
          "base_uri": "https://localhost:8080/"
        },
        "id": "kPRR08TMP84o",
        "outputId": "eaa0696c-ed3a-4e89-f85a-daefce799641"
      },
      "source": [
        "DEP_counts = doc.count_by(spacy.attrs.DEP)\n",
        "\n",
        "for k,v in sorted(DEP_counts.items()):\n",
        "  print(f'{k}. {doc.vocab[k].text:{5}} {v}')"
      ],
      "execution_count": 44,
      "outputs": [
        {
          "output_type": "stream",
          "text": [
            "402. amod  3\n",
            "415. det   2\n",
            "429. nsubj 1\n",
            "439. pobj  1\n",
            "440. poss  1\n",
            "443. prep  1\n",
            "445. punct 1\n",
            "8110129090154140942. case  1\n",
            "8206900633647566924. ROOT  1\n"
          ],
          "name": "stdout"
        }
      ]
    },
    {
      "cell_type": "code",
      "metadata": {
        "id": "idzK6TKtQReu"
      },
      "source": [
        ""
      ],
      "execution_count": null,
      "outputs": []
    }
  ]
}