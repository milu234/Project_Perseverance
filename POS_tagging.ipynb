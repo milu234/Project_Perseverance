{
  "nbformat": 4,
  "nbformat_minor": 0,
  "metadata": {
    "colab": {
      "name": "POS tagging.ipynb",
      "provenance": [],
      "mount_file_id": "1lSioYDzU2GF3om1f5kJpVm2fsKAYSond",
      "authorship_tag": "ABX9TyMYlq6dppZgrQv6VEzZMIQK",
      "include_colab_link": true
    },
    "kernelspec": {
      "name": "python3",
      "display_name": "Python 3"
    },
    "language_info": {
      "name": "python"
    }
  },
  "cells": [
    {
      "cell_type": "markdown",
      "metadata": {
        "id": "view-in-github",
        "colab_type": "text"
      },
      "source": [
        "<a href=\"https://colab.research.google.com/github/milu234/Project_Perseverance/blob/main/POS_tagging.ipynb\" target=\"_parent\"><img src=\"https://colab.research.google.com/assets/colab-badge.svg\" alt=\"Open In Colab\"/></a>"
      ]
    },
    {
      "cell_type": "code",
      "metadata": {
        "id": "lW9NVo6H2Acn"
      },
      "source": [
        "import spacy\n"
      ],
      "execution_count": 1,
      "outputs": []
    },
    {
      "cell_type": "code",
      "metadata": {
        "id": "JrOPl5Mw2X6N"
      },
      "source": [
        "nlp = spacy.load('en_core_web_sm')"
      ],
      "execution_count": 2,
      "outputs": []
    },
    {
      "cell_type": "code",
      "metadata": {
        "id": "lZusPw2m2ec4"
      },
      "source": [
        "doc = nlp(u\"The quick brown fox jumped over the lazy dog's back.\")"
      ],
      "execution_count": 3,
      "outputs": []
    },
    {
      "cell_type": "code",
      "metadata": {
        "colab": {
          "base_uri": "https://localhost:8080/"
        },
        "id": "xHqm2gOU2vh6",
        "outputId": "611c7efe-261a-4734-ebf6-239dee4cb598"
      },
      "source": [
        "print(doc[4].tag_)"
      ],
      "execution_count": 4,
      "outputs": [
        {
          "output_type": "stream",
          "text": [
            "VBD\n"
          ],
          "name": "stdout"
        }
      ]
    },
    {
      "cell_type": "markdown",
      "metadata": {
        "id": "lXskBCDK4hwO"
      },
      "source": [
        "VBD - VERB (Past Tense)"
      ]
    },
    {
      "cell_type": "code",
      "metadata": {
        "colab": {
          "base_uri": "https://localhost:8080/"
        },
        "id": "veuu9Dpq4YqZ",
        "outputId": "deaaef49-0540-462e-8272-5356ed991112"
      },
      "source": [
        "print(doc[4].pos_)"
      ],
      "execution_count": 5,
      "outputs": [
        {
          "output_type": "stream",
          "text": [
            "VERB\n"
          ],
          "name": "stdout"
        }
      ]
    },
    {
      "cell_type": "code",
      "metadata": {
        "colab": {
          "base_uri": "https://localhost:8080/"
        },
        "id": "9yXWGJ9w4dNU",
        "outputId": "1203a824-0531-4e54-d1d7-38d69f7c6d2d"
      },
      "source": [
        "for token in doc:\n",
        "  print(f\"{token.text:{10}} {token.pos_:{10}} {token.tag_:{10}} {spacy.explain(token.tag_)} \")"
      ],
      "execution_count": 6,
      "outputs": [
        {
          "output_type": "stream",
          "text": [
            "The        DET        DT         determiner \n",
            "quick      ADJ        JJ         adjective \n",
            "brown      ADJ        JJ         adjective \n",
            "fox        NOUN       NN         noun, singular or mass \n",
            "jumped     VERB       VBD        verb, past tense \n",
            "over       ADP        IN         conjunction, subordinating or preposition \n",
            "the        DET        DT         determiner \n",
            "lazy       ADJ        JJ         adjective \n",
            "dog        NOUN       NN         noun, singular or mass \n",
            "'s         PART       POS        possessive ending \n",
            "back       NOUN       NN         noun, singular or mass \n",
            ".          PUNCT      .          punctuation mark, sentence closer \n"
          ],
          "name": "stdout"
        }
      ]
    },
    {
      "cell_type": "code",
      "metadata": {
        "id": "8kxt3qVc5PT6"
      },
      "source": [
        ""
      ],
      "execution_count": 6,
      "outputs": []
    }
  ]
}