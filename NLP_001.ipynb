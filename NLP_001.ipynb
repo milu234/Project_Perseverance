{
  "nbformat": 4,
  "nbformat_minor": 0,
  "metadata": {
    "colab": {
      "name": "NLP_001.ipynb",
      "provenance": [],
      "mount_file_id": "1L5wqqwMh8bHVO2ivSaFSl6AK-owaMuc3",
      "authorship_tag": "ABX9TyPiiBUcpjXrH3chTk/XgXev",
      "include_colab_link": true
    },
    "kernelspec": {
      "name": "python3",
      "display_name": "Python 3"
    },
    "language_info": {
      "name": "python"
    }
  },
  "cells": [
    {
      "cell_type": "markdown",
      "metadata": {
        "id": "view-in-github",
        "colab_type": "text"
      },
      "source": [
        "<a href=\"https://colab.research.google.com/github/milu234/Project_Perseverance/blob/main/NLP_001.ipynb\" target=\"_parent\"><img src=\"https://colab.research.google.com/assets/colab-badge.svg\" alt=\"Open In Colab\"/></a>"
      ]
    },
    {
      "cell_type": "code",
      "metadata": {
        "id": "s0jwG5YJZe7N"
      },
      "source": [
        "import re"
      ],
      "execution_count": 7,
      "outputs": []
    },
    {
      "cell_type": "code",
      "metadata": {
        "colab": {
          "base_uri": "https://localhost:8080/"
        },
        "id": "wrMA_LfyH-Eg",
        "outputId": "0581e502-3ac8-401c-b030-307beead1d43"
      },
      "source": [
        "person  = \"Milan\"\n",
        "print(f\"My name is {person}\")"
      ],
      "execution_count": 8,
      "outputs": [
        {
          "output_type": "stream",
          "text": [
            "My name is Milan\n"
          ],
          "name": "stdout"
        }
      ]
    },
    {
      "cell_type": "code",
      "metadata": {
        "colab": {
          "base_uri": "https://localhost:8080/"
        },
        "id": "CSxNcYEZJGOn",
        "outputId": "f4ab6828-1915-4b22-dba0-b9cce7e798ca"
      },
      "source": [
        "cd /content/drive/MyDrive/Colab Notebooks/NLP"
      ],
      "execution_count": 9,
      "outputs": [
        {
          "output_type": "stream",
          "text": [
            "/content/drive/MyDrive/Colab Notebooks/NLP\n"
          ],
          "name": "stdout"
        }
      ]
    },
    {
      "cell_type": "code",
      "metadata": {
        "colab": {
          "base_uri": "https://localhost:8080/"
        },
        "id": "Mw6vidvqUPaD",
        "outputId": "df8b5212-247c-4570-8480-ace538c708fa"
      },
      "source": [
        "!unzip  UPDATED_NLP_COURSE.zip"
      ],
      "execution_count": 10,
      "outputs": [
        {
          "output_type": "stream",
          "text": [
            "unzip:  cannot find or open UPDATED_NLP_COURSE.zip, UPDATED_NLP_COURSE.zip.zip or UPDATED_NLP_COURSE.zip.ZIP.\n"
          ],
          "name": "stdout"
        }
      ]
    },
    {
      "cell_type": "code",
      "metadata": {
        "colab": {
          "base_uri": "https://localhost:8080/"
        },
        "id": "hi5AV8ewUTnK",
        "outputId": "145c74ce-4c05-4d3f-ff2d-f59b3e4658a2"
      },
      "source": [
        "!ls"
      ],
      "execution_count": 11,
      "outputs": [
        {
          "output_type": "stream",
          "text": [
            "NLP_001.ipynb  UPDATED_NLP_COURSE\n"
          ],
          "name": "stdout"
        }
      ]
    },
    {
      "cell_type": "code",
      "metadata": {
        "colab": {
          "base_uri": "https://localhost:8080/",
          "height": 35
        },
        "id": "kppbNUjEakJY",
        "outputId": "46d37754-2ba2-479f-9c62-42263bab2fe1"
      },
      "source": [
        "number = '022-3333-4444 is the phone number'\n",
        "p = re.search(r'\\d{3}-\\d{4}-\\d{4}' , number)\n",
        "p.group()"
      ],
      "execution_count": 12,
      "outputs": [
        {
          "output_type": "execute_result",
          "data": {
            "application/vnd.google.colaboratory.intrinsic+json": {
              "type": "string"
            },
            "text/plain": [
              "'022-3333-4444'"
            ]
          },
          "metadata": {
            "tags": []
          },
          "execution_count": 12
        }
      ]
    },
    {
      "cell_type": "code",
      "metadata": {
        "id": "AG1jn38NUbtg",
        "colab": {
          "base_uri": "https://localhost:8080/"
        },
        "outputId": "40902193-6a56-4e53-e10d-42086286e6d2"
      },
      "source": [
        "text = \"the phone number of the agent is 406-555-1234.Call soon \"\n",
        "pattern = \"phone\"\n",
        "re.search(pattern,text)"
      ],
      "execution_count": 14,
      "outputs": [
        {
          "output_type": "execute_result",
          "data": {
            "text/plain": [
              "<re.Match object; span=(4, 9), match='phone'>"
            ]
          },
          "metadata": {
            "tags": []
          },
          "execution_count": 14
        }
      ]
    },
    {
      "cell_type": "code",
      "metadata": {
        "id": "TL2fFYzLaz5i"
      },
      "source": [
        "my_match = re.search(pattern,text)"
      ],
      "execution_count": 15,
      "outputs": []
    },
    {
      "cell_type": "code",
      "metadata": {
        "id": "JSpt5AXxa6TO"
      },
      "source": [
        "text = \"My phone is a new phone\"\n",
        "match = re.findall(pattern,text)\n",
        "\n"
      ],
      "execution_count": 17,
      "outputs": []
    },
    {
      "cell_type": "code",
      "metadata": {
        "colab": {
          "base_uri": "https://localhost:8080/"
        },
        "id": "Jyuqj_6NcpRl",
        "outputId": "d348d0e8-e0fb-4696-9a03-8c8303026872"
      },
      "source": [
        "match"
      ],
      "execution_count": 18,
      "outputs": [
        {
          "output_type": "execute_result",
          "data": {
            "text/plain": [
              "['phone', 'phone']"
            ]
          },
          "metadata": {
            "tags": []
          },
          "execution_count": 18
        }
      ]
    },
    {
      "cell_type": "code",
      "metadata": {
        "id": "__sdOpSQcu3B"
      },
      "source": [
        "text = \"the phone number of the agent is 022-545-1234.Call soon \""
      ],
      "execution_count": 25,
      "outputs": []
    },
    {
      "cell_type": "code",
      "metadata": {
        "id": "1c58ZvzGigQg"
      },
      "source": [
        "pattern = r'\\d{3}-\\d{3}-\\d{4}'"
      ],
      "execution_count": 26,
      "outputs": []
    },
    {
      "cell_type": "code",
      "metadata": {
        "id": "vHyC9mBsir2G"
      },
      "source": [
        "phone_number = re.search(pattern,text)"
      ],
      "execution_count": 27,
      "outputs": []
    },
    {
      "cell_type": "code",
      "metadata": {
        "colab": {
          "base_uri": "https://localhost:8080/",
          "height": 35
        },
        "id": "00_HbAYcix8z",
        "outputId": "b554110d-2c37-4200-dd81-89c8abc5f1e5"
      },
      "source": [
        "phone_number.group()"
      ],
      "execution_count": 28,
      "outputs": [
        {
          "output_type": "execute_result",
          "data": {
            "application/vnd.google.colaboratory.intrinsic+json": {
              "type": "string"
            },
            "text/plain": [
              "'022-545-1234'"
            ]
          },
          "metadata": {
            "tags": []
          },
          "execution_count": 28
        }
      ]
    },
    {
      "cell_type": "code",
      "metadata": {
        "id": "UR2dAdq_izis"
      },
      "source": [
        ""
      ],
      "execution_count": null,
      "outputs": []
    }
  ]
}