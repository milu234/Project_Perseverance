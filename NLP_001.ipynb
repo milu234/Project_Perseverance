{
  "nbformat": 4,
  "nbformat_minor": 0,
  "metadata": {
    "colab": {
      "name": "NLP_001.ipynb",
      "provenance": [],
      "mount_file_id": "1L5wqqwMh8bHVO2ivSaFSl6AK-owaMuc3",
      "authorship_tag": "ABX9TyNCzYLeeCmQdbJ0unEF9BIS",
      "include_colab_link": true
    },
    "kernelspec": {
      "name": "python3",
      "display_name": "Python 3"
    },
    "language_info": {
      "name": "python"
    }
  },
  "cells": [
    {
      "cell_type": "markdown",
      "metadata": {
        "id": "view-in-github",
        "colab_type": "text"
      },
      "source": [
        "<a href=\"https://colab.research.google.com/github/milu234/Project_Perseverance/blob/main/NLP_001.ipynb\" target=\"_parent\"><img src=\"https://colab.research.google.com/assets/colab-badge.svg\" alt=\"Open In Colab\"/></a>"
      ]
    },
    {
      "cell_type": "code",
      "metadata": {
        "id": "s0jwG5YJZe7N"
      },
      "source": [
        "import re"
      ],
      "execution_count": 29,
      "outputs": []
    },
    {
      "cell_type": "code",
      "metadata": {
        "colab": {
          "base_uri": "https://localhost:8080/"
        },
        "id": "wrMA_LfyH-Eg",
        "outputId": "304746dc-ae9d-4e65-fd58-f4e234643097"
      },
      "source": [
        "person  = \"Milan\"\n",
        "print(f\"My name is {person}\")"
      ],
      "execution_count": 30,
      "outputs": [
        {
          "output_type": "stream",
          "text": [
            "My name is Milan\n"
          ],
          "name": "stdout"
        }
      ]
    },
    {
      "cell_type": "code",
      "metadata": {
        "colab": {
          "base_uri": "https://localhost:8080/"
        },
        "id": "CSxNcYEZJGOn",
        "outputId": "c67432d7-113d-44ab-f11d-7eba2509a168"
      },
      "source": [
        "cd /content/drive/MyDrive/Colab Notebooks/NLP"
      ],
      "execution_count": 31,
      "outputs": [
        {
          "output_type": "stream",
          "text": [
            "/content/drive/MyDrive/Colab Notebooks/NLP\n"
          ],
          "name": "stdout"
        }
      ]
    },
    {
      "cell_type": "code",
      "metadata": {
        "colab": {
          "base_uri": "https://localhost:8080/"
        },
        "id": "Mw6vidvqUPaD",
        "outputId": "dd9dfce1-136f-4238-d560-668ef79df8bd"
      },
      "source": [
        "!unzip  UPDATED_NLP_COURSE.zip"
      ],
      "execution_count": 32,
      "outputs": [
        {
          "output_type": "stream",
          "text": [
            "unzip:  cannot find or open UPDATED_NLP_COURSE.zip, UPDATED_NLP_COURSE.zip.zip or UPDATED_NLP_COURSE.zip.ZIP.\n"
          ],
          "name": "stdout"
        }
      ]
    },
    {
      "cell_type": "code",
      "metadata": {
        "colab": {
          "base_uri": "https://localhost:8080/"
        },
        "id": "hi5AV8ewUTnK",
        "outputId": "8bd6da3f-f1d3-4c4a-acef-44a0068e0c67"
      },
      "source": [
        "!ls"
      ],
      "execution_count": 33,
      "outputs": [
        {
          "output_type": "stream",
          "text": [
            "NLP_001.ipynb  UPDATED_NLP_COURSE\n"
          ],
          "name": "stdout"
        }
      ]
    },
    {
      "cell_type": "code",
      "metadata": {
        "colab": {
          "base_uri": "https://localhost:8080/",
          "height": 35
        },
        "id": "kppbNUjEakJY",
        "outputId": "1c9f3536-aa5c-4337-8c53-bff5e28c7159"
      },
      "source": [
        "number = '022-3333-4444 is the phone number'\n",
        "p = re.search(r'\\d{3}-\\d{4}-\\d{4}' , number)\n",
        "p.group()"
      ],
      "execution_count": 34,
      "outputs": [
        {
          "output_type": "execute_result",
          "data": {
            "application/vnd.google.colaboratory.intrinsic+json": {
              "type": "string"
            },
            "text/plain": [
              "'022-3333-4444'"
            ]
          },
          "metadata": {
            "tags": []
          },
          "execution_count": 34
        }
      ]
    },
    {
      "cell_type": "code",
      "metadata": {
        "id": "AG1jn38NUbtg",
        "colab": {
          "base_uri": "https://localhost:8080/"
        },
        "outputId": "04bd4d03-4725-401d-ad87-b5aa1101b6ac"
      },
      "source": [
        "text = \"the phone number of the agent is 406-555-1234.Call soon \"\n",
        "pattern = \"phone\"\n",
        "re.search(pattern,text)"
      ],
      "execution_count": 35,
      "outputs": [
        {
          "output_type": "execute_result",
          "data": {
            "text/plain": [
              "<re.Match object; span=(4, 9), match='phone'>"
            ]
          },
          "metadata": {
            "tags": []
          },
          "execution_count": 35
        }
      ]
    },
    {
      "cell_type": "code",
      "metadata": {
        "id": "TL2fFYzLaz5i"
      },
      "source": [
        "my_match = re.search(pattern,text)"
      ],
      "execution_count": 36,
      "outputs": []
    },
    {
      "cell_type": "code",
      "metadata": {
        "id": "JSpt5AXxa6TO"
      },
      "source": [
        "text = \"My phone is a new phone\"\n",
        "match = re.findall(pattern,text)\n",
        "\n"
      ],
      "execution_count": 37,
      "outputs": []
    },
    {
      "cell_type": "code",
      "metadata": {
        "colab": {
          "base_uri": "https://localhost:8080/"
        },
        "id": "Jyuqj_6NcpRl",
        "outputId": "f1cf13f6-a848-4d55-fd55-95de6d5c5069"
      },
      "source": [
        "match"
      ],
      "execution_count": 38,
      "outputs": [
        {
          "output_type": "execute_result",
          "data": {
            "text/plain": [
              "['phone', 'phone']"
            ]
          },
          "metadata": {
            "tags": []
          },
          "execution_count": 38
        }
      ]
    },
    {
      "cell_type": "code",
      "metadata": {
        "id": "__sdOpSQcu3B"
      },
      "source": [
        "text = \"the phone number of the agent is 022-545-1234.Call soon \""
      ],
      "execution_count": 39,
      "outputs": []
    },
    {
      "cell_type": "code",
      "metadata": {
        "id": "1c58ZvzGigQg"
      },
      "source": [
        "pattern = r'(\\d{3})-(\\d{3})-(\\d{4})'"
      ],
      "execution_count": 43,
      "outputs": []
    },
    {
      "cell_type": "code",
      "metadata": {
        "id": "vHyC9mBsir2G"
      },
      "source": [
        "phone_number = re.search(pattern,text)"
      ],
      "execution_count": 44,
      "outputs": []
    },
    {
      "cell_type": "code",
      "metadata": {
        "colab": {
          "base_uri": "https://localhost:8080/",
          "height": 35
        },
        "id": "00_HbAYcix8z",
        "outputId": "f82c4f41-d37c-4fb5-b549-2ea81f052e10"
      },
      "source": [
        "phone_number.group(1)"
      ],
      "execution_count": 45,
      "outputs": [
        {
          "output_type": "execute_result",
          "data": {
            "application/vnd.google.colaboratory.intrinsic+json": {
              "type": "string"
            },
            "text/plain": [
              "'022'"
            ]
          },
          "metadata": {
            "tags": []
          },
          "execution_count": 45
        }
      ]
    },
    {
      "cell_type": "code",
      "metadata": {
        "colab": {
          "base_uri": "https://localhost:8080/"
        },
        "id": "UR2dAdq_izis",
        "outputId": "22f81689-45ff-47fe-ac73-3a7ab0f72d5f"
      },
      "source": [
        "re.search(r\"man|woman\",\"This man was here\")"
      ],
      "execution_count": 46,
      "outputs": [
        {
          "output_type": "execute_result",
          "data": {
            "text/plain": [
              "<re.Match object; span=(5, 8), match='man'>"
            ]
          },
          "metadata": {
            "tags": []
          },
          "execution_count": 46
        }
      ]
    },
    {
      "cell_type": "code",
      "metadata": {
        "colab": {
          "base_uri": "https://localhost:8080/"
        },
        "id": "E3D9Jhpk-48y",
        "outputId": "ac40b4d3-34e2-43ae-e0e8-0584241e25c7"
      },
      "source": [
        "re.findall(r\"..at\",\"This cat hat sat\")"
      ],
      "execution_count": 48,
      "outputs": [
        {
          "output_type": "execute_result",
          "data": {
            "text/plain": [
              "[' cat', ' hat', ' sat']"
            ]
          },
          "metadata": {
            "tags": []
          },
          "execution_count": 48
        }
      ]
    },
    {
      "cell_type": "code",
      "metadata": {
        "id": "2VOToL1c_Gp6"
      },
      "source": [
        "# ^ = startswith\n",
        "# $ = endswith"
      ],
      "execution_count": 49,
      "outputs": []
    },
    {
      "cell_type": "code",
      "metadata": {
        "colab": {
          "base_uri": "https://localhost:8080/"
        },
        "id": "yNN8ldFL_X-c",
        "outputId": "89a650c6-2a0d-4cd0-bf74-90fbaad6d47d"
      },
      "source": [
        "re.findall(r\"\\d$\" , \"This is a number 2 and 3\")"
      ],
      "execution_count": 50,
      "outputs": [
        {
          "output_type": "execute_result",
          "data": {
            "text/plain": [
              "['3']"
            ]
          },
          "metadata": {
            "tags": []
          },
          "execution_count": 50
        }
      ]
    },
    {
      "cell_type": "code",
      "metadata": {
        "colab": {
          "base_uri": "https://localhost:8080/"
        },
        "id": "jlxXtzFQ_kvJ",
        "outputId": "72cbcc8c-3e80-4dd2-fd96-3a84407a491f"
      },
      "source": [
        "re.findall(r\"^\\d\" , \"2 This is a number 2 and 3\")"
      ],
      "execution_count": 51,
      "outputs": [
        {
          "output_type": "execute_result",
          "data": {
            "text/plain": [
              "['2']"
            ]
          },
          "metadata": {
            "tags": []
          },
          "execution_count": 51
        }
      ]
    },
    {
      "cell_type": "code",
      "metadata": {
        "id": "6759jgSk_qBa"
      },
      "source": [
        "phrase = \"there are 3 numbers 34 inside 5 thi sentence\""
      ],
      "execution_count": 52,
      "outputs": []
    },
    {
      "cell_type": "code",
      "metadata": {
        "colab": {
          "base_uri": "https://localhost:8080/"
        },
        "id": "Xtyhifeh_y4W",
        "outputId": "abe69fbe-1c06-413e-fc71-64abd9c9c623"
      },
      "source": [
        "re.findall(r\"[^\\d]+\",phrase)"
      ],
      "execution_count": 54,
      "outputs": [
        {
          "output_type": "execute_result",
          "data": {
            "text/plain": [
              "['there are ', ' numbers ', ' inside ', ' thi sentence']"
            ]
          },
          "metadata": {
            "tags": []
          },
          "execution_count": 54
        }
      ]
    },
    {
      "cell_type": "code",
      "metadata": {
        "id": "Q26p-tGv_7fY"
      },
      "source": [
        "text = \"Only find the hyphenated-words. Were are the long-ish dash words?\""
      ],
      "execution_count": 55,
      "outputs": []
    },
    {
      "cell_type": "code",
      "metadata": {
        "colab": {
          "base_uri": "https://localhost:8080/"
        },
        "id": "Qr9kyGvYAkWj",
        "outputId": "c41ea47f-c9ff-4874-889a-e8677ab946e5"
      },
      "source": [
        "re.findall(r'[\\w]+-[\\w]+',text)"
      ],
      "execution_count": 56,
      "outputs": [
        {
          "output_type": "execute_result",
          "data": {
            "text/plain": [
              "['hyphenated-words', 'long-ish']"
            ]
          },
          "metadata": {
            "tags": []
          },
          "execution_count": 56
        }
      ]
    },
    {
      "cell_type": "markdown",
      "metadata": {
        "id": "AINWD5umCdD5"
      },
      "source": [
        "NLP Basics\n",
        "nltk vs spacey\n",
        "\n",
        "What is spacey \n",
        " - An open source NLP\n",
        " - for NLP spacey is used to state of the art to choose the effecient libraray\n",
        "\n",
        "\n",
        " What is NLTK?\n",
        "  - Natural Language ToolKit\n",
        "\n",
        "\n",
        "Spacey is better than nltk\n",
        "\n",
        "spacey does not contains pretrained model\n",
        "(Focus on spaces)\n",
        "\n",
        "\n",
        "\n"
      ]
    },
    {
      "cell_type": "code",
      "metadata": {
        "id": "RHS3lQk_A1T2"
      },
      "source": [
        ""
      ],
      "execution_count": null,
      "outputs": []
    }
  ]
}